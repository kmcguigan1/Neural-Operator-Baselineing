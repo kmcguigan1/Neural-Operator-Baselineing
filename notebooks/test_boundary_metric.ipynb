{
 "cells": [
  {
   "cell_type": "code",
   "execution_count": 24,
   "metadata": {},
   "outputs": [],
   "source": [
    "import numpy as np"
   ]
  },
  {
   "cell_type": "code",
   "execution_count": 55,
   "metadata": {},
   "outputs": [
    {
     "data": {
      "text/plain": [
       "(array([[[0.        , 0.        ],\n",
       "         [0.        , 0.11111111],\n",
       "         [0.        , 0.22222222],\n",
       "         [0.        , 0.33333333],\n",
       "         [0.        , 0.44444444],\n",
       "         [0.        , 0.44444444],\n",
       "         [0.        , 0.33333333],\n",
       "         [0.        , 0.22222222],\n",
       "         [0.        , 0.11111111],\n",
       "         [0.        , 0.        ]],\n",
       " \n",
       "        [[0.11111111, 0.        ],\n",
       "         [0.11111111, 0.11111111],\n",
       "         [0.11111111, 0.22222222],\n",
       "         [0.11111111, 0.33333333],\n",
       "         [0.11111111, 0.44444444],\n",
       "         [0.11111111, 0.44444444],\n",
       "         [0.11111111, 0.33333333],\n",
       "         [0.11111111, 0.22222222],\n",
       "         [0.11111111, 0.11111111],\n",
       "         [0.11111111, 0.        ]],\n",
       " \n",
       "        [[0.22222222, 0.        ],\n",
       "         [0.22222222, 0.11111111],\n",
       "         [0.22222222, 0.22222222],\n",
       "         [0.22222222, 0.33333333],\n",
       "         [0.22222222, 0.44444444],\n",
       "         [0.22222222, 0.44444444],\n",
       "         [0.22222222, 0.33333333],\n",
       "         [0.22222222, 0.22222222],\n",
       "         [0.22222222, 0.11111111],\n",
       "         [0.22222222, 0.        ]],\n",
       " \n",
       "        [[0.33333333, 0.        ],\n",
       "         [0.33333333, 0.11111111],\n",
       "         [0.33333333, 0.22222222],\n",
       "         [0.33333333, 0.33333333],\n",
       "         [0.33333333, 0.44444444],\n",
       "         [0.33333333, 0.44444444],\n",
       "         [0.33333333, 0.33333333],\n",
       "         [0.33333333, 0.22222222],\n",
       "         [0.33333333, 0.11111111],\n",
       "         [0.33333333, 0.        ]],\n",
       " \n",
       "        [[0.44444444, 0.        ],\n",
       "         [0.44444444, 0.11111111],\n",
       "         [0.44444444, 0.22222222],\n",
       "         [0.44444444, 0.33333333],\n",
       "         [0.44444444, 0.44444444],\n",
       "         [0.44444444, 0.44444444],\n",
       "         [0.44444444, 0.33333333],\n",
       "         [0.44444444, 0.22222222],\n",
       "         [0.44444444, 0.11111111],\n",
       "         [0.44444444, 0.        ]],\n",
       " \n",
       "        [[0.44444444, 0.        ],\n",
       "         [0.44444444, 0.11111111],\n",
       "         [0.44444444, 0.22222222],\n",
       "         [0.44444444, 0.33333333],\n",
       "         [0.44444444, 0.44444444],\n",
       "         [0.44444444, 0.44444444],\n",
       "         [0.44444444, 0.33333333],\n",
       "         [0.44444444, 0.22222222],\n",
       "         [0.44444444, 0.11111111],\n",
       "         [0.44444444, 0.        ]],\n",
       " \n",
       "        [[0.33333333, 0.        ],\n",
       "         [0.33333333, 0.11111111],\n",
       "         [0.33333333, 0.22222222],\n",
       "         [0.33333333, 0.33333333],\n",
       "         [0.33333333, 0.44444444],\n",
       "         [0.33333333, 0.44444444],\n",
       "         [0.33333333, 0.33333333],\n",
       "         [0.33333333, 0.22222222],\n",
       "         [0.33333333, 0.11111111],\n",
       "         [0.33333333, 0.        ]],\n",
       " \n",
       "        [[0.22222222, 0.        ],\n",
       "         [0.22222222, 0.11111111],\n",
       "         [0.22222222, 0.22222222],\n",
       "         [0.22222222, 0.33333333],\n",
       "         [0.22222222, 0.44444444],\n",
       "         [0.22222222, 0.44444444],\n",
       "         [0.22222222, 0.33333333],\n",
       "         [0.22222222, 0.22222222],\n",
       "         [0.22222222, 0.11111111],\n",
       "         [0.22222222, 0.        ]],\n",
       " \n",
       "        [[0.11111111, 0.        ],\n",
       "         [0.11111111, 0.11111111],\n",
       "         [0.11111111, 0.22222222],\n",
       "         [0.11111111, 0.33333333],\n",
       "         [0.11111111, 0.44444444],\n",
       "         [0.11111111, 0.44444444],\n",
       "         [0.11111111, 0.33333333],\n",
       "         [0.11111111, 0.22222222],\n",
       "         [0.11111111, 0.11111111],\n",
       "         [0.11111111, 0.        ]],\n",
       " \n",
       "        [[0.        , 0.        ],\n",
       "         [0.        , 0.11111111],\n",
       "         [0.        , 0.22222222],\n",
       "         [0.        , 0.33333333],\n",
       "         [0.        , 0.44444444],\n",
       "         [0.        , 0.44444444],\n",
       "         [0.        , 0.33333333],\n",
       "         [0.        , 0.22222222],\n",
       "         [0.        , 0.11111111],\n",
       "         [0.        , 0.        ]]]),\n",
       " (10, 10, 2))"
      ]
     },
     "execution_count": 55,
     "metadata": {},
     "output_type": "execute_result"
    }
   ],
   "source": [
    "x_bounds = np.linspace(start=0, stop=1, num=10).reshape(-1, 1).repeat(10, axis=1)\n",
    "x_bounds = np.stack((x_bounds, 1.0 - x_bounds), axis=-1).min(axis=-1)\n",
    "\n",
    "y_bounds = np.linspace(start=0, stop=1, num=10).reshape(1, -1).repeat(10, axis=0)\n",
    "y_bounds = np.stack((y_bounds, 1.0 - y_bounds), axis=-1).min(axis=-1)\n",
    "\n",
    "bounds = np.stack((x_bounds, y_bounds), axis=-1)\n",
    "bounds, bounds.shape"
   ]
  },
  {
   "cell_type": "code",
   "execution_count": null,
   "metadata": {},
   "outputs": [],
   "source": []
  },
  {
   "cell_type": "code",
   "execution_count": null,
   "metadata": {},
   "outputs": [],
   "source": [
    "scales = np.sqrt(np.sum(np.square(actuals), axis=()))\n",
    "error = forecasts - actuals"
   ]
  },
  {
   "cell_type": "code",
   "execution_count": 56,
   "metadata": {},
   "outputs": [
    {
     "data": {
      "text/plain": [
       "array([0., 0.])"
      ]
     },
     "execution_count": 56,
     "metadata": {},
     "output_type": "execute_result"
    }
   ],
   "source": [
    "bounds[0, 0]"
   ]
  },
  {
   "cell_type": "code",
   "execution_count": 57,
   "metadata": {},
   "outputs": [
    {
     "data": {
      "text/plain": [
       "array([0.11111111, 0.        ])"
      ]
     },
     "execution_count": 57,
     "metadata": {},
     "output_type": "execute_result"
    }
   ],
   "source": [
    "bounds[1, 0]"
   ]
  },
  {
   "cell_type": "code",
   "execution_count": 58,
   "metadata": {},
   "outputs": [
    {
     "data": {
      "text/plain": [
       "array([0.        , 0.11111111])"
      ]
     },
     "execution_count": 58,
     "metadata": {},
     "output_type": "execute_result"
    }
   ],
   "source": [
    "bounds[0, 1]"
   ]
  },
  {
   "cell_type": "code",
   "execution_count": 15,
   "metadata": {},
   "outputs": [
    {
     "data": {
      "text/plain": [
       "(array([[0.        , 0.11111111, 0.22222222, 0.33333333, 0.44444444,\n",
       "         0.55555556, 0.66666667, 0.77777778, 0.88888889, 1.        ],\n",
       "        [1.        , 0.88888889, 0.77777778, 0.66666667, 0.55555556,\n",
       "         0.44444444, 0.33333333, 0.22222222, 0.11111111, 0.        ]]),\n",
       " (2, 10))"
      ]
     },
     "execution_count": 15,
     "metadata": {},
     "output_type": "execute_result"
    }
   ],
   "source": [
    "x_bounds_stacked = np.vstack([x_bounds, 1.0 - x_bounds])\n",
    "x_bounds_stacked, x_bounds_stacked.shape"
   ]
  },
  {
   "cell_type": "code",
   "execution_count": 18,
   "metadata": {},
   "outputs": [
    {
     "data": {
      "text/plain": [
       "array([0.        , 0.11111111, 0.22222222, 0.33333333, 0.44444444,\n",
       "       0.44444444, 0.33333333, 0.22222222, 0.11111111, 0.        ])"
      ]
     },
     "execution_count": 18,
     "metadata": {},
     "output_type": "execute_result"
    }
   ],
   "source": [
    "x_bounds_stacked_min = x_bounds_stacked.min(axis=0)\n",
    "x_bounds_stacked_min"
   ]
  },
  {
   "cell_type": "code",
   "execution_count": 23,
   "metadata": {},
   "outputs": [
    {
     "data": {
      "text/plain": [
       "(100,)"
      ]
     },
     "execution_count": 23,
     "metadata": {},
     "output_type": "execute_result"
    }
   ],
   "source": [
    "x_bounds_stacked_min.repeat(10, axis=0).shape"
   ]
  },
  {
   "cell_type": "code",
   "execution_count": null,
   "metadata": {},
   "outputs": [],
   "source": []
  }
 ],
 "metadata": {
  "kernelspec": {
   "display_name": "torch-no",
   "language": "python",
   "name": "python3"
  },
  "language_info": {
   "codemirror_mode": {
    "name": "ipython",
    "version": 3
   },
   "file_extension": ".py",
   "mimetype": "text/x-python",
   "name": "python",
   "nbconvert_exporter": "python",
   "pygments_lexer": "ipython3",
   "version": "3.11.7"
  }
 },
 "nbformat": 4,
 "nbformat_minor": 2
}
