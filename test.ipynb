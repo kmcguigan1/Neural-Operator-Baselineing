{
 "cells": [
  {
   "cell_type": "code",
   "execution_count": 72,
   "metadata": {},
   "outputs": [],
   "source": [
    "import numpy as np \n",
    "import pandas as pd"
   ]
  },
  {
   "cell_type": "code",
   "execution_count": 32,
   "metadata": {},
   "outputs": [
    {
     "name": "stderr",
     "output_type": "stream",
     "text": [
      "\u001b[34m\u001b[1mwandb\u001b[0m: \u001b[33mWARNING\u001b[0m If you're specifying your api key in code, ensure this code is not shared publicly.\n",
      "\u001b[34m\u001b[1mwandb\u001b[0m: \u001b[33mWARNING\u001b[0m Consider setting the WANDB_API_KEY environment variable, or running `wandb login` from the command line.\n",
      "\u001b[34m\u001b[1mwandb\u001b[0m: Appending key for api.wandb.ai to your netrc file: /Users/kiernan/.netrc\n"
     ]
    },
    {
     "data": {
      "text/plain": [
       "True"
      ]
     },
     "execution_count": 32,
     "metadata": {},
     "output_type": "execute_result"
    }
   ],
   "source": [
    "import wandb\n",
    
   ]
  },
  {
   "cell_type": "code",
   "execution_count": 33,
   "metadata": {},
   "outputs": [
    {
     "data": {
      "text/plain": [
       "<wandb.apis.public.Api at 0x13ea386d0>"
      ]
     },
     "execution_count": 33,
     "metadata": {},
     "output_type": "execute_result"
    }
   ],
   "source": [
    "api = wandb.Api()\n",
    "api"
   ]
  },
  {
   "cell_type": "code",
   "execution_count": 84,
   "metadata": {},
   "outputs": [
    {
     "name": "stdout",
     "output_type": "stream",
     "text": [
      "smooth-rain-643\n",
      "polished-paper-642\n",
      "polar-firebrand-641\n",
      "sweet-sponge-640\n",
      "soft-valley-639\n",
      "polar-sweep-20\n",
      "neat-sweep-19\n",
      "dry-sweep-18\n",
      "dashing-sweep-17\n",
      "likely-sweep-15\n",
      "fearless-sweep-14\n",
      "sparkling-sweep-13\n",
      "rare-sweep-11\n",
      "dainty-sweep-10\n",
      "astral-sweep-9\n",
      "visionary-sweep-7\n",
      "lilac-sweep-6\n",
      "floral-sweep-5\n",
      "pretty-sweep-2\n"
     ]
    }
   ],
   "source": [
    "runs = api.runs(path='PDE-Operators-Baselines', filters={\n",
    "    'config.EXP_KIND':'LATENT_FNO',\n",
    "    '$or': [\n",
    "        {'config.DATA_FILE':'burgers_64_x_non_period_y_non_period_varying_nu.npz'},\n",
    "        {'config.DATA_FILE':'burgers_64_x_non_period_y_non_period_varying_nu.npy'}\n",
    "    ]}, include_sweeps=True, per_page=100)\n",
    "runs\n",
    "for r in runs:\n",
    "    print(r.name)"
   ]
  },
  {
   "cell_type": "code",
   "execution_count": 86,
   "metadata": {},
   "outputs": [
    {
     "data": {
      "text/html": [
       "<div>\n",
       "<style scoped>\n",
       "    .dataframe tbody tr th:only-of-type {\n",
       "        vertical-align: middle;\n",
       "    }\n",
       "\n",
       "    .dataframe tbody tr th {\n",
       "        vertical-align: top;\n",
       "    }\n",
       "\n",
       "    .dataframe thead th {\n",
       "        text-align: right;\n",
       "    }\n",
       "</style>\n",
       "<table border=\"1\" class=\"dataframe\">\n",
       "  <thead>\n",
       "    <tr style=\"text-align: right;\">\n",
       "      <th></th>\n",
       "      <th>Run Name</th>\n",
       "      <th>Latent Dims</th>\n",
       "      <th>Number of Layers</th>\n",
       "      <th>Fourier Modes 1</th>\n",
       "      <th>Fourier Modes 2</th>\n",
       "      <th>MLP Ratio</th>\n",
       "      <th>Loss Function</th>\n",
       "    </tr>\n",
       "  </thead>\n",
       "  <tbody>\n",
       "    <tr>\n",
       "      <th>0</th>\n",
       "      <td>polar-sweep-20</td>\n",
       "      <td>64</td>\n",
       "      <td>6</td>\n",
       "      <td>16</td>\n",
       "      <td>12</td>\n",
       "      <td>2</td>\n",
       "      <td>L1NORM</td>\n",
       "    </tr>\n",
       "    <tr>\n",
       "      <th>1</th>\n",
       "      <td>neat-sweep-19</td>\n",
       "      <td>32</td>\n",
       "      <td>4</td>\n",
       "      <td>12</td>\n",
       "      <td>16</td>\n",
       "      <td>2</td>\n",
       "      <td>MSE</td>\n",
       "    </tr>\n",
       "    <tr>\n",
       "      <th>2</th>\n",
       "      <td>dry-sweep-18</td>\n",
       "      <td>16</td>\n",
       "      <td>2</td>\n",
       "      <td>8</td>\n",
       "      <td>16</td>\n",
       "      <td>1</td>\n",
       "      <td>L1NORM</td>\n",
       "    </tr>\n",
       "    <tr>\n",
       "      <th>3</th>\n",
       "      <td>dashing-sweep-17</td>\n",
       "      <td>32</td>\n",
       "      <td>2</td>\n",
       "      <td>8</td>\n",
       "      <td>8</td>\n",
       "      <td>1</td>\n",
       "      <td>L1NORM</td>\n",
       "    </tr>\n",
       "    <tr>\n",
       "      <th>4</th>\n",
       "      <td>likely-sweep-15</td>\n",
       "      <td>64</td>\n",
       "      <td>2</td>\n",
       "      <td>8</td>\n",
       "      <td>12</td>\n",
       "      <td>1</td>\n",
       "      <td>L1NORM</td>\n",
       "    </tr>\n",
       "    <tr>\n",
       "      <th>5</th>\n",
       "      <td>fearless-sweep-14</td>\n",
       "      <td>64</td>\n",
       "      <td>4</td>\n",
       "      <td>16</td>\n",
       "      <td>12</td>\n",
       "      <td>1</td>\n",
       "      <td>L1NORM</td>\n",
       "    </tr>\n",
       "    <tr>\n",
       "      <th>6</th>\n",
       "      <td>sparkling-sweep-13</td>\n",
       "      <td>64</td>\n",
       "      <td>2</td>\n",
       "      <td>12</td>\n",
       "      <td>12</td>\n",
       "      <td>2</td>\n",
       "      <td>L1NORM</td>\n",
       "    </tr>\n",
       "    <tr>\n",
       "      <th>7</th>\n",
       "      <td>rare-sweep-11</td>\n",
       "      <td>16</td>\n",
       "      <td>6</td>\n",
       "      <td>8</td>\n",
       "      <td>12</td>\n",
       "      <td>1</td>\n",
       "      <td>L1NORM</td>\n",
       "    </tr>\n",
       "    <tr>\n",
       "      <th>8</th>\n",
       "      <td>dainty-sweep-10</td>\n",
       "      <td>32</td>\n",
       "      <td>2</td>\n",
       "      <td>8</td>\n",
       "      <td>16</td>\n",
       "      <td>2</td>\n",
       "      <td>MSE</td>\n",
       "    </tr>\n",
       "    <tr>\n",
       "      <th>9</th>\n",
       "      <td>astral-sweep-9</td>\n",
       "      <td>32</td>\n",
       "      <td>4</td>\n",
       "      <td>8</td>\n",
       "      <td>16</td>\n",
       "      <td>2</td>\n",
       "      <td>MSE</td>\n",
       "    </tr>\n",
       "    <tr>\n",
       "      <th>10</th>\n",
       "      <td>visionary-sweep-7</td>\n",
       "      <td>32</td>\n",
       "      <td>2</td>\n",
       "      <td>8</td>\n",
       "      <td>16</td>\n",
       "      <td>2</td>\n",
       "      <td>L1NORM</td>\n",
       "    </tr>\n",
       "    <tr>\n",
       "      <th>11</th>\n",
       "      <td>lilac-sweep-6</td>\n",
       "      <td>16</td>\n",
       "      <td>4</td>\n",
       "      <td>8</td>\n",
       "      <td>12</td>\n",
       "      <td>1</td>\n",
       "      <td>L1NORM</td>\n",
       "    </tr>\n",
       "    <tr>\n",
       "      <th>12</th>\n",
       "      <td>floral-sweep-5</td>\n",
       "      <td>32</td>\n",
       "      <td>6</td>\n",
       "      <td>16</td>\n",
       "      <td>16</td>\n",
       "      <td>1</td>\n",
       "      <td>MSE</td>\n",
       "    </tr>\n",
       "    <tr>\n",
       "      <th>13</th>\n",
       "      <td>pretty-sweep-2</td>\n",
       "      <td>32</td>\n",
       "      <td>6</td>\n",
       "      <td>8</td>\n",
       "      <td>12</td>\n",
       "      <td>1</td>\n",
       "      <td>MSE</td>\n",
       "    </tr>\n",
       "  </tbody>\n",
       "</table>\n",
       "</div>"
      ],
      "text/plain": [
       "              Run Name  Latent Dims  Number of Layers  Fourier Modes 1  \\\n",
       "0       polar-sweep-20           64                 6               16   \n",
       "1        neat-sweep-19           32                 4               12   \n",
       "2         dry-sweep-18           16                 2                8   \n",
       "3     dashing-sweep-17           32                 2                8   \n",
       "4      likely-sweep-15           64                 2                8   \n",
       "5    fearless-sweep-14           64                 4               16   \n",
       "6   sparkling-sweep-13           64                 2               12   \n",
       "7        rare-sweep-11           16                 6                8   \n",
       "8      dainty-sweep-10           32                 2                8   \n",
       "9       astral-sweep-9           32                 4                8   \n",
       "10   visionary-sweep-7           32                 2                8   \n",
       "11       lilac-sweep-6           16                 4                8   \n",
       "12      floral-sweep-5           32                 6               16   \n",
       "13      pretty-sweep-2           32                 6                8   \n",
       "\n",
       "    Fourier Modes 2  MLP Ratio Loss Function  \n",
       "0                12          2        L1NORM  \n",
       "1                16          2           MSE  \n",
       "2                16          1        L1NORM  \n",
       "3                 8          1        L1NORM  \n",
       "4                12          1        L1NORM  \n",
       "5                12          1        L1NORM  \n",
       "6                12          2        L1NORM  \n",
       "7                12          1        L1NORM  \n",
       "8                16          2           MSE  \n",
       "9                16          2           MSE  \n",
       "10               16          2        L1NORM  \n",
       "11               12          1        L1NORM  \n",
       "12               16          1           MSE  \n",
       "13               12          1           MSE  "
      ]
     },
     "execution_count": 86,
     "metadata": {},
     "output_type": "execute_result"
    }
   ],
   "source": [
    "run_data = []\n",
    "for run in runs:\n",
    "    if('ABLATION' in run.config.keys() and run.config['ABLATION'] == True):\n",
    "        continue\n",
    "    run_data.append({\n",
    "        'Run Name': run.name,\n",
    "        'Latent Dims': run.config['LATENT_DIMS'],\n",
    "        'Number of Layers': run.config['DEPTH'],\n",
    "        'Fourier Modes 1': run.config['MODES1'],\n",
    "        'Fourier Modes 2': run.config['MODES2'],\n",
    "        'MLP Ratio': run.config['MLP_RATIO'],\n",
    "        'Loss Function': run.config['LOSS'],\n",
    "    })\n",
    "run_data = pd.DataFrame(run_data)\n",
    "run_data.head(n=100)"
   ]
  },
  {
   "cell_type": "code",
   "execution_count": 79,
   "metadata": {},
   "outputs": [
    {
     "data": {
      "text/plain": [
       "19"
      ]
     },
     "execution_count": 79,
     "metadata": {},
     "output_type": "execute_result"
    }
   ],
   "source": [
    "count = 0\n",
    "for r in runs:\n",
    "    count += 1\n",
    "count"
   ]
  },
  {
   "cell_type": "code",
   "execution_count": 53,
   "metadata": {},
   "outputs": [
    {
     "data": {
      "text/plain": [
       "0.05271615087985992"
      ]
     },
     "execution_count": 53,
     "metadata": {},
     "output_type": "execute_result"
    }
   ],
   "source": [
    "r.summaryMetrics['test/final/mean_absolute_error']"
   ]
  },
  {
   "cell_type": "code",
   "execution_count": null,
   "metadata": {},
   "outputs": [],
   "source": []
  }
 ],
 "metadata": {
  "kernelspec": {
   "display_name": "torch-neur-opp",
   "language": "python",
   "name": "python3"
  },
  "language_info": {
   "codemirror_mode": {
    "name": "ipython",
    "version": 3
   },
   "file_extension": ".py",
   "mimetype": "text/x-python",
   "name": "python",
   "nbconvert_exporter": "python",
   "pygments_lexer": "ipython3",
   "version": "3.11.6"
  }
 },
 "nbformat": 4,
 "nbformat_minor": 2
}
