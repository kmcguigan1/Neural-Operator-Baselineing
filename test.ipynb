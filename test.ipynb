{
 "cells": [
  {
   "cell_type": "code",
   "execution_count": 27,
   "metadata": {},
   "outputs": [],
   "source": [
    "import numpy as np"
   ]
  },
  {
   "cell_type": "code",
   "execution_count": 32,
   "metadata": {},
   "outputs": [
    {
     "data": {
      "text/plain": [
       "array([[[0. , 0. ],\n",
       "        [0.5, 0. ],\n",
       "        [1. , 0. ]],\n",
       "\n",
       "       [[0. , 0.5],\n",
       "        [0.5, 0.5],\n",
       "        [1. , 0.5]],\n",
       "\n",
       "       [[0. , 1. ],\n",
       "        [0.5, 1. ],\n",
       "        [1. , 1. ]]], dtype=float32)"
      ]
     },
     "execution_count": 32,
     "metadata": {},
     "output_type": "execute_result"
    }
   ],
   "source": [
    "grid_x, grid_y = np.meshgrid(\n",
    "    np.linspace(start=0, stop=1.0, num=3),\n",
    "    np.linspace(start=0, stop=1.0, num=3)\n",
    ")\n",
    "grid = np.concatenate((\n",
    "    np.expand_dims(grid_x, axis=-1),\n",
    "    np.expand_dims(grid_y, axis=-1)\n",
    "), axis=-1).astype(np.float32)\n",
    "\n",
    "grid"
   ]
  },
  {
   "cell_type": "code",
   "execution_count": 33,
   "metadata": {},
   "outputs": [
    {
     "data": {
      "text/plain": [
       "array([[0.        , 0.5       , 1.        , 0.5       , 0.70710678,\n",
       "        1.11803399, 1.        , 1.11803399, 1.41421356],\n",
       "       [0.5       , 0.        , 0.5       , 0.70710678, 0.5       ,\n",
       "        0.70710678, 1.11803399, 1.        , 1.11803399],\n",
       "       [1.        , 0.5       , 0.        , 1.11803399, 0.70710678,\n",
       "        0.5       , 1.41421356, 1.11803399, 1.        ],\n",
       "       [0.5       , 0.70710678, 1.11803399, 0.        , 0.5       ,\n",
       "        1.        , 0.5       , 0.70710678, 1.11803399],\n",
       "       [0.70710678, 0.5       , 0.70710678, 0.5       , 0.        ,\n",
       "        0.5       , 0.70710678, 0.5       , 0.70710678],\n",
       "       [1.11803399, 0.70710678, 0.5       , 1.        , 0.5       ,\n",
       "        0.        , 1.11803399, 0.70710678, 0.5       ],\n",
       "       [1.        , 1.11803399, 1.41421356, 0.5       , 0.70710678,\n",
       "        1.11803399, 0.        , 0.5       , 1.        ],\n",
       "       [1.11803399, 1.        , 1.11803399, 0.70710678, 0.5       ,\n",
       "        0.70710678, 0.5       , 0.        , 0.5       ],\n",
       "       [1.41421356, 1.11803399, 1.        , 1.11803399, 0.70710678,\n",
       "        0.5       , 1.        , 0.5       , 0.        ]])"
      ]
     },
     "execution_count": 33,
     "metadata": {},
     "output_type": "execute_result"
    }
   ],
   "source": [
    "from scipy.spatial.distance import cdist\n",
    "\n",
    "dists = cdist(grid.reshape(-1,2), grid.reshape(-1,2))\n",
    "dists"
   ]
  },
  {
   "cell_type": "code",
   "execution_count": 38,
   "metadata": {},
   "outputs": [
    {
     "data": {
      "text/plain": [
       "(array([0, 0, 1, 1, 1, 2, 2, 3, 3, 3, 4, 4, 4, 4, 5, 5, 5, 6, 6, 7, 7, 7,\n",
       "        8, 8]),\n",
       " array([1, 3, 0, 2, 4, 1, 5, 0, 4, 6, 1, 3, 5, 7, 2, 4, 8, 3, 7, 4, 6, 8,\n",
       "        5, 7]))"
      ]
     },
     "execution_count": 38,
     "metadata": {},
     "output_type": "execute_result"
    }
   ],
   "source": [
    "distance_cuttoff = 0.5\n",
    "connections = np.where(np.logical_and(dists <= distance_cuttoff, dists > 0))\n",
    "connections"
   ]
  },
  {
   "cell_type": "code",
   "execution_count": 10,
   "metadata": {},
   "outputs": [
    {
     "data": {
      "text/plain": [
       "tensor([[[[0.5464]]],\n",
       "\n",
       "\n",
       "        [[[0.5559]]]])"
      ]
     },
     "execution_count": 10,
     "metadata": {},
     "output_type": "execute_result"
    }
   ],
   "source": [
    "import torch\n",
    "\n",
    "x = torch.rand(2, 2, 2, 3)\n",
    "torch.mean(x, dim=(1,2,3), keepdim=True)"
   ]
  },
  {
   "cell_type": "code",
   "execution_count": null,
   "metadata": {},
   "outputs": [],
   "source": []
  }
 ],
 "metadata": {
  "kernelspec": {
   "display_name": "torch-neur-opp",
   "language": "python",
   "name": "python3"
  },
  "language_info": {
   "codemirror_mode": {
    "name": "ipython",
    "version": 3
   },
   "file_extension": ".py",
   "mimetype": "text/x-python",
   "name": "python",
   "nbconvert_exporter": "python",
   "pygments_lexer": "ipython3",
   "version": "3.11.6"
  }
 },
 "nbformat": 4,
 "nbformat_minor": 2
}
