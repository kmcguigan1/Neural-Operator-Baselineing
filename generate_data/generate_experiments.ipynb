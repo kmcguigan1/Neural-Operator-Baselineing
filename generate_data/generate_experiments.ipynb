{
 "cells": [
  {
   "cell_type": "code",
   "execution_count": 27,
   "metadata": {},
   "outputs": [],
   "source": [
    "import numpy as np \n",
    "import yaml"
   ]
  },
  {
   "cell_type": "code",
   "execution_count": 28,
   "metadata": {},
   "outputs": [],
   "source": [
    "AFNO_PARAMS = {\n",
    "    'PATCH_SIZE': [3, 5, 7],\n",
    "    'LATENT_DIMS': [16, 32, 64, 128],\n",
    "    'NUM_BLOCKS': [1, 2, 4],\n",
    "    'DROP_RATE': [0.0, 0.2, 0.4],\n",
    "    'DROP_PATH_RATE': [0.0, 0.2, 0.4],\n",
    "    'MLP_RATIO': [1, 2],\n",
    "    'DEPTH': [2, 4, 6],\n",
    "    'NORMALIZATION': ['None', 'gaus', 'range']\n",
    "}\n",
    "\n",
    "CONV_LSTM_PARAMS = {\n",
    "    'LATENT_DIMS': [16, 32, 64, 128],\n",
    "    'PROJ_KERNEL_SIZE': [3, 5, 7],\n",
    "    'KERNEL_SIZE': [3, 5, 7],\n",
    "    'DEPTH': [2, 4, 6],\n",
    "    'NORMALIZATION': ['None', 'gaus', 'range']\n",
    "}\n",
    "\n",
    "FNO_PARAMS = {\n",
    "    'LATENT_DIMS': [16, 32, 64, 128],\n",
    "    'MODES1': [8, 12, 16],\n",
    "    'MODES2': [8, 12, 16],\n",
    "    'DROP_RATE': [0.0, 0.2, 0.4],\n",
    "    'MLP_RATIO': [1, 2],\n",
    "    'DEPTH': [2, 4, 6],\n",
    "    'NORMALIZATION': ['None', 'gaus', 'range']\n",
    "}\n",
    "\n",
    "GNO_PARAMS = {\n",
    "    'LATENT_DIMS': [16, 32, 64, 128],\n",
    "    'DROP_RATE': [0.0, 0.2, 0.4],\n",
    "    'MLP_RATIO': [1, 2],\n",
    "    'DEPTH': [2, 4, 6],\n",
    "    'NORMALIZATION': ['None', 'gaus', 'range']\n",
    "}\n",
    "\n",
    "VIT_PARAMS = {\n",
    "    'LATENT_DIMS': [16, 32, 64, 128],\n",
    "    'PATCH_SIZE': [3, 5, 7],\n",
    "    'DEPTH': [2, 4, 6],\n",
    "    'NHEAD': [1, 2, 4],\n",
    "    'DROPOUT': [0.0, 0.2, 0.4],\n",
    "    'NORMALIZATION': ['None', 'gaus', 'range']\n",
    "}"
   ]
  },
  {
   "cell_type": "code",
   "execution_count": 29,
   "metadata": {},
   "outputs": [
    {
     "name": "stdout",
     "output_type": "stream",
     "text": [
      "{'LATENT_DIMS': 128, 'MODES1': 8, 'MODES2': 12, 'DROP_RATE': 0.4, 'MLP_RATIO': 1, 'DEPTH': 6, 'NORMALIZATION': 'gaus'}\n",
      "{'LATENT_DIMS': 16, 'MODES1': 12, 'MODES2': 12, 'DROP_RATE': 0.0, 'MLP_RATIO': 2, 'DEPTH': 6, 'NORMALIZATION': 'range'}\n",
      "{'LATENT_DIMS': 32, 'MODES1': 16, 'MODES2': 8, 'DROP_RATE': 0.4, 'MLP_RATIO': 1, 'DEPTH': 2, 'NORMALIZATION': 'gaus'}\n",
      "{'LATENT_DIMS': 128, 'MODES1': 16, 'MODES2': 16, 'DROP_RATE': 0.2, 'MLP_RATIO': 1, 'DEPTH': 2, 'NORMALIZATION': 'range'}\n",
      "{'LATENT_DIMS': 128, 'MODES1': 8, 'MODES2': 8, 'DROP_RATE': 0.0, 'MLP_RATIO': 1, 'DEPTH': 2, 'NORMALIZATION': 'gaus'}\n",
      "{'LATENT_DIMS': 128, 'MODES1': 12, 'MODES2': 8, 'DROP_RATE': 0.4, 'MLP_RATIO': 2, 'DEPTH': 4, 'NORMALIZATION': 'gaus'}\n",
      "{'LATENT_DIMS': 32, 'MODES1': 12, 'MODES2': 8, 'DROP_RATE': 0.2, 'MLP_RATIO': 2, 'DEPTH': 4, 'NORMALIZATION': 'range'}\n",
      "{'LATENT_DIMS': 32, 'MODES1': 8, 'MODES2': 16, 'DROP_RATE': 0.4, 'MLP_RATIO': 1, 'DEPTH': 4, 'NORMALIZATION': 'range'}\n",
      "{'LATENT_DIMS': 128, 'MODES1': 16, 'MODES2': 12, 'DROP_RATE': 0.2, 'MLP_RATIO': 1, 'DEPTH': 6, 'NORMALIZATION': 'range'}\n",
      "{'LATENT_DIMS': 32, 'MODES1': 16, 'MODES2': 12, 'DROP_RATE': 0.4, 'MLP_RATIO': 2, 'DEPTH': 6, 'NORMALIZATION': 'range'}\n",
      "{'LATENT_DIMS': 64, 'MODES1': 8, 'MODES2': 12, 'DROP_RATE': 0.2, 'MLP_RATIO': 1, 'DEPTH': 2, 'NORMALIZATION': 'range'}\n",
      "{'LATENT_DIMS': 64, 'MODES1': 12, 'MODES2': 16, 'DROP_RATE': 0.4, 'MLP_RATIO': 1, 'DEPTH': 2, 'NORMALIZATION': 'gaus'}\n",
      "{'LATENT_DIMS': 64, 'MODES1': 16, 'MODES2': 12, 'DROP_RATE': 0.2, 'MLP_RATIO': 2, 'DEPTH': 2, 'NORMALIZATION': 'None'}\n",
      "{'LATENT_DIMS': 32, 'MODES1': 16, 'MODES2': 16, 'DROP_RATE': 0.4, 'MLP_RATIO': 2, 'DEPTH': 2, 'NORMALIZATION': 'None'}\n",
      "{'LATENT_DIMS': 32, 'MODES1': 16, 'MODES2': 12, 'DROP_RATE': 0.0, 'MLP_RATIO': 1, 'DEPTH': 2, 'NORMALIZATION': 'None'}\n",
      "{'LATENT_DIMS': 32, 'MODES1': 12, 'MODES2': 8, 'DROP_RATE': 0.0, 'MLP_RATIO': 1, 'DEPTH': 6, 'NORMALIZATION': 'None'}\n",
      "{'LATENT_DIMS': 16, 'MODES1': 12, 'MODES2': 12, 'DROP_RATE': 0.2, 'MLP_RATIO': 2, 'DEPTH': 4, 'NORMALIZATION': 'None'}\n",
      "{'LATENT_DIMS': 32, 'MODES1': 12, 'MODES2': 12, 'DROP_RATE': 0.4, 'MLP_RATIO': 2, 'DEPTH': 6, 'NORMALIZATION': 'gaus'}\n",
      "{'LATENT_DIMS': 128, 'MODES1': 12, 'MODES2': 16, 'DROP_RATE': 0.2, 'MLP_RATIO': 1, 'DEPTH': 2, 'NORMALIZATION': 'range'}\n",
      "{'LATENT_DIMS': 64, 'MODES1': 12, 'MODES2': 12, 'DROP_RATE': 0.2, 'MLP_RATIO': 1, 'DEPTH': 2, 'NORMALIZATION': 'gaus'}\n"
     ]
    }
   ],
   "source": [
    "def sample_experiment(params, idx, fno_exp=False):\n",
    "    info = {}\n",
    "    for param, values in params.items():\n",
    "        choice_idx = np.random.randint(low=0, high=len(values))\n",
    "        if(fno_exp and param == 'MODES1'):\n",
    "            # if its fno we need to make sure modes 1 works here\n",
    "            values = [v for v in values if v <= info['LATENT_DIMS'] // 2 + 1]\n",
    "        info[param] = values[choice_idx]\n",
    "    print(info)\n",
    "    with open(f'experiment_dump/exp{idx}.yml', mode='w') as f:\n",
    "        yaml.dump(info, f, default_flow_style=False)\n",
    "\n",
    "def sample_n_experiments(params, n_trials=20, fno_exp=False):\n",
    "    for idx in range(1, n_trials+1):\n",
    "        sample_experiment(params, idx)\n",
    "\n",
    "sample_n_experiments(FNO_PARAMS, fno_exp=True)"
   ]
  },
  {
   "cell_type": "code",
   "execution_count": null,
   "metadata": {},
   "outputs": [],
   "source": []
  }
 ],
 "metadata": {
  "kernelspec": {
   "display_name": "torch-neur-opp",
   "language": "python",
   "name": "python3"
  },
  "language_info": {
   "codemirror_mode": {
    "name": "ipython",
    "version": 3
   },
   "file_extension": ".py",
   "mimetype": "text/x-python",
   "name": "python",
   "nbconvert_exporter": "python",
   "pygments_lexer": "ipython3",
   "version": "3.11.6"
  }
 },
 "nbformat": 4,
 "nbformat_minor": 2
}
