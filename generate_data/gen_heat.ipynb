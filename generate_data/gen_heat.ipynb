{
 "cells": [
  {
   "cell_type": "code",
   "execution_count": 4,
   "metadata": {},
   "outputs": [],
   "source": [
    "from pde import DiffusionPDE, ScalarField, UnitGrid, CartesianGrid, MemoryStorage\n",
    "import numpy as np\n",
    "import gc"
   ]
  },
  {
   "cell_type": "code",
   "execution_count": 11,
   "metadata": {},
   "outputs": [
    {
     "data": {
      "text/plain": [
       "array([[[1., 1., 0.],\n",
       "        [1., 0., 0.],\n",
       "        [0., 0., 0.],\n",
       "        [0., 0., 0.]],\n",
       "\n",
       "       [[0., 0., 0.],\n",
       "        [0., 0., 0.],\n",
       "        [0., 0., 0.],\n",
       "        [0., 0., 0.]]])"
      ]
     },
     "execution_count": 11,
     "metadata": {},
     "output_type": "execute_result"
    }
   ],
   "source": [
    "example = np.zeros((2, 4, 3)) # 2 examples, 2x2 grid, and 3 time steps\n",
    "example[0, 0, 0] = 1\n",
    "example[0, 1, 0] = 1\n",
    "example[0, 0, 1] = 1\n",
    "example"
   ]
  },
  {
   "cell_type": "code",
   "execution_count": 16,
   "metadata": {},
   "outputs": [
    {
     "data": {
      "text/plain": [
       "array([[2., 1., 0.],\n",
       "       [0., 0., 0.]])"
      ]
     },
     "execution_count": 16,
     "metadata": {},
     "output_type": "execute_result"
    }
   ],
   "source": [
    "np.linalg.norm(example, ord=1, axis=1)"
   ]
  },
  {
   "cell_type": "code",
   "execution_count": 2,
   "metadata": {},
   "outputs": [],
   "source": [
    "def generate_string(params, opp='cos', var='x'):\n",
    "    string = \"\"\n",
    "    for idx, param in enumerate(params):\n",
    "        if(idx == 0):\n",
    "            string += f\"{param}*{opp}({var})\"\n",
    "        else:\n",
    "            string += f\"+{param}*{opp}({var})\"\n",
    "    return string"
   ]
  },
  {
   "cell_type": "code",
   "execution_count": 3,
   "metadata": {},
   "outputs": [
    {
     "data": {
      "application/vnd.jupyter.widget-view+json": {
       "model_id": "122676f3bd2d49598d4bf2ff84264372",
       "version_major": 2,
       "version_minor": 0
      },
      "text/plain": [
       "  0%|          | 0/4.0 [00:00<?, ?it/s]"
      ]
     },
     "metadata": {},
     "output_type": "display_data"
    },
    {
     "data": {
      "application/vnd.jupyter.widget-view+json": {
       "model_id": "b1e69a4627414a1a8d5971696b551d47",
       "version_major": 2,
       "version_minor": 0
      },
      "text/plain": [
       "  0%|          | 0/4.0 [00:00<?, ?it/s]"
      ]
     },
     "metadata": {},
     "output_type": "display_data"
    },
    {
     "data": {
      "application/vnd.jupyter.widget-view+json": {
       "model_id": "9c1b950704834deea9f43c8d399c3cc6",
       "version_major": 2,
       "version_minor": 0
      },
      "text/plain": [
       "  0%|          | 0/4.0 [00:00<?, ?it/s]"
      ]
     },
     "metadata": {},
     "output_type": "display_data"
    },
    {
     "data": {
      "application/vnd.jupyter.widget-view+json": {
       "model_id": "806fbcae1ab7474a9fd9a5ffe5e4d2ee",
       "version_major": 2,
       "version_minor": 0
      },
      "text/plain": [
       "  0%|          | 0/4.0 [00:00<?, ?it/s]"
      ]
     },
     "metadata": {},
     "output_type": "display_data"
    },
    {
     "data": {
      "application/vnd.jupyter.widget-view+json": {
       "model_id": "7cead2c2a3dd495e9932dad6a5be9576",
       "version_major": 2,
       "version_minor": 0
      },
      "text/plain": [
       "  0%|          | 0/4.0 [00:00<?, ?it/s]"
      ]
     },
     "metadata": {},
     "output_type": "display_data"
    },
    {
     "data": {
      "application/vnd.jupyter.widget-view+json": {
       "model_id": "16373e03310f4032afe8977971ffcfa7",
       "version_major": 2,
       "version_minor": 0
      },
      "text/plain": [
       "  0%|          | 0/4.0 [00:00<?, ?it/s]"
      ]
     },
     "metadata": {},
     "output_type": "display_data"
    },
    {
     "data": {
      "application/vnd.jupyter.widget-view+json": {
       "model_id": "d9a8aaec90de48d1bce696af3d42cd55",
       "version_major": 2,
       "version_minor": 0
      },
      "text/plain": [
       "  0%|          | 0/4.0 [00:00<?, ?it/s]"
      ]
     },
     "metadata": {},
     "output_type": "display_data"
    },
    {
     "data": {
      "application/vnd.jupyter.widget-view+json": {
       "model_id": "ccc5d176dd0a42f5a0633456cfd7d7c5",
       "version_major": 2,
       "version_minor": 0
      },
      "text/plain": [
       "  0%|          | 0/4.0 [00:00<?, ?it/s]"
      ]
     },
     "metadata": {},
     "output_type": "display_data"
    },
    {
     "data": {
      "application/vnd.jupyter.widget-view+json": {
       "model_id": "9211b277295742f7b2916900b6b015d2",
       "version_major": 2,
       "version_minor": 0
      },
      "text/plain": [
       "  0%|          | 0/4.0 [00:00<?, ?it/s]"
      ]
     },
     "metadata": {},
     "output_type": "display_data"
    },
    {
     "data": {
      "application/vnd.jupyter.widget-view+json": {
       "model_id": "65ccabf76deb45169b0cfef639382a5e",
       "version_major": 2,
       "version_minor": 0
      },
      "text/plain": [
       "  0%|          | 0/4.0 [00:00<?, ?it/s]"
      ]
     },
     "metadata": {},
     "output_type": "display_data"
    },
    {
     "data": {
      "application/vnd.jupyter.widget-view+json": {
       "model_id": "0ec28af7f1624387a496d7500ad65963",
       "version_major": 2,
       "version_minor": 0
      },
      "text/plain": [
       "  0%|          | 0/4.0 [00:00<?, ?it/s]"
      ]
     },
     "metadata": {},
     "output_type": "display_data"
    },
    {
     "data": {
      "application/vnd.jupyter.widget-view+json": {
       "model_id": "d583ec4017594eefa13b1b6ce44cbdc8",
       "version_major": 2,
       "version_minor": 0
      },
      "text/plain": [
       "  0%|          | 0/4.0 [00:00<?, ?it/s]"
      ]
     },
     "metadata": {},
     "output_type": "display_data"
    },
    {
     "data": {
      "application/vnd.jupyter.widget-view+json": {
       "model_id": "6f4b93dfec7b4f39ba5fcc524f68b93c",
       "version_major": 2,
       "version_minor": 0
      },
      "text/plain": [
       "  0%|          | 0/4.0 [00:00<?, ?it/s]"
      ]
     },
     "metadata": {},
     "output_type": "display_data"
    },
    {
     "data": {
      "application/vnd.jupyter.widget-view+json": {
       "model_id": "4f5de1d348e34af59a522f12f7a017d6",
       "version_major": 2,
       "version_minor": 0
      },
      "text/plain": [
       "  0%|          | 0/4.0 [00:00<?, ?it/s]"
      ]
     },
     "metadata": {},
     "output_type": "display_data"
    },
    {
     "data": {
      "application/vnd.jupyter.widget-view+json": {
       "model_id": "a9d3ca088bb741458cb18d7e086d5703",
       "version_major": 2,
       "version_minor": 0
      },
      "text/plain": [
       "  0%|          | 0/4.0 [00:00<?, ?it/s]"
      ]
     },
     "metadata": {},
     "output_type": "display_data"
    },
    {
     "data": {
      "application/vnd.jupyter.widget-view+json": {
       "model_id": "44b2083eda9c42608dbcc971026db24b",
       "version_major": 2,
       "version_minor": 0
      },
      "text/plain": [
       "  0%|          | 0/4.0 [00:00<?, ?it/s]"
      ]
     },
     "metadata": {},
     "output_type": "display_data"
    },
    {
     "data": {
      "application/vnd.jupyter.widget-view+json": {
       "model_id": "45a1340fba204631b4ba4e0c4bba62a9",
       "version_major": 2,
       "version_minor": 0
      },
      "text/plain": [
       "  0%|          | 0/4.0 [00:00<?, ?it/s]"
      ]
     },
     "metadata": {},
     "output_type": "display_data"
    },
    {
     "data": {
      "application/vnd.jupyter.widget-view+json": {
       "model_id": "b2d8d1963d674b188263f6cb695ef182",
       "version_major": 2,
       "version_minor": 0
      },
      "text/plain": [
       "  0%|          | 0/4.0 [00:00<?, ?it/s]"
      ]
     },
     "metadata": {},
     "output_type": "display_data"
    },
    {
     "data": {
      "application/vnd.jupyter.widget-view+json": {
       "model_id": "f2221d84250240a29f2dc23c09e03f1d",
       "version_major": 2,
       "version_minor": 0
      },
      "text/plain": [
       "  0%|          | 0/4.0 [00:00<?, ?it/s]"
      ]
     },
     "metadata": {},
     "output_type": "display_data"
    },
    {
     "data": {
      "application/vnd.jupyter.widget-view+json": {
       "model_id": "698a32e6d0cc4a0699861b023f537d86",
       "version_major": 2,
       "version_minor": 0
      },
      "text/plain": [
       "  0%|          | 0/4.0 [00:00<?, ?it/s]"
      ]
     },
     "metadata": {},
     "output_type": "display_data"
    },
    {
     "data": {
      "application/vnd.jupyter.widget-view+json": {
       "model_id": "71ccc3cc3c494e2195f51c79d63edab8",
       "version_major": 2,
       "version_minor": 0
      },
      "text/plain": [
       "  0%|          | 0/4.0 [00:00<?, ?it/s]"
      ]
     },
     "metadata": {},
     "output_type": "display_data"
    },
    {
     "data": {
      "application/vnd.jupyter.widget-view+json": {
       "model_id": "8478d8551ee943da9dde2cd284e41ee8",
       "version_major": 2,
       "version_minor": 0
      },
      "text/plain": [
       "  0%|          | 0/4.0 [00:00<?, ?it/s]"
      ]
     },
     "metadata": {},
     "output_type": "display_data"
    },
    {
     "data": {
      "application/vnd.jupyter.widget-view+json": {
       "model_id": "883a7076db84440ebd970db56d93fb24",
       "version_major": 2,
       "version_minor": 0
      },
      "text/plain": [
       "  0%|          | 0/4.0 [00:00<?, ?it/s]"
      ]
     },
     "metadata": {},
     "output_type": "display_data"
    },
    {
     "data": {
      "application/vnd.jupyter.widget-view+json": {
       "model_id": "205ce9744ffc474fadf5f01e4686dc38",
       "version_major": 2,
       "version_minor": 0
      },
      "text/plain": [
       "  0%|          | 0/4.0 [00:00<?, ?it/s]"
      ]
     },
     "metadata": {},
     "output_type": "display_data"
    },
    {
     "data": {
      "application/vnd.jupyter.widget-view+json": {
       "model_id": "99e15423b1934bfe9cef13d2f1e794c2",
       "version_major": 2,
       "version_minor": 0
      },
      "text/plain": [
       "  0%|          | 0/4.0 [00:00<?, ?it/s]"
      ]
     },
     "metadata": {},
     "output_type": "display_data"
    },
    {
     "data": {
      "application/vnd.jupyter.widget-view+json": {
       "model_id": "386c53832276492f9ee14e95b3b459aa",
       "version_major": 2,
       "version_minor": 0
      },
      "text/plain": [
       "  0%|          | 0/4.0 [00:00<?, ?it/s]"
      ]
     },
     "metadata": {},
     "output_type": "display_data"
    },
    {
     "data": {
      "application/vnd.jupyter.widget-view+json": {
       "model_id": "6b5a6e96a5d34fec832b89ef2cf1e56d",
       "version_major": 2,
       "version_minor": 0
      },
      "text/plain": [
       "  0%|          | 0/4.0 [00:00<?, ?it/s]"
      ]
     },
     "metadata": {},
     "output_type": "display_data"
    },
    {
     "data": {
      "application/vnd.jupyter.widget-view+json": {
       "model_id": "15df3365876241aeb486fda7c7f2e699",
       "version_major": 2,
       "version_minor": 0
      },
      "text/plain": [
       "  0%|          | 0/4.0 [00:00<?, ?it/s]"
      ]
     },
     "metadata": {},
     "output_type": "display_data"
    },
    {
     "data": {
      "application/vnd.jupyter.widget-view+json": {
       "model_id": "1e19a720da4840929a19aa2efbb1851c",
       "version_major": 2,
       "version_minor": 0
      },
      "text/plain": [
       "  0%|          | 0/4.0 [00:00<?, ?it/s]"
      ]
     },
     "metadata": {},
     "output_type": "display_data"
    },
    {
     "data": {
      "application/vnd.jupyter.widget-view+json": {
       "model_id": "c03492f3b0c34bfbaef963412e422c55",
       "version_major": 2,
       "version_minor": 0
      },
      "text/plain": [
       "  0%|          | 0/4.0 [00:00<?, ?it/s]"
      ]
     },
     "metadata": {},
     "output_type": "display_data"
    },
    {
     "data": {
      "application/vnd.jupyter.widget-view+json": {
       "model_id": "e7735dfaee0e4f82b0cb6d6c4f3ab20c",
       "version_major": 2,
       "version_minor": 0
      },
      "text/plain": [
       "  0%|          | 0/4.0 [00:00<?, ?it/s]"
      ]
     },
     "metadata": {},
     "output_type": "display_data"
    },
    {
     "data": {
      "application/vnd.jupyter.widget-view+json": {
       "model_id": "4a7f34c89e11468b981ddedbdcb9c394",
       "version_major": 2,
       "version_minor": 0
      },
      "text/plain": [
       "  0%|          | 0/4.0 [00:00<?, ?it/s]"
      ]
     },
     "metadata": {},
     "output_type": "display_data"
    },
    {
     "data": {
      "application/vnd.jupyter.widget-view+json": {
       "model_id": "4aedf132d8b84c119472c374e4036abb",
       "version_major": 2,
       "version_minor": 0
      },
      "text/plain": [
       "  0%|          | 0/4.0 [00:00<?, ?it/s]"
      ]
     },
     "metadata": {},
     "output_type": "display_data"
    },
    {
     "data": {
      "application/vnd.jupyter.widget-view+json": {
       "model_id": "5976d68ba69e4810ae5598ee52230cfc",
       "version_major": 2,
       "version_minor": 0
      },
      "text/plain": [
       "  0%|          | 0/4.0 [00:00<?, ?it/s]"
      ]
     },
     "metadata": {},
     "output_type": "display_data"
    },
    {
     "data": {
      "application/vnd.jupyter.widget-view+json": {
       "model_id": "254d59431c42417586181381e41e4b88",
       "version_major": 2,
       "version_minor": 0
      },
      "text/plain": [
       "  0%|          | 0/4.0 [00:00<?, ?it/s]"
      ]
     },
     "metadata": {},
     "output_type": "display_data"
    },
    {
     "data": {
      "text/plain": [
       "((25, 40, 64, 64), (5, 40, 64, 64), (5, 40, 64, 64))"
      ]
     },
     "execution_count": 3,
     "metadata": {},
     "output_type": "execute_result"
    }
   ],
   "source": [
    "def generate_example(cos_x_params, sin_x_params, cos_y_params, sin_y_params, diffusivity=0.3):\n",
    "    grid = UnitGrid([64, 64], periodic=[False, False])\n",
    "    # get random init weights\n",
    "    cos_x_inital_weights = [np.random.normal(mu, sigma) for (mu, sigma) in cos_x_params]\n",
    "    sin_x_inital_weights = [np.random.normal(mu, sigma) for (mu, sigma) in sin_x_params]\n",
    "    cos_y_inital_weights = [np.random.normal(mu, sigma) for (mu, sigma) in cos_y_params]\n",
    "    sin_y_inital_weights = [np.random.normal(mu, sigma) for (mu, sigma) in sin_y_params]\n",
    "    # get the string equation\n",
    "    init_equation = generate_string(cos_x_inital_weights)\n",
    "    init_equation += '+' + generate_string(sin_x_inital_weights, opp='sin')\n",
    "    init_equation += '+' + generate_string(cos_y_inital_weights, var='y')\n",
    "    init_equation += '+' + generate_string(sin_y_inital_weights, opp='sin', var='y')\n",
    "    # generate the inital state\n",
    "    state = ScalarField.from_expression(grid, init_equation)\n",
    "    bc_x = {\"derivative\": 0.0}\n",
    "    bc_y = {\"derivative\": 0.0}\n",
    "    eq = DiffusionPDE(diffusivity=0.4, bc=[bc_x, bc_y])\n",
    "    # get examples\n",
    "    example = []\n",
    "    storage = MemoryStorage()\n",
    "    results = eq.solve(state, t_range=4, dt=0.1, tracker=[\"progress\", storage.tracker(0.1)])\n",
    "    del grid\n",
    "    del state\n",
    "    del eq\n",
    "    gc.collect()\n",
    "\n",
    "    for time_step, field in storage.items():\n",
    "        example.append(np.expand_dims(field.data, axis=0))\n",
    "    example = np.expand_dims(np.concatenate(example.copy()), axis=0)\n",
    "\n",
    "    del storage\n",
    "    del results\n",
    "    gc.collect()\n",
    "    return example\n",
    "\n",
    "cos_x_params = [(1.0, 1.0),(-0.75, 1.0)]\n",
    "sin_x_params = [(-0.25, 1.0),(0.0, 0.1),(2.0, 1.0)]\n",
    "cos_y_params = [(0.0, 0.1),(0.0, 0.1),(0.0, 0.01),(3.0, 1.0)]\n",
    "sin_y_params = [(2.0, 1.25),]\n",
    "\n",
    "train_data = []\n",
    "for train_idx in range(25):\n",
    "    train_data.append(generate_example(cos_x_params, sin_x_params, cos_y_params, sin_y_params, diffusivity=0.3))\n",
    "train_data = np.concatenate(train_data)\n",
    "\n",
    "val_data = []\n",
    "for val_idx in range(5):\n",
    "    val_data.append(generate_example(cos_x_params, sin_x_params, cos_y_params, sin_y_params, diffusivity=0.3))\n",
    "val_data = np.concatenate(val_data)\n",
    "\n",
    "test_data = []\n",
    "for test_idx in range(5):\n",
    "    test_data.append(generate_example(cos_x_params, sin_x_params, cos_y_params, sin_y_params, diffusivity=0.3))\n",
    "test_data = np.concatenate(test_data)\n",
    "\n",
    "with open('test_dataset.npy', mode='wb') as f:\n",
    "    np.save(f, train_data)\n",
    "    np.save(f, val_data)\n",
    "    np.save(f, test_data)\n",
    "\n",
    "train_data.shape, val_data.shape, test_data.shape"
   ]
  },
  {
   "cell_type": "code",
   "execution_count": null,
   "metadata": {},
   "outputs": [],
   "source": [
    "\n",
    "grid = UnitGrid([64, 64], periodic=[False, True])  # generate grid\n",
    "state = ScalarField.random_uniform(grid, 0.0, 1.0)  # generate initial condition\n",
    "\n",
    "bc_x_left = {\"derivative\": 0.0}\n",
    "bc_x_right = {\"value\": 0.0}\n",
    "bc_x = [bc_x_left, bc_x_right]\n",
    "bc_y = \"periodic\"\n",
    "\n",
    "eq = DiffusionPDE(diffusivity=0.4, bc=[bc_x, bc_y])\n",
    "\n",
    "storage = MemoryStorage()\n",
    "results = eq.solve(state, t_range=10, dt=0.1, tracker=[\"progress\", storage.tracker(0.1)])"
   ]
  },
  {
   "cell_type": "code",
   "execution_count": null,
   "metadata": {},
   "outputs": [],
   "source": []
  },
  {
   "cell_type": "code",
   "execution_count": null,
   "metadata": {},
   "outputs": [],
   "source": []
  },
  {
   "cell_type": "code",
   "execution_count": null,
   "metadata": {},
   "outputs": [],
   "source": [
    "import numpy as np\n",
    "np.pi * 2"
   ]
  },
  {
   "cell_type": "code",
   "execution_count": null,
   "metadata": {},
   "outputs": [],
   "source": [
    "def generate_string(params, opp='cos', var='x'):\n",
    "    string = \"\"\n",
    "    for idx, param in enumerate(params):\n",
    "        if(idx == 0):\n",
    "            string += f\"{param}*{opp}({var})\"\n",
    "        else:\n",
    "            string += f\"+{param}*{opp}({var})\"\n",
    "    return string"
   ]
  },
  {
   "cell_type": "code",
   "execution_count": null,
   "metadata": {},
   "outputs": [],
   "source": [
    "def generate_unit_grid(x_dims, y_dims, x_periodic=False, y_periodic=False):\n",
    "    grid = UnitGrid([x_dims, y_dims], periodic=[x_periodic, y_periodic])\n",
    "    return grid\n",
    "\n",
    "def generate_init_field_from_eq(grid, equation):\n",
    "    state = ScalarField.from_expression(grid, equation)\n",
    "    return state\n",
    "\n",
    "def generate_init_field_from_random_uniform(grid, lower, upper):\n",
    "    state = ScalarField.random_uniform(grid, 0.0, 1.0)\n",
    "    return state\n",
    "\n",
    "def generate_init_field_from_random_normal(grid, mu, sigma):\n",
    "    state = ScalarField.random_normal(grid, mean=mu, scaling=sigma)\n",
    "    return state"
   ]
  },
  {
   "cell_type": "code",
   "execution_count": null,
   "metadata": {},
   "outputs": [],
   "source": [
    "def generate_boundary_conditions()"
   ]
  },
  {
   "cell_type": "code",
   "execution_count": null,
   "metadata": {},
   "outputs": [],
   "source": [
    "from pde import DiffusionPDE, ScalarField, UnitGrid, CartesianGrid, MemoryStorage\n",
    "\n",
    "grid = UnitGrid([64, 64], periodic=[False, True])  # generate grid\n",
    "state = ScalarField.from_expression(grid, \"0.5*cos(x)-0.25*cos(y)\")  # generate initial condition\n",
    "\n",
    "bc_x_left = {\"derivative\": 0.0}\n",
    "bc_x_right = {\"value\": 0.0}\n",
    "bc_x = [bc_x_left, bc_x_right]\n",
    "bc_y = \"periodic\"\n",
    "\n",
    "eq = DiffusionPDE(diffusivity=0.4, bc=[bc_x, bc_y])\n",
    "\n",
    "storage = MemoryStorage()\n",
    "results = eq.solve(state, t_range=10, dt=0.1, tracker=[\"progress\", storage.tracker(0.1)])"
   ]
  },
  {
   "cell_type": "code",
   "execution_count": null,
   "metadata": {},
   "outputs": [],
   "source": [
    "for time, field in storage.items():\n",
    "    print(time, field)"
   ]
  },
  {
   "cell_type": "code",
   "execution_count": null,
   "metadata": {},
   "outputs": [],
   "source": [
    "MemoryStorage?"
   ]
  },
  {
   "cell_type": "code",
   "execution_count": null,
   "metadata": {},
   "outputs": [],
   "source": [
    "results = eq.solve(state, t_range=2, dt=0.1)\n",
    "results"
   ]
  },
  {
   "cell_type": "code",
   "execution_count": null,
   "metadata": {},
   "outputs": [],
   "source": [
    "results1"
   ]
  },
  {
   "cell_type": "code",
   "execution_count": null,
   "metadata": {},
   "outputs": [],
   "source": [
    "results2"
   ]
  },
  {
   "cell_type": "code",
   "execution_count": null,
   "metadata": {},
   "outputs": [],
   "source": [
    "\n",
    "# set boundary conditions `bc` for all axes\n",
    "bc_x_left = {\"derivative\": 0.1}\n",
    "bc_x_right = {\"value\": \"sin(y / 2)\"}\n",
    "bc_x = [bc_x_left, bc_x_right]\n",
    "bc_y = \"periodic\"\n",
    "eq = DiffusionPDE(bc=[bc_x, bc_y])\n",
    "\n",
    "result = eq.solve(state, t_range=10, dt=0.005)\n",
    "# results\n",
    "result"
   ]
  },
  {
   "cell_type": "code",
   "execution_count": null,
   "metadata": {},
   "outputs": [],
   "source": [
    "import autograd.numpy as np\n",
    "from autograd import grad, hessian"
   ]
  },
  {
   "cell_type": "code",
   "execution_count": null,
   "metadata": {},
   "outputs": [],
   "source": [
    "def init_conditions(x, y):\n",
    "    t = np.cos(x) + np.cos(y)\n",
    "    return t"
   ]
  },
  {
   "cell_type": "code",
   "execution_count": null,
   "metadata": {},
   "outputs": [],
   "source": [
    "grad_init = hessian(init_conditions)\n",
    "grad_init(0.0, 0.0)"
   ]
  },
  {
   "cell_type": "code",
   "execution_count": null,
   "metadata": {},
   "outputs": [],
   "source": [
    "import numpy as np"
   ]
  },
  {
   "cell_type": "code",
   "execution_count": null,
   "metadata": {},
   "outputs": [],
   "source": [
    "x = np.linspace(start=0, stop=1, num=128)\n",
    "y = np.linspace(start=0, stop=1, num=128)\n",
    "x, y = np.meshgrid(x, y)"
   ]
  },
  {
   "cell_type": "code",
   "execution_count": null,
   "metadata": {},
   "outputs": [],
   "source": [
    "x, y = np.meshgrid()"
   ]
  },
  {
   "cell_type": "code",
   "execution_count": null,
   "metadata": {},
   "outputs": [],
   "source": [
    "x = np.random.uniform(low=0, high=1, size=100)\n",
    "x"
   ]
  },
  {
   "cell_type": "code",
   "execution_count": null,
   "metadata": {},
   "outputs": [],
   "source": [
    "def step_in_time(x):\n",
    "    "
   ]
  },
  {
   "cell_type": "code",
   "execution_count": null,
   "metadata": {},
   "outputs": [],
   "source": []
  },
  {
   "cell_type": "code",
   "execution_count": null,
   "metadata": {},
   "outputs": [],
   "source": []
  },
  {
   "cell_type": "code",
   "execution_count": null,
   "metadata": {},
   "outputs": [],
   "source": [
    "def next_(u):\n",
    "    0.4 * (\n",
    "        np.roll(u, 1, axis=0) + \n",
    "        np.roll(u, -1, axis=0) + \n",
    "        np.roll(u, 1, axis=1) + \n",
    "        np.roll(u, -1, axis=1) -\n",
    "        4 * u\n",
    "    ) + u\n",
    "    "
   ]
  },
  {
   "cell_type": "code",
   "execution_count": null,
   "metadata": {},
   "outputs": [],
   "source": [
    "x = torch.tensor(np.pi / 4.1, requires_grad=True) #np.linspace(start=0, stop=2*np.pi, num=100), requires_grad=True)\n",
    "y = torch.cos(x)\n",
    "y.backward()\n",
    "x.grad"
   ]
  },
  {
   "cell_type": "code",
   "execution_count": null,
   "metadata": {},
   "outputs": [],
   "source": [
    "import deepxde as dde"
   ]
  },
  {
   "cell_type": "code",
   "execution_count": null,
   "metadata": {},
   "outputs": [],
   "source": [
    "ALPHA = 0.01\n",
    "\n",
    "def pde(X, T):\n",
    "    dT_xx = dde.grad.hessian(T, X, j=0)\n",
    "    dT_yy = dde.grad.hessian(T, X, j=1)\n",
    "    dT_t = dde.grad.jacobian(T, X, j=2)\n",
    "    return dT_t - (ALPHA * (dT_xx + dT_yy))"
   ]
  },
  {
   "cell_type": "code",
   "execution_count": null,
   "metadata": {},
   "outputs": [],
   "source": [
    "# Define the initial condition\n",
    "def initial_condition(x, y):\n",
    "    return np.exp(-(x**2 + y**2))"
   ]
  },
  {
   "cell_type": "code",
   "execution_count": null,
   "metadata": {},
   "outputs": [],
   "source": [
    "# Define the geometry\n",
    "geom = dde.geometry.Rectangle([0, 0], [1, 1])\n",
    "geom"
   ]
  },
  {
   "cell_type": "code",
   "execution_count": null,
   "metadata": {},
   "outputs": [],
   "source": [
    "timedomain = dde.geometry.TimeDomain(0, 50)\n",
    "timedomain"
   ]
  },
  {
   "cell_type": "code",
   "execution_count": null,
   "metadata": {},
   "outputs": [],
   "source": [
    "geomtime = dde.geometry.GeometryXTime(geom, timedomain)\n",
    "geomtime"
   ]
  },
  {
   "cell_type": "code",
   "execution_count": null,
   "metadata": {},
   "outputs": [],
   "source": [
    "T0 = 300\n",
    "Tinit = 1000\n",
    "\n",
    "def func(x):\n",
    "    return np.ones((len(x),1), dtype=np.float32)*T0\n",
    "\n",
    "def func_n(x):\n",
    "    return np.zeros((len(x),1), dtype=np.float32)\n",
    "\n",
    "def func_init(x):\n",
    "    return np.ones((len(x),1), dtype=np.float32)*Tinit"
   ]
  },
  {
   "cell_type": "code",
   "execution_count": null,
   "metadata": {},
   "outputs": [],
   "source": [
    "def boundary_x_l(x, on_boundary):\n",
    "    return on_boundary and np.isclose(x[0], 0)\n",
    "\n",
    "def boundary_x_r(x, on_boundary):\n",
    "    return on_boundary and np.isclose(x[0], 1)\n",
    "\n",
    "def boundary_y_b(x, on_boundary):\n",
    "    return on_boundary and np.isclose(x[1], 0)\n",
    "\n",
    "def boundary_y_u(x, on_boundary):\n",
    "    return on_boundary and np.isclose(x[1], 1)"
   ]
  },
  {
   "cell_type": "code",
   "execution_count": null,
   "metadata": {},
   "outputs": [],
   "source": [
    "bc_x_l = dde.DirichletBC(geomtime, func, boundary_x_l)\n",
    "bc_x_r = dde.DirichletBC(geomtime, func, boundary_x_r)\n",
    "bc_y_b = dde.DirichletBC(geomtime, func, boundary_y_b)\n",
    "bc_y_u = dde.NeumannBC(geomtime, func_n, boundary_y_u)\n",
    "ic = dde.IC(geomtime, func_init, lambda _, on_initial: on_initial)"
   ]
  },
  {
   "cell_type": "code",
   "execution_count": null,
   "metadata": {},
   "outputs": [],
   "source": [
    "data = dde.data.TimePDE(\n",
    "    geomtime,\n",
    "    pde, \n",
    "    [bc_x_l, bc_x_r, bc_y_b, bc_y_u, ic],\n",
    "    num_domain=1000,\n",
    "    num_boundary=1000,\n",
    "    num_initial=1000,\n",
    ")"
   ]
  },
  {
   "cell_type": "code",
   "execution_count": null,
   "metadata": {},
   "outputs": [],
   "source": [
    "data.train_next_batch()\n",
    "data.\n"
   ]
  },
  {
   "cell_type": "code",
   "execution_count": null,
   "metadata": {},
   "outputs": [],
   "source": []
  },
  {
   "cell_type": "code",
   "execution_count": null,
   "metadata": {},
   "outputs": [],
   "source": [
    "data.test()"
   ]
  },
  {
   "cell_type": "code",
   "execution_count": null,
   "metadata": {},
   "outputs": [],
   "source": [
    "net = dde.nn.FNN([1000], \"tanh\", \"Glorot normal\")"
   ]
  },
  {
   "cell_type": "code",
   "execution_count": null,
   "metadata": {},
   "outputs": [],
   "source": [
    "model = dde.Model(data, net)\n",
    "model.compile(\"adam\", lr=1e-3)"
   ]
  },
  {
   "cell_type": "code",
   "execution_count": null,
   "metadata": {},
   "outputs": [],
   "source": [
    "losshistory, train_state = model.train(iterations=20000)"
   ]
  },
  {
   "cell_type": "code",
   "execution_count": null,
   "metadata": {},
   "outputs": [],
   "source": []
  },
  {
   "cell_type": "code",
   "execution_count": null,
   "metadata": {},
   "outputs": [],
   "source": [
    "data.update()"
   ]
  },
  {
   "cell_type": "code",
   "execution_count": null,
   "metadata": {},
   "outputs": [],
   "source": [
    "data.get_x()"
   ]
  },
  {
   "cell_type": "code",
   "execution_count": null,
   "metadata": {},
   "outputs": [],
   "source": [
    "\n",
    "initial_condition_data = dde.data.PDE(geom, heat_equation, lambda _, on_initial: initial_condition(*on_initial), num_domain=1000, num_boundary=100)"
   ]
  },
  {
   "cell_type": "code",
   "execution_count": null,
   "metadata": {},
   "outputs": [],
   "source": [
    "x = np.linspace(start=0, stop=2*np.pi, num=100)\n",
    "y = np.cos(x)\n",
    "\n",
    "dde.grad.jacobian(x, y)"
   ]
  },
  {
   "cell_type": "code",
   "execution_count": null,
   "metadata": {},
   "outputs": [],
   "source": []
  }
 ],
 "metadata": {
  "kernelspec": {
   "display_name": "pytorch",
   "language": "python",
   "name": "python3"
  },
  "language_info": {
   "codemirror_mode": {
    "name": "ipython",
    "version": 3
   },
   "file_extension": ".py",
   "mimetype": "text/x-python",
   "name": "python",
   "nbconvert_exporter": "python",
   "pygments_lexer": "ipython3",
   "version": "3.11.6"
  }
 },
 "nbformat": 4,
 "nbformat_minor": 2
}
