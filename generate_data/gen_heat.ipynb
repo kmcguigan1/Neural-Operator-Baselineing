{
 "cells": [
  {
   "cell_type": "code",
   "execution_count": 1,
   "metadata": {},
   "outputs": [],
   "source": [
    "from pde import DiffusionPDE, ScalarField, UnitGrid, CartesianGrid, MemoryStorage, PDE, movie, plot_kymograph\n",
    "import numpy as np\n",
    "import gc"
   ]
  },
  {
   "cell_type": "code",
   "execution_count": 2,
   "metadata": {},
   "outputs": [],
   "source": [
    "def generate_string(params, opp='cos', var='x'):\n",
    "    string = \"\"\n",
    "    for idx, (weight, freq) in enumerate(params):\n",
    "        if(idx == 0):\n",
    "            string += f\"{weight:.3f}*{opp}({freq:.3f}*2*pi*{var})\"\n",
    "        else:\n",
    "            string += f\"+{weight:.3f}*{opp}({freq:.3f}*2*pi*{var})\"\n",
    "    return string"
   ]
  },
  {
   "cell_type": "code",
   "execution_count": null,
   "metadata": {},
   "outputs": [],
   "source": [
    "def generate_example(cos_x_params, sin_x_params, cos_y_params, sin_y_params, diffusivity=0.4):\n",
    "    N = 64\n",
    "    grid = UnitGrid([N, N], periodic=[False, False])\n",
    "    # get random init weights\n",
    "    cos_x_inital_weights = [(np.random.normal(mu, sigma), (idx + 1) / N) for idx, (mu, sigma) in enumerate(cos_x_params)]\n",
    "    sin_x_inital_weights = [(np.random.normal(mu, sigma), (idx + 1) / N) for idx, (mu, sigma) in enumerate(sin_x_params)]\n",
    "    cos_y_inital_weights = [(np.random.normal(mu, sigma), (idx + 1) / N) for idx, (mu, sigma) in enumerate(cos_y_params)]\n",
    "    sin_y_inital_weights = [(np.random.normal(mu, sigma), (idx + 1) / N) for idx, (mu, sigma) in enumerate(sin_y_params)]\n",
    "    # get the string equation\n",
    "    init_equation = generate_string(cos_x_inital_weights)\n",
    "    init_equation += '+' + generate_string(sin_x_inital_weights, opp='sin')\n",
    "    init_equation += '+' + generate_string(cos_y_inital_weights, var='y')\n",
    "    init_equation += '+' + generate_string(sin_y_inital_weights, opp='sin', var='y')\n",
    "    # generate the inital state\n",
    "    state = ScalarField.from_expression(grid, init_equation)\n",
    "    # bc_x = 'periodic'\n",
    "    # bc_y = 'periodic' \n",
    "    bc_x = {\"derivative\": 0.0}\n",
    "    bc_y = {\"derivative\": 0.0}\n",
    "    eq = DiffusionPDE(diffusivity=diffusivity, bc=[bc_x, bc_y])\n",
    "    # get examples\n",
    "    example = []\n",
    "    storage = MemoryStorage()\n",
    "    results = eq.solve(state, t_range=4, dt=0.1, tracker=[\"progress\", storage.tracker(0.1)])\n",
    "    del grid\n",
    "    del state\n",
    "    del eq\n",
    "    gc.collect()\n",
    "\n",
    "    for time_step, field in storage.items():\n",
    "        example.append(np.expand_dims(field.data, axis=0))\n",
    "    example = np.expand_dims(np.concatenate(example.copy()), axis=0)\n",
    "\n",
    "    del storage\n",
    "    del results\n",
    "    gc.collect()\n",
    "    return example, init_equation\n",
    "\n",
    "cos_x_params = [(1.0, 1.0),(-0.75, 1.0)]\n",
    "sin_x_params = [(-0.25, 1.0),(0.0, 0.1),(2.0, 1.0)]\n",
    "cos_y_params = [(0.0, 0.1),(0.0, 0.1),(0.0, 0.01),(3.0, 1.0)]\n",
    "sin_y_params = [(2.0, 1.25),]\n",
    "\n",
    "def get_diffusivity_sample():\n",
    "    diffusivity = np.random.normal(loc=0.4, scale=0.1)\n",
    "    diffusivity = max(diffusivity, 0.2)\n",
    "    diffusivity = min(diffusivity, 0.6)\n",
    "    return diffusivity\n",
    "\n",
    "def generate_example_solution(data, meta_info):\n",
    "    diffusivity = get_diffusivity_sample()\n",
    "    example, equation = generate_example(cos_x_params, sin_x_params, cos_y_params, sin_y_params, diffusivity=diffusivity)\n",
    "    data.append(example)\n",
    "    meta_info.append((diffusivity, equation))\n",
    "\n",
    "train_data, train_meta = [], []\n",
    "for train_idx in range(50):\n",
    "    generate_example_solution(train_data, train_meta)\n",
    "train_data = np.concatenate(train_data)\n",
    "train_meta = np.concatenate(train_meta)\n",
    "\n",
    "val_data, val_meta = [], []\n",
    "for val_idx in range(8):\n",
    "    generate_example_solution(val_data, val_meta)\n",
    "val_data = np.concatenate(val_data)\n",
    "val_meta = np.concatenate(val_meta)\n",
    "\n",
    "test_data, test_meta = [], []\n",
    "for test_idx in range(8):\n",
    "    generate_example_solution(test_data, test_meta)\n",
    "test_data = np.concatenate(test_data)\n",
    "test_meta = np.concatenate(test_meta)\n",
    "\n",
    "with open('diffusion_varying_sinusoidal_init_varying_diffusivity_non_periodic_boundaries.npy', mode='wb') as f:\n",
    "    np.save(f, train_data, allow_pickle=True)\n",
    "    np.save(f, val_data, allow_pickle=True)\n",
    "    np.save(f, test_data, allow_pickle=True)\n",
    "\n",
    "    np.save(f, train_meta, allow_pickle=True)\n",
    "    np.save(f, val_meta, allow_pickle=True)\n",
    "    np.save(f, test_meta, allow_pickle=True)\n",
    "    \n",
    "\n",
    "train_data.shape, val_data.shape, test_data.shape"
   ]
  },
  {
   "cell_type": "code",
   "execution_count": 4,
   "metadata": {},
   "outputs": [
    {
     "data": {
      "application/vnd.jupyter.widget-view+json": {
       "model_id": "f6b2fdce89e44ef5b43ce080049a91bf",
       "version_major": 2,
       "version_minor": 0
      },
      "text/plain": [
       "  0%|          | 0/4.0 [00:00<?, ?it/s]"
      ]
     },
     "metadata": {},
     "output_type": "display_data"
    },
    {
     "data": {
      "application/vnd.jupyter.widget-view+json": {
       "model_id": "c6e166694a73430ca9ee8fba7a3508af",
       "version_major": 2,
       "version_minor": 0
      },
      "text/plain": [
       "  0%|          | 0/4.0 [00:00<?, ?it/s]"
      ]
     },
     "metadata": {},
     "output_type": "display_data"
    },
    {
     "data": {
      "application/vnd.jupyter.widget-view+json": {
       "model_id": "5170e699c7ee42d4af1820af0fc5c616",
       "version_major": 2,
       "version_minor": 0
      },
      "text/plain": [
       "  0%|          | 0/4.0 [00:00<?, ?it/s]"
      ]
     },
     "metadata": {},
     "output_type": "display_data"
    },
    {
     "data": {
      "application/vnd.jupyter.widget-view+json": {
       "model_id": "24c50872fd0c42e3b0893443e053b3da",
       "version_major": 2,
       "version_minor": 0
      },
      "text/plain": [
       "  0%|          | 0/4.0 [00:00<?, ?it/s]"
      ]
     },
     "metadata": {},
     "output_type": "display_data"
    },
    {
     "data": {
      "application/vnd.jupyter.widget-view+json": {
       "model_id": "7763dce690114f6b82dac6a1390ddc7f",
       "version_major": 2,
       "version_minor": 0
      },
      "text/plain": [
       "  0%|          | 0/4.0 [00:00<?, ?it/s]"
      ]
     },
     "metadata": {},
     "output_type": "display_data"
    },
    {
     "data": {
      "application/vnd.jupyter.widget-view+json": {
       "model_id": "70d6ec3cb5e5471ab708041823d240db",
       "version_major": 2,
       "version_minor": 0
      },
      "text/plain": [
       "  0%|          | 0/4.0 [00:00<?, ?it/s]"
      ]
     },
     "metadata": {},
     "output_type": "display_data"
    },
    {
     "data": {
      "application/vnd.jupyter.widget-view+json": {
       "model_id": "538ee2ee67a74986a538f28b7df9ed9f",
       "version_major": 2,
       "version_minor": 0
      },
      "text/plain": [
       "  0%|          | 0/4.0 [00:00<?, ?it/s]"
      ]
     },
     "metadata": {},
     "output_type": "display_data"
    },
    {
     "data": {
      "application/vnd.jupyter.widget-view+json": {
       "model_id": "cb8d1cdbde904d4d82d56a7b08aee44e",
       "version_major": 2,
       "version_minor": 0
      },
      "text/plain": [
       "  0%|          | 0/4.0 [00:00<?, ?it/s]"
      ]
     },
     "metadata": {},
     "output_type": "display_data"
    },
    {
     "data": {
      "application/vnd.jupyter.widget-view+json": {
       "model_id": "821483837a094f49ab871c6ba46a0dd5",
       "version_major": 2,
       "version_minor": 0
      },
      "text/plain": [
       "  0%|          | 0/4.0 [00:00<?, ?it/s]"
      ]
     },
     "metadata": {},
     "output_type": "display_data"
    },
    {
     "data": {
      "application/vnd.jupyter.widget-view+json": {
       "model_id": "bddb103dd7c2471cbacfd3b529d5911f",
       "version_major": 2,
       "version_minor": 0
      },
      "text/plain": [
       "  0%|          | 0/4.0 [00:00<?, ?it/s]"
      ]
     },
     "metadata": {},
     "output_type": "display_data"
    },
    {
     "data": {
      "application/vnd.jupyter.widget-view+json": {
       "model_id": "52daa7f086234e8db5bc6f62b3227752",
       "version_major": 2,
       "version_minor": 0
      },
      "text/plain": [
       "  0%|          | 0/4.0 [00:00<?, ?it/s]"
      ]
     },
     "metadata": {},
     "output_type": "display_data"
    },
    {
     "data": {
      "application/vnd.jupyter.widget-view+json": {
       "model_id": "1d8d03a07eeb46d582c9dc6051a1cfe8",
       "version_major": 2,
       "version_minor": 0
      },
      "text/plain": [
       "  0%|          | 0/4.0 [00:00<?, ?it/s]"
      ]
     },
     "metadata": {},
     "output_type": "display_data"
    },
    {
     "data": {
      "application/vnd.jupyter.widget-view+json": {
       "model_id": "766e7ce415624dc684e3d4dbc0bdc84e",
       "version_major": 2,
       "version_minor": 0
      },
      "text/plain": [
       "  0%|          | 0/4.0 [00:00<?, ?it/s]"
      ]
     },
     "metadata": {},
     "output_type": "display_data"
    },
    {
     "data": {
      "application/vnd.jupyter.widget-view+json": {
       "model_id": "b6e837d488ac4ffbb1f67999830fe798",
       "version_major": 2,
       "version_minor": 0
      },
      "text/plain": [
       "  0%|          | 0/4.0 [00:00<?, ?it/s]"
      ]
     },
     "metadata": {},
     "output_type": "display_data"
    },
    {
     "data": {
      "application/vnd.jupyter.widget-view+json": {
       "model_id": "db349995b92c48eb9a0c33d708574571",
       "version_major": 2,
       "version_minor": 0
      },
      "text/plain": [
       "  0%|          | 0/4.0 [00:00<?, ?it/s]"
      ]
     },
     "metadata": {},
     "output_type": "display_data"
    },
    {
     "data": {
      "application/vnd.jupyter.widget-view+json": {
       "model_id": "1a519dd16c3b433fb982fb351d730a4b",
       "version_major": 2,
       "version_minor": 0
      },
      "text/plain": [
       "  0%|          | 0/4.0 [00:00<?, ?it/s]"
      ]
     },
     "metadata": {},
     "output_type": "display_data"
    },
    {
     "data": {
      "application/vnd.jupyter.widget-view+json": {
       "model_id": "e331b9ac9411417592dabfe63217cf6d",
       "version_major": 2,
       "version_minor": 0
      },
      "text/plain": [
       "  0%|          | 0/4.0 [00:00<?, ?it/s]"
      ]
     },
     "metadata": {},
     "output_type": "display_data"
    },
    {
     "data": {
      "application/vnd.jupyter.widget-view+json": {
       "model_id": "d7a986c1eb674a8881c4cfe93bfa0e4b",
       "version_major": 2,
       "version_minor": 0
      },
      "text/plain": [
       "  0%|          | 0/4.0 [00:00<?, ?it/s]"
      ]
     },
     "metadata": {},
     "output_type": "display_data"
    },
    {
     "data": {
      "application/vnd.jupyter.widget-view+json": {
       "model_id": "9e13bc6a76a14ab9b4e0b0924be6a3d7",
       "version_major": 2,
       "version_minor": 0
      },
      "text/plain": [
       "  0%|          | 0/4.0 [00:00<?, ?it/s]"
      ]
     },
     "metadata": {},
     "output_type": "display_data"
    },
    {
     "data": {
      "application/vnd.jupyter.widget-view+json": {
       "model_id": "506d9d9e4b364646adc49d61b3afee44",
       "version_major": 2,
       "version_minor": 0
      },
      "text/plain": [
       "  0%|          | 0/4.0 [00:00<?, ?it/s]"
      ]
     },
     "metadata": {},
     "output_type": "display_data"
    },
    {
     "data": {
      "application/vnd.jupyter.widget-view+json": {
       "model_id": "a8bb5e9730fa44b287b321453afced29",
       "version_major": 2,
       "version_minor": 0
      },
      "text/plain": [
       "  0%|          | 0/4.0 [00:00<?, ?it/s]"
      ]
     },
     "metadata": {},
     "output_type": "display_data"
    },
    {
     "data": {
      "application/vnd.jupyter.widget-view+json": {
       "model_id": "458351ba9b144ab8a7f2117e2969a8f9",
       "version_major": 2,
       "version_minor": 0
      },
      "text/plain": [
       "  0%|          | 0/4.0 [00:00<?, ?it/s]"
      ]
     },
     "metadata": {},
     "output_type": "display_data"
    },
    {
     "data": {
      "application/vnd.jupyter.widget-view+json": {
       "model_id": "49397ab0ac4e4b2991255b678f70a489",
       "version_major": 2,
       "version_minor": 0
      },
      "text/plain": [
       "  0%|          | 0/4.0 [00:00<?, ?it/s]"
      ]
     },
     "metadata": {},
     "output_type": "display_data"
    },
    {
     "data": {
      "application/vnd.jupyter.widget-view+json": {
       "model_id": "f2f3d39998fb423eb04bf6afa9558dbe",
       "version_major": 2,
       "version_minor": 0
      },
      "text/plain": [
       "  0%|          | 0/4.0 [00:00<?, ?it/s]"
      ]
     },
     "metadata": {},
     "output_type": "display_data"
    },
    {
     "data": {
      "application/vnd.jupyter.widget-view+json": {
       "model_id": "fccdcdd4bbb944c0be0f20c680df37a1",
       "version_major": 2,
       "version_minor": 0
      },
      "text/plain": [
       "  0%|          | 0/4.0 [00:00<?, ?it/s]"
      ]
     },
     "metadata": {},
     "output_type": "display_data"
    },
    {
     "data": {
      "application/vnd.jupyter.widget-view+json": {
       "model_id": "22b0b7fb9b2941b78f2bd008b02ee074",
       "version_major": 2,
       "version_minor": 0
      },
      "text/plain": [
       "  0%|          | 0/4.0 [00:00<?, ?it/s]"
      ]
     },
     "metadata": {},
     "output_type": "display_data"
    },
    {
     "data": {
      "application/vnd.jupyter.widget-view+json": {
       "model_id": "47a1ca1d565f4f0ebb09879077d027a5",
       "version_major": 2,
       "version_minor": 0
      },
      "text/plain": [
       "  0%|          | 0/4.0 [00:00<?, ?it/s]"
      ]
     },
     "metadata": {},
     "output_type": "display_data"
    },
    {
     "data": {
      "application/vnd.jupyter.widget-view+json": {
       "model_id": "cf6a446d7c684b2895c44724e48fe116",
       "version_major": 2,
       "version_minor": 0
      },
      "text/plain": [
       "  0%|          | 0/4.0 [00:00<?, ?it/s]"
      ]
     },
     "metadata": {},
     "output_type": "display_data"
    },
    {
     "data": {
      "application/vnd.jupyter.widget-view+json": {
       "model_id": "9c779027641247f2a526641a0fadba7d",
       "version_major": 2,
       "version_minor": 0
      },
      "text/plain": [
       "  0%|          | 0/4.0 [00:00<?, ?it/s]"
      ]
     },
     "metadata": {},
     "output_type": "display_data"
    },
    {
     "data": {
      "application/vnd.jupyter.widget-view+json": {
       "model_id": "8e9cd03251ed44f2b08a7927290d2d30",
       "version_major": 2,
       "version_minor": 0
      },
      "text/plain": [
       "  0%|          | 0/4.0 [00:00<?, ?it/s]"
      ]
     },
     "metadata": {},
     "output_type": "display_data"
    },
    {
     "data": {
      "application/vnd.jupyter.widget-view+json": {
       "model_id": "0c9327a00735442289abf28602d30ef1",
       "version_major": 2,
       "version_minor": 0
      },
      "text/plain": [
       "  0%|          | 0/4.0 [00:00<?, ?it/s]"
      ]
     },
     "metadata": {},
     "output_type": "display_data"
    },
    {
     "data": {
      "application/vnd.jupyter.widget-view+json": {
       "model_id": "f3088e31b1ad4017ab2970521f958f69",
       "version_major": 2,
       "version_minor": 0
      },
      "text/plain": [
       "  0%|          | 0/4.0 [00:00<?, ?it/s]"
      ]
     },
     "metadata": {},
     "output_type": "display_data"
    },
    {
     "data": {
      "application/vnd.jupyter.widget-view+json": {
       "model_id": "ddb11b1377fb447697a0f004a007db2b",
       "version_major": 2,
       "version_minor": 0
      },
      "text/plain": [
       "  0%|          | 0/4.0 [00:00<?, ?it/s]"
      ]
     },
     "metadata": {},
     "output_type": "display_data"
    },
    {
     "data": {
      "application/vnd.jupyter.widget-view+json": {
       "model_id": "77b0a11c0e944b289499afbcb71c1843",
       "version_major": 2,
       "version_minor": 0
      },
      "text/plain": [
       "  0%|          | 0/4.0 [00:00<?, ?it/s]"
      ]
     },
     "metadata": {},
     "output_type": "display_data"
    },
    {
     "data": {
      "application/vnd.jupyter.widget-view+json": {
       "model_id": "549dd57a93ac4efeab3fae2c75f11a80",
       "version_major": 2,
       "version_minor": 0
      },
      "text/plain": [
       "  0%|          | 0/4.0 [00:00<?, ?it/s]"
      ]
     },
     "metadata": {},
     "output_type": "display_data"
    },
    {
     "data": {
      "application/vnd.jupyter.widget-view+json": {
       "model_id": "706e64f8b7c8427b8a3bffaff7bf66e2",
       "version_major": 2,
       "version_minor": 0
      },
      "text/plain": [
       "  0%|          | 0/4.0 [00:00<?, ?it/s]"
      ]
     },
     "metadata": {},
     "output_type": "display_data"
    },
    {
     "data": {
      "application/vnd.jupyter.widget-view+json": {
       "model_id": "00be12571b8e4f0dad09b6c0765cf592",
       "version_major": 2,
       "version_minor": 0
      },
      "text/plain": [
       "  0%|          | 0/4.0 [00:00<?, ?it/s]"
      ]
     },
     "metadata": {},
     "output_type": "display_data"
    },
    {
     "data": {
      "application/vnd.jupyter.widget-view+json": {
       "model_id": "75addebdab5b45a09a5222d28f43772e",
       "version_major": 2,
       "version_minor": 0
      },
      "text/plain": [
       "  0%|          | 0/4.0 [00:00<?, ?it/s]"
      ]
     },
     "metadata": {},
     "output_type": "display_data"
    },
    {
     "data": {
      "application/vnd.jupyter.widget-view+json": {
       "model_id": "1f892fc3a17c42f59338d77e1b12c158",
       "version_major": 2,
       "version_minor": 0
      },
      "text/plain": [
       "  0%|          | 0/4.0 [00:00<?, ?it/s]"
      ]
     },
     "metadata": {},
     "output_type": "display_data"
    },
    {
     "data": {
      "application/vnd.jupyter.widget-view+json": {
       "model_id": "39f3f78f7bf94367afb143df0b6e4c14",
       "version_major": 2,
       "version_minor": 0
      },
      "text/plain": [
       "  0%|          | 0/4.0 [00:00<?, ?it/s]"
      ]
     },
     "metadata": {},
     "output_type": "display_data"
    },
    {
     "data": {
      "application/vnd.jupyter.widget-view+json": {
       "model_id": "4cef47f02aee468687b4b33a12eb3973",
       "version_major": 2,
       "version_minor": 0
      },
      "text/plain": [
       "  0%|          | 0/4.0 [00:00<?, ?it/s]"
      ]
     },
     "metadata": {},
     "output_type": "display_data"
    },
    {
     "data": {
      "application/vnd.jupyter.widget-view+json": {
       "model_id": "5629fa7750e0424b9b560b4b54d6cbc3",
       "version_major": 2,
       "version_minor": 0
      },
      "text/plain": [
       "  0%|          | 0/4.0 [00:00<?, ?it/s]"
      ]
     },
     "metadata": {},
     "output_type": "display_data"
    },
    {
     "data": {
      "application/vnd.jupyter.widget-view+json": {
       "model_id": "5c0bb97d70fd4a0f962bb752835594c9",
       "version_major": 2,
       "version_minor": 0
      },
      "text/plain": [
       "  0%|          | 0/4.0 [00:00<?, ?it/s]"
      ]
     },
     "metadata": {},
     "output_type": "display_data"
    },
    {
     "data": {
      "application/vnd.jupyter.widget-view+json": {
       "model_id": "4ea85bb783b34399a7bf49a7a5fade7d",
       "version_major": 2,
       "version_minor": 0
      },
      "text/plain": [
       "  0%|          | 0/4.0 [00:00<?, ?it/s]"
      ]
     },
     "metadata": {},
     "output_type": "display_data"
    },
    {
     "data": {
      "application/vnd.jupyter.widget-view+json": {
       "model_id": "1e4d58b023e045b0a82da348bdc4165a",
       "version_major": 2,
       "version_minor": 0
      },
      "text/plain": [
       "  0%|          | 0/4.0 [00:00<?, ?it/s]"
      ]
     },
     "metadata": {},
     "output_type": "display_data"
    },
    {
     "data": {
      "application/vnd.jupyter.widget-view+json": {
       "model_id": "d4bfade5a2084b83a018e6d855960452",
       "version_major": 2,
       "version_minor": 0
      },
      "text/plain": [
       "  0%|          | 0/4.0 [00:00<?, ?it/s]"
      ]
     },
     "metadata": {},
     "output_type": "display_data"
    },
    {
     "data": {
      "application/vnd.jupyter.widget-view+json": {
       "model_id": "2835d989fa384a1ba8298b94b78d36b8",
       "version_major": 2,
       "version_minor": 0
      },
      "text/plain": [
       "  0%|          | 0/4.0 [00:00<?, ?it/s]"
      ]
     },
     "metadata": {},
     "output_type": "display_data"
    },
    {
     "data": {
      "application/vnd.jupyter.widget-view+json": {
       "model_id": "6aa35a03a98c416babbae83ddeb955af",
       "version_major": 2,
       "version_minor": 0
      },
      "text/plain": [
       "  0%|          | 0/4.0 [00:00<?, ?it/s]"
      ]
     },
     "metadata": {},
     "output_type": "display_data"
    },
    {
     "data": {
      "application/vnd.jupyter.widget-view+json": {
       "model_id": "42cecc18f1c04784a5b8089da422fb42",
       "version_major": 2,
       "version_minor": 0
      },
      "text/plain": [
       "  0%|          | 0/4.0 [00:00<?, ?it/s]"
      ]
     },
     "metadata": {},
     "output_type": "display_data"
    },
    {
     "data": {
      "application/vnd.jupyter.widget-view+json": {
       "model_id": "c99dc514a0424bd0bfb14df8d1b51748",
       "version_major": 2,
       "version_minor": 0
      },
      "text/plain": [
       "  0%|          | 0/4.0 [00:00<?, ?it/s]"
      ]
     },
     "metadata": {},
     "output_type": "display_data"
    },
    {
     "data": {
      "application/vnd.jupyter.widget-view+json": {
       "model_id": "c620556aab7347ab9016053a2b37201b",
       "version_major": 2,
       "version_minor": 0
      },
      "text/plain": [
       "  0%|          | 0/4.0 [00:00<?, ?it/s]"
      ]
     },
     "metadata": {},
     "output_type": "display_data"
    },
    {
     "data": {
      "application/vnd.jupyter.widget-view+json": {
       "model_id": "739e41314e584011ac1a818cb7bd9e7c",
       "version_major": 2,
       "version_minor": 0
      },
      "text/plain": [
       "  0%|          | 0/4.0 [00:00<?, ?it/s]"
      ]
     },
     "metadata": {},
     "output_type": "display_data"
    },
    {
     "data": {
      "application/vnd.jupyter.widget-view+json": {
       "model_id": "2748803cf31e45d585bb13e42141a841",
       "version_major": 2,
       "version_minor": 0
      },
      "text/plain": [
       "  0%|          | 0/4.0 [00:00<?, ?it/s]"
      ]
     },
     "metadata": {},
     "output_type": "display_data"
    },
    {
     "data": {
      "application/vnd.jupyter.widget-view+json": {
       "model_id": "3e37edc72420413aaa36e6a31e5b7141",
       "version_major": 2,
       "version_minor": 0
      },
      "text/plain": [
       "  0%|          | 0/4.0 [00:00<?, ?it/s]"
      ]
     },
     "metadata": {},
     "output_type": "display_data"
    },
    {
     "data": {
      "application/vnd.jupyter.widget-view+json": {
       "model_id": "64072cf2cdc74639900bb2c47e464a55",
       "version_major": 2,
       "version_minor": 0
      },
      "text/plain": [
       "  0%|          | 0/4.0 [00:00<?, ?it/s]"
      ]
     },
     "metadata": {},
     "output_type": "display_data"
    },
    {
     "data": {
      "application/vnd.jupyter.widget-view+json": {
       "model_id": "f5dcb8aa2c39468eb3a8b267e96a1354",
       "version_major": 2,
       "version_minor": 0
      },
      "text/plain": [
       "  0%|          | 0/4.0 [00:00<?, ?it/s]"
      ]
     },
     "metadata": {},
     "output_type": "display_data"
    },
    {
     "data": {
      "application/vnd.jupyter.widget-view+json": {
       "model_id": "5357b916332443f082d46b3b8ba05c70",
       "version_major": 2,
       "version_minor": 0
      },
      "text/plain": [
       "  0%|          | 0/4.0 [00:00<?, ?it/s]"
      ]
     },
     "metadata": {},
     "output_type": "display_data"
    },
    {
     "data": {
      "application/vnd.jupyter.widget-view+json": {
       "model_id": "8429d5297b0044dda654d235c576153f",
       "version_major": 2,
       "version_minor": 0
      },
      "text/plain": [
       "  0%|          | 0/4.0 [00:00<?, ?it/s]"
      ]
     },
     "metadata": {},
     "output_type": "display_data"
    },
    {
     "data": {
      "application/vnd.jupyter.widget-view+json": {
       "model_id": "957d4c81da834f63bb8b91f8862e22b8",
       "version_major": 2,
       "version_minor": 0
      },
      "text/plain": [
       "  0%|          | 0/4.0 [00:00<?, ?it/s]"
      ]
     },
     "metadata": {},
     "output_type": "display_data"
    },
    {
     "data": {
      "application/vnd.jupyter.widget-view+json": {
       "model_id": "a03e65694d2940b880198dcb7ca89d61",
       "version_major": 2,
       "version_minor": 0
      },
      "text/plain": [
       "  0%|          | 0/4.0 [00:00<?, ?it/s]"
      ]
     },
     "metadata": {},
     "output_type": "display_data"
    },
    {
     "data": {
      "application/vnd.jupyter.widget-view+json": {
       "model_id": "0d1fe67b583243e08db37d6a0f44a6f3",
       "version_major": 2,
       "version_minor": 0
      },
      "text/plain": [
       "  0%|          | 0/4.0 [00:00<?, ?it/s]"
      ]
     },
     "metadata": {},
     "output_type": "display_data"
    },
    {
     "data": {
      "application/vnd.jupyter.widget-view+json": {
       "model_id": "2a13023f09624db89ac1643481454fb7",
       "version_major": 2,
       "version_minor": 0
      },
      "text/plain": [
       "  0%|          | 0/4.0 [00:00<?, ?it/s]"
      ]
     },
     "metadata": {},
     "output_type": "display_data"
    },
    {
     "data": {
      "application/vnd.jupyter.widget-view+json": {
       "model_id": "258aafc620024045b893bdcb15e800bb",
       "version_major": 2,
       "version_minor": 0
      },
      "text/plain": [
       "  0%|          | 0/4.0 [00:00<?, ?it/s]"
      ]
     },
     "metadata": {},
     "output_type": "display_data"
    },
    {
     "data": {
      "application/vnd.jupyter.widget-view+json": {
       "model_id": "e0e5ba5aa92e49aea213c0967b4a983e",
       "version_major": 2,
       "version_minor": 0
      },
      "text/plain": [
       "  0%|          | 0/4.0 [00:00<?, ?it/s]"
      ]
     },
     "metadata": {},
     "output_type": "display_data"
    },
    {
     "data": {
      "application/vnd.jupyter.widget-view+json": {
       "model_id": "62cb09daef0a4b5fbb68f130d4a425d3",
       "version_major": 2,
       "version_minor": 0
      },
      "text/plain": [
       "  0%|          | 0/4.0 [00:00<?, ?it/s]"
      ]
     },
     "metadata": {},
     "output_type": "display_data"
    },
    {
     "data": {
      "application/vnd.jupyter.widget-view+json": {
       "model_id": "88bbe135ced847bca9392557895c275c",
       "version_major": 2,
       "version_minor": 0
      },
      "text/plain": [
       "  0%|          | 0/4.0 [00:00<?, ?it/s]"
      ]
     },
     "metadata": {},
     "output_type": "display_data"
    },
    {
     "name": "stdout",
     "output_type": "stream",
     "text": [
      "burgers_64_x_non_period_y_non_period_varying_nu.npy\n"
     ]
    },
    {
     "data": {
      "text/plain": [
       "((50, 40, 64, 64), (8, 40, 64, 64), (8, 40, 64, 64))"
      ]
     },
     "execution_count": 4,
     "metadata": {},
     "output_type": "execute_result"
    }
   ],
   "source": [
    "def generate_grid(N:int, x_periodic:bool, y_periodic:bool):\n",
    "    grid = UnitGrid([N, N], periodic=[x_periodic, y_periodic])\n",
    "    return grid\n",
    "\n",
    "def generate_sinusoidal_weights(cos_x_params, sin_x_params, cos_y_params, sin_y_params):\n",
    "    cos_x_inital_weights = [(np.random.normal(mu, sigma), (idx + 1) / N) for idx, (mu, sigma) in enumerate(cos_x_params)]\n",
    "    sin_x_inital_weights = [(np.random.normal(mu, sigma), (idx + 1) / N) for idx, (mu, sigma) in enumerate(sin_x_params)]\n",
    "    cos_y_inital_weights = [(np.random.normal(mu, sigma), (idx + 1) / N) for idx, (mu, sigma) in enumerate(cos_y_params)]\n",
    "    sin_y_inital_weights = [(np.random.normal(mu, sigma), (idx + 1) / N) for idx, (mu, sigma) in enumerate(sin_y_params)]\n",
    "    return cos_x_inital_weights, sin_x_inital_weights, cos_y_inital_weights, sin_y_inital_weights\n",
    "\n",
    "def generate_sinusoidal_equation(cos_x_inital_weights, sin_x_inital_weights, cos_y_inital_weights, sin_y_inital_weights):\n",
    "    init_equation = generate_string(cos_x_inital_weights)\n",
    "    init_equation += '+' + generate_string(sin_x_inital_weights, opp='sin')\n",
    "    init_equation += '+' + generate_string(cos_y_inital_weights, var='y')\n",
    "    init_equation += '+' + generate_string(sin_y_inital_weights, opp='sin', var='y')\n",
    "    return init_equation\n",
    "\n",
    "def generate_periodic_init_state(grid, init_equation):\n",
    "    state = ScalarField.from_expression(grid, init_equation)\n",
    "    state.data = np.maximum(np.minimum(state.data, 1.0), 0.0)\n",
    "    return state\n",
    "\n",
    "def generate_random_init_state(grid):\n",
    "    state = ScalarField.random_uniform(grid, 0.0, 1.0)\n",
    "    return state\n",
    "\n",
    "def get_nu_sample():\n",
    "    nu = np.random.uniform(low=0.1, high=0.8)\n",
    "    return nu\n",
    "\n",
    "def get_fixed_nu():\n",
    "    return 0.2\n",
    "\n",
    "def generate_boundary_conditions(x_periodic:bool, y_periodic:bool):\n",
    "    if(x_periodic):\n",
    "        bc_x = 'periodic'\n",
    "    else:\n",
    "        bc_x = {\"derivative\": 0.0}\n",
    "    if(y_periodic):\n",
    "        bc_y = 'periodic'\n",
    "    else:\n",
    "        bc_y = {\"derivative\": 0.0}\n",
    "    return [bc_x, bc_y]\n",
    "\n",
    "def get_burgers_pde(nu, bcs):\n",
    "    eq = PDE(\n",
    "        {'u':f'{nu} * (laplace(u) + laplace(u)) - u * (getx(gradient(u)) + gety(gradient(u)))'},\n",
    "        user_funcs={'getx':lambda arr: arr[0], 'gety':lambda arr: arr[1]},\n",
    "        bc=bcs\n",
    "    )\n",
    "    return eq\n",
    "\n",
    "def solve_pde(eq, state):\n",
    "    example = []\n",
    "    storage = MemoryStorage()\n",
    "    results = eq.solve(state, t_range=4, dt=0.1, tracker=[\"progress\", storage.tracker(0.1)])\n",
    "    for time_step, field in storage.items():\n",
    "        example.append(np.expand_dims(field.data, axis=0))\n",
    "    example = np.expand_dims(np.concatenate(example.copy()), axis=0)\n",
    "    return example\n",
    "\n",
    "\n",
    "cos_x_params = [(0.4, 0.25),(0.3, 0.3)]\n",
    "sin_x_params = [(0.25, 0.1),(0.0, 0.3),(0.5, 0.1)]\n",
    "cos_y_params = [(0.1, 0.1),(0.0, 0.1),(0.2, 0.01),(0.3, 0.1)]\n",
    "sin_y_params = [(0.25, 0.125),]\n",
    "\n",
    "def generate_example(N, x_periodic, y_periodic, random_nu_sample:bool=True, periodic_init:bool=True):\n",
    "    # get the grid\n",
    "    grid = generate_grid(N, x_periodic, y_periodic)\n",
    "    # get the initial state\n",
    "    if(periodic_init):\n",
    "        weights = generate_sinusoidal_weights(cos_x_params, sin_x_params, cos_y_params, sin_y_params)\n",
    "        init_equation = generate_sinusoidal_equation(*weights)\n",
    "        state = generate_periodic_init_state(grid, init_equation)\n",
    "    else:\n",
    "        init_equation = 'uniform 0.1 to 0.8'\n",
    "        state = generate_random_init_state(grid)\n",
    "    # get the hyperparams\n",
    "    if(random_nu_sample):\n",
    "        nu = get_nu_sample()\n",
    "    else:\n",
    "        nu = get_fixed_nu()\n",
    "    # get boundary conditions\n",
    "    boundary_conditions = generate_boundary_conditions(x_periodic, y_periodic)\n",
    "    # get the pde\n",
    "    eq = get_burgers_pde(nu, boundary_conditions)\n",
    "    # solve the pde\n",
    "    solution = solve_pde(eq, state)\n",
    "    # delete the things we don't need\n",
    "    del grid\n",
    "    del state\n",
    "    del eq\n",
    "    gc.collect()\n",
    "    return solution, [nu, init_equation]\n",
    "\n",
    "N = 64\n",
    "X_PERIOD = False\n",
    "Y_PERIOD = False\n",
    "RANDOM_NU = True \n",
    "PERIODIC_INIT = False\n",
    "\n",
    "def generate_all_examples(n=50):\n",
    "    data, meta = [], []\n",
    "    for idx in range(n):\n",
    "        solution, info = generate_example(N, X_PERIOD, Y_PERIOD, random_nu_sample=RANDOM_NU, periodic_init=PERIODIC_INIT)\n",
    "        data.append(solution)\n",
    "        meta.append(info)\n",
    "    return np.concatenate(data), np.concatenate(meta)\n",
    "\n",
    "train_data, train_meta = generate_all_examples()\n",
    "val_data, val_meta = generate_all_examples(n=8)\n",
    "test_data, test_meta = generate_all_examples(n=8)\n",
    "\n",
    "name = f'burgers_{N}'\n",
    "if(X_PERIOD):\n",
    "    name += '_x_period'\n",
    "else:\n",
    "    name += '_x_non_period'\n",
    "\n",
    "if(Y_PERIOD):\n",
    "    name += '_y_period'\n",
    "else:\n",
    "    name += '_y_non_period'\n",
    "\n",
    "if(RANDOM_NU):\n",
    "    name += '_varying_nu'\n",
    "else:\n",
    "    name += \"_fixed_nu\"\n",
    "\n",
    "name += '.npy'\n",
    "print(name)\n",
    "\n",
    "with open(name, mode='wb') as f:\n",
    "    np.save(f, train_data, allow_pickle=True)\n",
    "    np.save(f, val_data, allow_pickle=True)\n",
    "    np.save(f, test_data, allow_pickle=True)\n",
    "\n",
    "    np.save(f, train_meta, allow_pickle=True)\n",
    "    np.save(f, val_meta, allow_pickle=True)\n",
    "    np.save(f, test_meta, allow_pickle=True)\n",
    "    \n",
    "train_data.shape, val_data.shape, test_data.shape"
   ]
  },
  {
   "cell_type": "code",
   "execution_count": null,
   "metadata": {},
   "outputs": [],
   "source": []
  },
  {
   "cell_type": "code",
   "execution_count": null,
   "metadata": {},
   "outputs": [],
   "source": []
  },
  {
   "cell_type": "code",
   "execution_count": null,
   "metadata": {},
   "outputs": [],
   "source": []
  },
  {
   "cell_type": "code",
   "execution_count": null,
   "metadata": {},
   "outputs": [],
   "source": []
  },
  {
   "cell_type": "code",
   "execution_count": null,
   "metadata": {},
   "outputs": [],
   "source": []
  },
  {
   "cell_type": "code",
   "execution_count": null,
   "metadata": {},
   "outputs": [],
   "source": []
  },
  {
   "cell_type": "code",
   "execution_count": null,
   "metadata": {},
   "outputs": [],
   "source": [
    "grid = UnitGrid([64, 64], periodic=[True, True])\n",
    "# state = ScalarField.random_uniform(grid, 0.0, 1.0)\n",
    "state = ScalarField.from_expression(grid, '0.197*cos(0.016*2*pi*x)+-0.917*cos(0.031*2*pi*x)+1.296*sin(0.016*2*pi*x)+-0.107*sin(0.031*2*pi*x)+1.053*sin(0.047*2*pi*x)+-0.012*cos(0.016*2*pi*y)+-0.016*cos(0.031*2*pi*y)+-0.004*cos(0.047*2*pi*y)+3.506*cos(0.062*2*pi*y)+4.199*sin(0.016*2*pi*y)')\n",
    "state.data = (state.data - state.data.min()) / (state.data.max() - state.data.min())\n",
    "nu = 0.4\n",
    "eq = PDE(\n",
    "    {'u':f'{nu} * (laplace(u) + laplace(u)) - u * (getx(gradient(u)) + gety(gradient(u)))'},\n",
    "    user_funcs={'getx':lambda arr: arr[0], 'gety':lambda arr: arr[1]}\n",
    ")\n",
    "\n",
    "example = []\n",
    "storage = MemoryStorage()\n",
    "results = eq.solve(state, t_range=5, dt=0.1, tracker=[\"progress\", storage.tracker(0.1)])\n",
    "\n",
    "movie(storage, filename=\"example_burgers.mov\")\n",
    "plot_kymograph(storage)\n"
   ]
  },
  {
   "cell_type": "code",
   "execution_count": null,
   "metadata": {},
   "outputs": [],
   "source": [
    "\n",
    "grid = UnitGrid([64, 64], periodic=[False, True])  # generate grid\n",
    "state = ScalarField.random_uniform(grid, 0.0, 1.0)  # generate initial condition\n",
    "\n",
    "bc_x_left = {\"derivative\": 0.0}\n",
    "bc_x_right = {\"value\": 0.0}\n",
    "bc_x = [bc_x_left, bc_x_right]\n",
    "bc_y = \"periodic\"\n",
    "\n",
    "eq = DiffusionPDE(diffusivity=0.4, bc=[bc_x, bc_y])\n",
    "\n",
    "storage = MemoryStorage()\n",
    "results = eq.solve(state, t_range=10, dt=0.1, tracker=[\"progress\", storage.tracker(0.1)])"
   ]
  },
  {
   "cell_type": "code",
   "execution_count": null,
   "metadata": {},
   "outputs": [],
   "source": []
  },
  {
   "cell_type": "code",
   "execution_count": null,
   "metadata": {},
   "outputs": [],
   "source": []
  },
  {
   "cell_type": "code",
   "execution_count": null,
   "metadata": {},
   "outputs": [],
   "source": [
    "import numpy as np\n",
    "np.pi * 2"
   ]
  },
  {
   "cell_type": "code",
   "execution_count": null,
   "metadata": {},
   "outputs": [],
   "source": [
    "def generate_string(params, opp='cos', var='x'):\n",
    "    string = \"\"\n",
    "    for idx, param in enumerate(params):\n",
    "        if(idx == 0):\n",
    "            string += f\"{param}*{opp}({var})\"\n",
    "        else:\n",
    "            string += f\"+{param}*{opp}({var})\"\n",
    "    return string"
   ]
  },
  {
   "cell_type": "code",
   "execution_count": null,
   "metadata": {},
   "outputs": [],
   "source": [
    "def generate_unit_grid(x_dims, y_dims, x_periodic=False, y_periodic=False):\n",
    "    grid = UnitGrid([x_dims, y_dims], periodic=[x_periodic, y_periodic])\n",
    "    return grid\n",
    "\n",
    "def generate_init_field_from_eq(grid, equation):\n",
    "    state = ScalarField.from_expression(grid, equation)\n",
    "    return state\n",
    "\n",
    "def generate_init_field_from_random_uniform(grid, lower, upper):\n",
    "    state = ScalarField.random_uniform(grid, 0.0, 1.0)\n",
    "    return state\n",
    "\n",
    "def generate_init_field_from_random_normal(grid, mu, sigma):\n",
    "    state = ScalarField.random_normal(grid, mean=mu, scaling=sigma)\n",
    "    return state"
   ]
  },
  {
   "cell_type": "code",
   "execution_count": null,
   "metadata": {},
   "outputs": [],
   "source": [
    "def generate_boundary_conditions()"
   ]
  },
  {
   "cell_type": "code",
   "execution_count": null,
   "metadata": {},
   "outputs": [],
   "source": [
    "from pde import DiffusionPDE, ScalarField, UnitGrid, CartesianGrid, MemoryStorage\n",
    "\n",
    "grid = UnitGrid([64, 64], periodic=[False, True])  # generate grid\n",
    "state = ScalarField.from_expression(grid, \"0.5*cos(x)-0.25*cos(y)\")  # generate initial condition\n",
    "\n",
    "bc_x_left = {\"derivative\": 0.0}\n",
    "bc_x_right = {\"value\": 0.0}\n",
    "bc_x = [bc_x_left, bc_x_right]\n",
    "bc_y = \"periodic\"\n",
    "\n",
    "eq = DiffusionPDE(diffusivity=0.4, bc=[bc_x, bc_y])\n",
    "\n",
    "storage = MemoryStorage()\n",
    "results = eq.solve(state, t_range=10, dt=0.1, tracker=[\"progress\", storage.tracker(0.1)])"
   ]
  },
  {
   "cell_type": "code",
   "execution_count": null,
   "metadata": {},
   "outputs": [],
   "source": [
    "for time, field in storage.items():\n",
    "    print(time, field)"
   ]
  },
  {
   "cell_type": "code",
   "execution_count": null,
   "metadata": {},
   "outputs": [],
   "source": [
    "MemoryStorage?"
   ]
  },
  {
   "cell_type": "code",
   "execution_count": null,
   "metadata": {},
   "outputs": [],
   "source": [
    "results = eq.solve(state, t_range=2, dt=0.1)\n",
    "results"
   ]
  },
  {
   "cell_type": "code",
   "execution_count": null,
   "metadata": {},
   "outputs": [],
   "source": [
    "results1"
   ]
  },
  {
   "cell_type": "code",
   "execution_count": null,
   "metadata": {},
   "outputs": [],
   "source": [
    "results2"
   ]
  },
  {
   "cell_type": "code",
   "execution_count": null,
   "metadata": {},
   "outputs": [],
   "source": [
    "\n",
    "# set boundary conditions `bc` for all axes\n",
    "bc_x_left = {\"derivative\": 0.1}\n",
    "bc_x_right = {\"value\": \"sin(y / 2)\"}\n",
    "bc_x = [bc_x_left, bc_x_right]\n",
    "bc_y = \"periodic\"\n",
    "eq = DiffusionPDE(bc=[bc_x, bc_y])\n",
    "\n",
    "result = eq.solve(state, t_range=10, dt=0.005)\n",
    "# results\n",
    "result"
   ]
  },
  {
   "cell_type": "code",
   "execution_count": null,
   "metadata": {},
   "outputs": [],
   "source": [
    "import autograd.numpy as np\n",
    "from autograd import grad, hessian"
   ]
  },
  {
   "cell_type": "code",
   "execution_count": null,
   "metadata": {},
   "outputs": [],
   "source": [
    "def init_conditions(x, y):\n",
    "    t = np.cos(x) + np.cos(y)\n",
    "    return t"
   ]
  },
  {
   "cell_type": "code",
   "execution_count": null,
   "metadata": {},
   "outputs": [],
   "source": [
    "grad_init = hessian(init_conditions)\n",
    "grad_init(0.0, 0.0)"
   ]
  },
  {
   "cell_type": "code",
   "execution_count": null,
   "metadata": {},
   "outputs": [],
   "source": [
    "import numpy as np"
   ]
  },
  {
   "cell_type": "code",
   "execution_count": null,
   "metadata": {},
   "outputs": [],
   "source": [
    "x = np.linspace(start=0, stop=1, num=128)\n",
    "y = np.linspace(start=0, stop=1, num=128)\n",
    "x, y = np.meshgrid(x, y)"
   ]
  },
  {
   "cell_type": "code",
   "execution_count": null,
   "metadata": {},
   "outputs": [],
   "source": [
    "x, y = np.meshgrid()"
   ]
  },
  {
   "cell_type": "code",
   "execution_count": null,
   "metadata": {},
   "outputs": [],
   "source": [
    "x = np.random.uniform(low=0, high=1, size=100)\n",
    "x"
   ]
  },
  {
   "cell_type": "code",
   "execution_count": null,
   "metadata": {},
   "outputs": [],
   "source": [
    "def step_in_time(x):\n",
    "    "
   ]
  },
  {
   "cell_type": "code",
   "execution_count": null,
   "metadata": {},
   "outputs": [],
   "source": []
  },
  {
   "cell_type": "code",
   "execution_count": null,
   "metadata": {},
   "outputs": [],
   "source": []
  },
  {
   "cell_type": "code",
   "execution_count": null,
   "metadata": {},
   "outputs": [],
   "source": [
    "def next_(u):\n",
    "    0.4 * (\n",
    "        np.roll(u, 1, axis=0) + \n",
    "        np.roll(u, -1, axis=0) + \n",
    "        np.roll(u, 1, axis=1) + \n",
    "        np.roll(u, -1, axis=1) -\n",
    "        4 * u\n",
    "    ) + u\n",
    "    "
   ]
  },
  {
   "cell_type": "code",
   "execution_count": null,
   "metadata": {},
   "outputs": [],
   "source": [
    "x = torch.tensor(np.pi / 4.1, requires_grad=True) #np.linspace(start=0, stop=2*np.pi, num=100), requires_grad=True)\n",
    "y = torch.cos(x)\n",
    "y.backward()\n",
    "x.grad"
   ]
  },
  {
   "cell_type": "code",
   "execution_count": null,
   "metadata": {},
   "outputs": [],
   "source": [
    "import deepxde as dde"
   ]
  },
  {
   "cell_type": "code",
   "execution_count": null,
   "metadata": {},
   "outputs": [],
   "source": [
    "ALPHA = 0.01\n",
    "\n",
    "def pde(X, T):\n",
    "    dT_xx = dde.grad.hessian(T, X, j=0)\n",
    "    dT_yy = dde.grad.hessian(T, X, j=1)\n",
    "    dT_t = dde.grad.jacobian(T, X, j=2)\n",
    "    return dT_t - (ALPHA * (dT_xx + dT_yy))"
   ]
  },
  {
   "cell_type": "code",
   "execution_count": null,
   "metadata": {},
   "outputs": [],
   "source": [
    "# Define the initial condition\n",
    "def initial_condition(x, y):\n",
    "    return np.exp(-(x**2 + y**2))"
   ]
  },
  {
   "cell_type": "code",
   "execution_count": null,
   "metadata": {},
   "outputs": [],
   "source": [
    "# Define the geometry\n",
    "geom = dde.geometry.Rectangle([0, 0], [1, 1])\n",
    "geom"
   ]
  },
  {
   "cell_type": "code",
   "execution_count": null,
   "metadata": {},
   "outputs": [],
   "source": [
    "timedomain = dde.geometry.TimeDomain(0, 50)\n",
    "timedomain"
   ]
  },
  {
   "cell_type": "code",
   "execution_count": null,
   "metadata": {},
   "outputs": [],
   "source": [
    "geomtime = dde.geometry.GeometryXTime(geom, timedomain)\n",
    "geomtime"
   ]
  },
  {
   "cell_type": "code",
   "execution_count": null,
   "metadata": {},
   "outputs": [],
   "source": [
    "T0 = 300\n",
    "Tinit = 1000\n",
    "\n",
    "def func(x):\n",
    "    return np.ones((len(x),1), dtype=np.float32)*T0\n",
    "\n",
    "def func_n(x):\n",
    "    return np.zeros((len(x),1), dtype=np.float32)\n",
    "\n",
    "def func_init(x):\n",
    "    return np.ones((len(x),1), dtype=np.float32)*Tinit"
   ]
  },
  {
   "cell_type": "code",
   "execution_count": null,
   "metadata": {},
   "outputs": [],
   "source": [
    "def boundary_x_l(x, on_boundary):\n",
    "    return on_boundary and np.isclose(x[0], 0)\n",
    "\n",
    "def boundary_x_r(x, on_boundary):\n",
    "    return on_boundary and np.isclose(x[0], 1)\n",
    "\n",
    "def boundary_y_b(x, on_boundary):\n",
    "    return on_boundary and np.isclose(x[1], 0)\n",
    "\n",
    "def boundary_y_u(x, on_boundary):\n",
    "    return on_boundary and np.isclose(x[1], 1)"
   ]
  },
  {
   "cell_type": "code",
   "execution_count": null,
   "metadata": {},
   "outputs": [],
   "source": [
    "bc_x_l = dde.DirichletBC(geomtime, func, boundary_x_l)\n",
    "bc_x_r = dde.DirichletBC(geomtime, func, boundary_x_r)\n",
    "bc_y_b = dde.DirichletBC(geomtime, func, boundary_y_b)\n",
    "bc_y_u = dde.NeumannBC(geomtime, func_n, boundary_y_u)\n",
    "ic = dde.IC(geomtime, func_init, lambda _, on_initial: on_initial)"
   ]
  },
  {
   "cell_type": "code",
   "execution_count": null,
   "metadata": {},
   "outputs": [],
   "source": [
    "data = dde.data.TimePDE(\n",
    "    geomtime,\n",
    "    pde, \n",
    "    [bc_x_l, bc_x_r, bc_y_b, bc_y_u, ic],\n",
    "    num_domain=1000,\n",
    "    num_boundary=1000,\n",
    "    num_initial=1000,\n",
    ")"
   ]
  },
  {
   "cell_type": "code",
   "execution_count": null,
   "metadata": {},
   "outputs": [],
   "source": [
    "data.train_next_batch()\n",
    "data.\n"
   ]
  },
  {
   "cell_type": "code",
   "execution_count": null,
   "metadata": {},
   "outputs": [],
   "source": []
  },
  {
   "cell_type": "code",
   "execution_count": null,
   "metadata": {},
   "outputs": [],
   "source": [
    "data.test()"
   ]
  },
  {
   "cell_type": "code",
   "execution_count": null,
   "metadata": {},
   "outputs": [],
   "source": [
    "net = dde.nn.FNN([1000], \"tanh\", \"Glorot normal\")"
   ]
  },
  {
   "cell_type": "code",
   "execution_count": null,
   "metadata": {},
   "outputs": [],
   "source": [
    "model = dde.Model(data, net)\n",
    "model.compile(\"adam\", lr=1e-3)"
   ]
  },
  {
   "cell_type": "code",
   "execution_count": null,
   "metadata": {},
   "outputs": [],
   "source": [
    "losshistory, train_state = model.train(iterations=20000)"
   ]
  },
  {
   "cell_type": "code",
   "execution_count": null,
   "metadata": {},
   "outputs": [],
   "source": []
  },
  {
   "cell_type": "code",
   "execution_count": null,
   "metadata": {},
   "outputs": [],
   "source": [
    "data.update()"
   ]
  },
  {
   "cell_type": "code",
   "execution_count": null,
   "metadata": {},
   "outputs": [],
   "source": [
    "data.get_x()"
   ]
  },
  {
   "cell_type": "code",
   "execution_count": null,
   "metadata": {},
   "outputs": [],
   "source": [
    "\n",
    "initial_condition_data = dde.data.PDE(geom, heat_equation, lambda _, on_initial: initial_condition(*on_initial), num_domain=1000, num_boundary=100)"
   ]
  },
  {
   "cell_type": "code",
   "execution_count": null,
   "metadata": {},
   "outputs": [],
   "source": [
    "x = np.linspace(start=0, stop=2*np.pi, num=100)\n",
    "y = np.cos(x)\n",
    "\n",
    "dde.grad.jacobian(x, y)"
   ]
  },
  {
   "cell_type": "code",
   "execution_count": null,
   "metadata": {},
   "outputs": [],
   "source": []
  }
 ],
 "metadata": {
  "kernelspec": {
   "display_name": "pytorch",
   "language": "python",
   "name": "python3"
  },
  "language_info": {
   "codemirror_mode": {
    "name": "ipython",
    "version": 3
   },
   "file_extension": ".py",
   "mimetype": "text/x-python",
   "name": "python",
   "nbconvert_exporter": "python",
   "pygments_lexer": "ipython3",
   "version": "3.11.6"
  }
 },
 "nbformat": 4,
 "nbformat_minor": 2
}
