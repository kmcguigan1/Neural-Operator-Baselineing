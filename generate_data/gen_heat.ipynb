{
 "cells": [
  {
   "cell_type": "code",
   "execution_count": 8,
   "metadata": {},
   "outputs": [],
   "source": [
    "from pde import DiffusionPDE, ScalarField, UnitGrid, CartesianGrid, MemoryStorage, PDE, movie, plot_kymograph\n",
    "import numpy as np\n",
    "import gc"
   ]
  },
  {
   "cell_type": "code",
   "execution_count": 9,
   "metadata": {},
   "outputs": [],
   "source": [
    "def generate_string(params, opp='cos', var='x'):\n",
    "    string = \"\"\n",
    "    for idx, (weight, freq) in enumerate(params):\n",
    "        if(idx == 0):\n",
    "            string += f\"{weight:.3f}*{opp}({freq:.3f}*2*pi*{var})\"\n",
    "        else:\n",
    "            string += f\"+{weight:.3f}*{opp}({freq:.3f}*2*pi*{var})\"\n",
    "    return string"
   ]
  },
  {
   "cell_type": "code",
   "execution_count": 10,
   "metadata": {},
   "outputs": [],
   "source": [
    "# generate a set of random periodic initializations\n",
    "def generate_sinusoidal_weights(cos_x_params, sin_x_params, cos_y_params, sin_y_params):\n",
    "    cos_x_inital_weights = [(np.random.normal(mu, sigma), (idx + 1) / N) for idx, (mu, sigma) in enumerate(cos_x_params)]\n",
    "    sin_x_inital_weights = [(np.random.normal(mu, sigma), (idx + 1) / N) for idx, (mu, sigma) in enumerate(sin_x_params)]\n",
    "    cos_y_inital_weights = [(np.random.normal(mu, sigma), (idx + 1) / N) for idx, (mu, sigma) in enumerate(cos_y_params)]\n",
    "    sin_y_inital_weights = [(np.random.normal(mu, sigma), (idx + 1) / N) for idx, (mu, sigma) in enumerate(sin_y_params)]\n",
    "    return cos_x_inital_weights, sin_x_inital_weights, cos_y_inital_weights, sin_y_inital_weights\n",
    "\n",
    "def generate_sinusoidal_equation(cos_x_inital_weights, sin_x_inital_weights, cos_y_inital_weights, sin_y_inital_weights):\n",
    "    init_equation = generate_string(cos_x_inital_weights)\n",
    "    init_equation += '+' + generate_string(sin_x_inital_weights, opp='sin')\n",
    "    init_equation += '+' + generate_string(cos_y_inital_weights, var='y')\n",
    "    init_equation += '+' + generate_string(sin_y_inital_weights, opp='sin', var='y')\n",
    "    return init_equation\n",
    "\n",
    "cos_x_params = [(0.4, 0.25),(0.3, 0.3)]\n",
    "sin_x_params = [(0.25, 0.1),(0.0, 0.3),(0.5, 0.1)]\n",
    "cos_y_params = [(0.1, 0.1),(0.0, 0.1),(0.2, 0.01),(0.3, 0.1)]\n",
    "sin_y_params = [(0.25, 0.125),]\n",
    "\n",
    "np.random.seed(1999)\n",
    "train_eqs = []\n",
    "for ex in range(100):\n",
    "    weights = generate_sinusoidal_weights(cos_x_params, sin_x_params, cos_y_params, sin_y_params)\n",
    "    init_equation = generate_sinusoidal_equation(*weights)\n",
    "    train_eqs.append(init_equation)\n",
    "\n",
    "val_eqs = []\n",
    "for ex in range(15):\n",
    "    weights = generate_sinusoidal_weights(cos_x_params, sin_x_params, cos_y_params, sin_y_params)\n",
    "    init_equation = generate_sinusoidal_equation(*weights)\n",
    "    val_eqs.append(init_equation)\n",
    "\n",
    "test_eqs = []\n",
    "for ex in range(15):\n",
    "    weights = generate_sinusoidal_weights(cos_x_params, sin_x_params, cos_y_params, sin_y_params)\n",
    "    init_equation = generate_sinusoidal_equation(*weights)\n",
    "    test_eqs.append(init_equation)\n",
    "\n",
    "with open('init_periodic_equations.npz', mode='wb') as f:\n",
    "    np.savez(f, train_eqs=train_eqs, val_eqs=val_eqs, test_eqs=test_eqs)"
   ]
  },
  {
   "cell_type": "code",
   "execution_count": 11,
   "metadata": {},
   "outputs": [],
   "source": [
    "def generate_random_init():\n",
    "    init_equation = np.random.uniform(low=0.1, high=0.9, size=(64, 64))\n",
    "    return init_equation\n",
    "\n",
    "np.random.seed(1999)\n",
    "train_eqs = []\n",
    "for ex in range(100):\n",
    "    init_equation = generate_random_init()\n",
    "    train_eqs.append(init_equation)\n",
    "\n",
    "val_eqs = []\n",
    "for ex in range(15):\n",
    "    init_equation = generate_random_init()\n",
    "    val_eqs.append(init_equation)\n",
    "\n",
    "test_eqs = []\n",
    "for ex in range(15):\n",
    "    init_equation = generate_random_init()\n",
    "    test_eqs.append(init_equation)\n",
    "\n",
    "with open('init_uniform_equations.npz', mode='wb') as f:\n",
    "    np.savez(f, train_eqs=train_eqs, val_eqs=val_eqs, test_eqs=test_eqs)"
   ]
  },
  {
   "cell_type": "code",
   "execution_count": null,
   "metadata": {},
   "outputs": [],
   "source": [
    "np.random.seed(1999)\n",
    "train_eqs = []\n",
    "for ex in range(100):\n",
    "    init_equation = np.random.uniform(low=0.1, high=0.4)\n",
    "    train_eqs.append(init_equation)\n",
    "\n",
    "val_eqs = []\n",
    "for ex in range(15):\n",
    "    init_equation = np.random.uniform(low=0.1, high=0.4)\n",
    "    val_eqs.append(init_equation)\n",
    "\n",
    "test_eqs = []\n",
    "for ex in range(15):\n",
    "    init_equation = np.random.uniform(low=0.1, high=0.4)\n",
    "    test_eqs.append(init_equation)\n",
    "\n",
    "with open('init_nu_equations.npz', mode='wb') as f:\n",
    "    np.savez(f, train_eqs=train_eqs, val_eqs=val_eqs, test_eqs=test_eqs)"
   ]
  },
  {
   "cell_type": "code",
   "execution_count": null,
   "metadata": {},
   "outputs": [],
   "source": [
    "def generate_grid(N:int, x_periodic:bool, y_periodic:bool):\n",
    "    grid = UnitGrid([N, N], periodic=[x_periodic, y_periodic])\n",
    "    return grid\n",
    "\n",
    "def generate_equation_state(grid, init_equation):\n",
    "    state = ScalarField.from_expression(grid, init_equation)\n",
    "    state.data = np.maximum(np.minimum(state.data, 0.9), 0.1)\n",
    "    return state\n",
    "\n",
    "def generate_data_state(grid, data):\n",
    "    state = ScalarField(grid, data=data)\n",
    "    return state\n",
    "\n",
    "def get_nu_sample():\n",
    "    nu = np.random.uniform(low=0.1, high=0.4)\n",
    "    nu = round(nu, 4)\n",
    "    print(nu)\n",
    "    return nu\n",
    "\n",
    "def get_fixed_nu():\n",
    "    return 0.2\n",
    "\n",
    "def generate_boundary_conditions(x_periodic:bool, y_periodic:bool):\n",
    "    if(x_periodic):\n",
    "        bc_x = 'periodic'\n",
    "    else:\n",
    "        bc_x = {\"derivative\": 0.0}\n",
    "    if(y_periodic):\n",
    "        bc_y = 'periodic'\n",
    "    else:\n",
    "        bc_y = {\"derivative\": 0.0}\n",
    "    return [bc_x, bc_y]\n",
    "\n",
    "def get_burgers_pde(nu, bcs):\n",
    "    eq = PDE(\n",
    "        {'u':f'{nu} * (laplace(u) + laplace(u)) - u * (getx(gradient(u)) + gety(gradient(u)))'},\n",
    "        user_funcs={'getx':lambda arr: arr[0], 'gety':lambda arr: arr[1]},\n",
    "        bc=bcs\n",
    "    )\n",
    "    return eq\n",
    "\n",
    "def solve_pde(eq, state):\n",
    "    example = []\n",
    "    storage = MemoryStorage()\n",
    "    results = eq.solve(state, t_range=10, dt=0.25, tracker=[\"progress\", storage.tracker(0.25)])\n",
    "    for time_step, field in storage.items():\n",
    "        example.append(np.expand_dims(field.data, axis=0))\n",
    "    example = np.expand_dims(np.concatenate(example.copy()), axis=0)\n",
    "    # movie(storage, filename=\"example_burgers.mov\")\n",
    "    print(example.min(), example.max(), example.mean(), example.std())\n",
    "    if(np.any(np.isnan(example))):\n",
    "        raise Exception('')\n",
    "    return example\n",
    "\n",
    "def generate_example(N, x_periodic, y_periodic, init_equation:str=None, random_data:np.array=None, random_nu_sample:bool=True):\n",
    "    # get the grid\n",
    "    grid = generate_grid(N, x_periodic, y_periodic)\n",
    "    # get the initial state\n",
    "    if(init_equation is not None):\n",
    "        state = generate_equation_state(grid, init_equation)\n",
    "    elif(random_data is not None):\n",
    "        init_equation = 'uniform 0.1 to 0.9'\n",
    "        state = generate_data_state(grid, random_data)\n",
    "    else:\n",
    "        raise Exception('we need an equation or data')\n",
    "    # get the hyperparams\n",
    "    if(random_nu_sample):\n",
    "        nu = get_nu_sample()\n",
    "    else:\n",
    "        nu = get_fixed_nu()\n",
    "    # get boundary conditions\n",
    "    boundary_conditions = generate_boundary_conditions(x_periodic, y_periodic)\n",
    "    # get the pde\n",
    "    eq = get_burgers_pde(nu, boundary_conditions)\n",
    "    # solve the pde\n",
    "    solution = solve_pde(eq, state)\n",
    "    # delete the things we don't need\n",
    "    del grid\n",
    "    del state\n",
    "    del eq\n",
    "    gc.collect()\n",
    "    return solution, nu, init_equation\n",
    "\n"
   ]
  },
  {
   "cell_type": "code",
   "execution_count": 6,
   "metadata": {},
   "outputs": [
    {
     "data": {
      "application/vnd.jupyter.widget-view+json": {
       "model_id": "8ca629e0923c4fa091e899c622b8452f",
       "version_major": 2,
       "version_minor": 0
      },
      "text/plain": [
       "  0%|          | 0/10.0 [00:00<?, ?it/s]"
      ]
     },
     "metadata": {},
     "output_type": "display_data"
    },
    {
     "name": "stdout",
     "output_type": "stream",
     "text": [
      "0.0 1.032492993248362 0.2543676180757367 0.3617299320992598\n"
     ]
    },
    {
     "data": {
      "application/vnd.jupyter.widget-view+json": {
       "model_id": "f43b1d10ddab41bca29575d06cac6669",
       "version_major": 2,
       "version_minor": 0
      },
      "text/plain": [
       "  0%|          | 0/10.0 [00:00<?, ?it/s]"
      ]
     },
     "metadata": {},
     "output_type": "display_data"
    },
    {
     "name": "stdout",
     "output_type": "stream",
     "text": [
      "0.0 1.0275079415147639 0.2885463827766136 0.3136936394344018\n"
     ]
    },
    {
     "ename": "KeyboardInterrupt",
     "evalue": "",
     "output_type": "error",
     "traceback": [
      "\u001b[0;31m---------------------------------------------------------------------------\u001b[0m",
      "\u001b[0;31mKeyboardInterrupt\u001b[0m                         Traceback (most recent call last)",
      "Cell \u001b[0;32mIn[6], line 117\u001b[0m\n\u001b[1;32m    114\u001b[0m         meta\u001b[38;5;241m.\u001b[39mappend(info)\n\u001b[1;32m    115\u001b[0m     \u001b[38;5;28;01mreturn\u001b[39;00m np\u001b[38;5;241m.\u001b[39mconcatenate(data), np\u001b[38;5;241m.\u001b[39mconcatenate(meta)\n\u001b[0;32m--> 117\u001b[0m train_data, train_meta \u001b[38;5;241m=\u001b[39m \u001b[43mgenerate_all_examples\u001b[49m\u001b[43m(\u001b[49m\u001b[43mn\u001b[49m\u001b[38;5;241;43m=\u001b[39;49m\u001b[38;5;241;43m50\u001b[39;49m\u001b[43m)\u001b[49m\n\u001b[1;32m    118\u001b[0m val_data, val_meta \u001b[38;5;241m=\u001b[39m generate_all_examples(n\u001b[38;5;241m=\u001b[39m\u001b[38;5;241m8\u001b[39m)\n\u001b[1;32m    119\u001b[0m test_data, test_meta \u001b[38;5;241m=\u001b[39m generate_all_examples(n\u001b[38;5;241m=\u001b[39m\u001b[38;5;241m8\u001b[39m)\n",
      "Cell \u001b[0;32mIn[6], line 112\u001b[0m, in \u001b[0;36mgenerate_all_examples\u001b[0;34m(n)\u001b[0m\n\u001b[1;32m    110\u001b[0m data, meta \u001b[38;5;241m=\u001b[39m [], []\n\u001b[1;32m    111\u001b[0m \u001b[38;5;28;01mfor\u001b[39;00m idx \u001b[38;5;129;01min\u001b[39;00m \u001b[38;5;28mrange\u001b[39m(n):\n\u001b[0;32m--> 112\u001b[0m     solution, info \u001b[38;5;241m=\u001b[39m \u001b[43mgenerate_example\u001b[49m\u001b[43m(\u001b[49m\u001b[43mN\u001b[49m\u001b[43m,\u001b[49m\u001b[43m \u001b[49m\u001b[43mX_PERIOD\u001b[49m\u001b[43m,\u001b[49m\u001b[43m \u001b[49m\u001b[43mY_PERIOD\u001b[49m\u001b[43m,\u001b[49m\u001b[43m \u001b[49m\u001b[43mrandom_nu_sample\u001b[49m\u001b[38;5;241;43m=\u001b[39;49m\u001b[43mRANDOM_NU\u001b[49m\u001b[43m,\u001b[49m\u001b[43m \u001b[49m\u001b[43mperiodic_init\u001b[49m\u001b[38;5;241;43m=\u001b[39;49m\u001b[43mPERIODIC_INIT\u001b[49m\u001b[43m)\u001b[49m\n\u001b[1;32m    113\u001b[0m     data\u001b[38;5;241m.\u001b[39mappend(solution)\n\u001b[1;32m    114\u001b[0m     meta\u001b[38;5;241m.\u001b[39mappend(info)\n",
      "Cell \u001b[0;32mIn[6], line 81\u001b[0m, in \u001b[0;36mgenerate_example\u001b[0;34m(N, x_periodic, y_periodic, random_nu_sample, periodic_init)\u001b[0m\n\u001b[1;32m     79\u001b[0m     weights \u001b[38;5;241m=\u001b[39m generate_sinusoidal_weights(cos_x_params, sin_x_params, cos_y_params, sin_y_params)\n\u001b[1;32m     80\u001b[0m     init_equation \u001b[38;5;241m=\u001b[39m generate_sinusoidal_equation(\u001b[38;5;241m*\u001b[39mweights)\n\u001b[0;32m---> 81\u001b[0m     state \u001b[38;5;241m=\u001b[39m \u001b[43mgenerate_periodic_init_state\u001b[49m\u001b[43m(\u001b[49m\u001b[43mgrid\u001b[49m\u001b[43m,\u001b[49m\u001b[43m \u001b[49m\u001b[43minit_equation\u001b[49m\u001b[43m)\u001b[49m\n\u001b[1;32m     82\u001b[0m \u001b[38;5;28;01melse\u001b[39;00m:\n\u001b[1;32m     83\u001b[0m     init_equation \u001b[38;5;241m=\u001b[39m \u001b[38;5;124m'\u001b[39m\u001b[38;5;124muniform 0.1 to 0.4\u001b[39m\u001b[38;5;124m'\u001b[39m\n",
      "Cell \u001b[0;32mIn[6], line 20\u001b[0m, in \u001b[0;36mgenerate_periodic_init_state\u001b[0;34m(grid, init_equation)\u001b[0m\n\u001b[1;32m     19\u001b[0m \u001b[38;5;28;01mdef\u001b[39;00m \u001b[38;5;21mgenerate_periodic_init_state\u001b[39m(grid, init_equation):\n\u001b[0;32m---> 20\u001b[0m     state \u001b[38;5;241m=\u001b[39m \u001b[43mScalarField\u001b[49m\u001b[38;5;241;43m.\u001b[39;49m\u001b[43mfrom_expression\u001b[49m\u001b[43m(\u001b[49m\u001b[43mgrid\u001b[49m\u001b[43m,\u001b[49m\u001b[43m \u001b[49m\u001b[43minit_equation\u001b[49m\u001b[43m)\u001b[49m\n\u001b[1;32m     21\u001b[0m     state\u001b[38;5;241m.\u001b[39mdata \u001b[38;5;241m=\u001b[39m np\u001b[38;5;241m.\u001b[39mmaximum(np\u001b[38;5;241m.\u001b[39mminimum(state\u001b[38;5;241m.\u001b[39mdata, \u001b[38;5;241m1.0\u001b[39m), \u001b[38;5;241m0.0\u001b[39m)\n\u001b[1;32m     22\u001b[0m     \u001b[38;5;28;01mreturn\u001b[39;00m state\n",
      "File \u001b[0;32m~/miniforge3/envs/torch-neur-opp/lib/python3.11/site-packages/pde/fields/scalar.py:75\u001b[0m, in \u001b[0;36mScalarField.from_expression\u001b[0;34m(cls, grid, expression, user_funcs, consts, label, dtype)\u001b[0m\n\u001b[1;32m     72\u001b[0m \u001b[38;5;28;01mfrom\u001b[39;00m \u001b[38;5;21;01m.\u001b[39;00m\u001b[38;5;21;01m.\u001b[39;00m\u001b[38;5;21;01mtools\u001b[39;00m\u001b[38;5;21;01m.\u001b[39;00m\u001b[38;5;21;01mexpressions\u001b[39;00m \u001b[38;5;28;01mimport\u001b[39;00m ScalarExpression\n\u001b[1;32m     74\u001b[0m \u001b[38;5;66;03m# parse the expression\u001b[39;00m\n\u001b[0;32m---> 75\u001b[0m expr \u001b[38;5;241m=\u001b[39m \u001b[43mScalarExpression\u001b[49m\u001b[43m(\u001b[49m\n\u001b[1;32m     76\u001b[0m \u001b[43m    \u001b[49m\u001b[43mexpression\u001b[49m\u001b[38;5;241;43m=\u001b[39;49m\u001b[43mexpression\u001b[49m\u001b[43m,\u001b[49m\n\u001b[1;32m     77\u001b[0m \u001b[43m    \u001b[49m\u001b[43msignature\u001b[49m\u001b[38;5;241;43m=\u001b[39;49m\u001b[43mgrid\u001b[49m\u001b[38;5;241;43m.\u001b[39;49m\u001b[43maxes\u001b[49m\u001b[43m,\u001b[49m\n\u001b[1;32m     78\u001b[0m \u001b[43m    \u001b[49m\u001b[43muser_funcs\u001b[49m\u001b[38;5;241;43m=\u001b[39;49m\u001b[43muser_funcs\u001b[49m\u001b[43m,\u001b[49m\n\u001b[1;32m     79\u001b[0m \u001b[43m    \u001b[49m\u001b[43mconsts\u001b[49m\u001b[38;5;241;43m=\u001b[39;49m\u001b[43mconsts\u001b[49m\u001b[43m,\u001b[49m\n\u001b[1;32m     80\u001b[0m \u001b[43m\u001b[49m\u001b[43m)\u001b[49m\n\u001b[1;32m     81\u001b[0m \u001b[38;5;66;03m# obtain the coordinates of the grid points\u001b[39;00m\n\u001b[1;32m     82\u001b[0m points \u001b[38;5;241m=\u001b[39m [grid\u001b[38;5;241m.\u001b[39mcell_coords[\u001b[38;5;241m.\u001b[39m\u001b[38;5;241m.\u001b[39m\u001b[38;5;241m.\u001b[39m, i] \u001b[38;5;28;01mfor\u001b[39;00m i \u001b[38;5;129;01min\u001b[39;00m \u001b[38;5;28mrange\u001b[39m(grid\u001b[38;5;241m.\u001b[39mnum_axes)]\n",
      "File \u001b[0;32m~/miniforge3/envs/torch-neur-opp/lib/python3.11/site-packages/pde/tools/expressions.py:588\u001b[0m, in \u001b[0;36mScalarExpression.__init__\u001b[0;34m(self, expression, signature, user_funcs, consts, explicit_symbols, allow_indexed)\u001b[0m\n\u001b[1;32m    584\u001b[0m \u001b[38;5;28;01melse\u001b[39;00m:\n\u001b[1;32m    585\u001b[0m     \u001b[38;5;66;03m# expression is empty, False or None => set it to zero\u001b[39;00m\n\u001b[1;32m    586\u001b[0m     sympy_expr \u001b[38;5;241m=\u001b[39m sympy\u001b[38;5;241m.\u001b[39mFloat(\u001b[38;5;241m0\u001b[39m)\n\u001b[0;32m--> 588\u001b[0m \u001b[38;5;28;43msuper\u001b[39;49m\u001b[43m(\u001b[49m\u001b[43m)\u001b[49m\u001b[38;5;241;43m.\u001b[39;49m\u001b[38;5;21;43m__init__\u001b[39;49m\u001b[43m(\u001b[49m\n\u001b[1;32m    589\u001b[0m \u001b[43m    \u001b[49m\u001b[43mexpression\u001b[49m\u001b[38;5;241;43m=\u001b[39;49m\u001b[43msympy_expr\u001b[49m\u001b[43m,\u001b[49m\n\u001b[1;32m    590\u001b[0m \u001b[43m    \u001b[49m\u001b[43msignature\u001b[49m\u001b[38;5;241;43m=\u001b[39;49m\u001b[43msignature\u001b[49m\u001b[43m,\u001b[49m\n\u001b[1;32m    591\u001b[0m \u001b[43m    \u001b[49m\u001b[43muser_funcs\u001b[49m\u001b[38;5;241;43m=\u001b[39;49m\u001b[43muser_funcs\u001b[49m\u001b[43m,\u001b[49m\n\u001b[1;32m    592\u001b[0m \u001b[43m    \u001b[49m\u001b[43mconsts\u001b[49m\u001b[38;5;241;43m=\u001b[39;49m\u001b[43mconsts\u001b[49m\u001b[43m,\u001b[49m\n\u001b[1;32m    593\u001b[0m \u001b[43m\u001b[49m\u001b[43m)\u001b[49m\n",
      "File \u001b[0;32m~/miniforge3/envs/torch-neur-opp/lib/python3.11/site-packages/pde/tools/expressions.py:240\u001b[0m, in \u001b[0;36mExpressionBase.__init__\u001b[0;34m(self, expression, signature, user_funcs, consts)\u001b[0m\n\u001b[1;32m    215\u001b[0m \u001b[38;5;250m\u001b[39m\u001b[38;5;124;03m\"\"\"\u001b[39;00m\n\u001b[1;32m    216\u001b[0m \u001b[38;5;124;03mWarning:\u001b[39;00m\n\u001b[1;32m    217\u001b[0m \u001b[38;5;124;03m    {WARNING_EXEC}\u001b[39;00m\n\u001b[0;32m   (...)\u001b[0m\n\u001b[1;32m    237\u001b[0m \u001b[38;5;124;03m        :class:`~numpy.ndarray`.\u001b[39;00m\n\u001b[1;32m    238\u001b[0m \u001b[38;5;124;03m\"\"\"\u001b[39;00m\n\u001b[1;32m    239\u001b[0m \u001b[38;5;28;01mtry\u001b[39;00m:\n\u001b[0;32m--> 240\u001b[0m     \u001b[38;5;28mself\u001b[39m\u001b[38;5;241m.\u001b[39m_sympy_expr \u001b[38;5;241m=\u001b[39m \u001b[43msympy\u001b[49m\u001b[38;5;241;43m.\u001b[39;49m\u001b[43msimplify\u001b[49m\u001b[43m(\u001b[49m\u001b[43mexpression\u001b[49m\u001b[43m)\u001b[49m\n\u001b[1;32m    241\u001b[0m \u001b[38;5;28;01mexcept\u001b[39;00m \u001b[38;5;167;01mTypeError\u001b[39;00m:\n\u001b[1;32m    242\u001b[0m     \u001b[38;5;66;03m# work-around for sympy bug (github.com/sympy/sympy/issues/19829)\u001b[39;00m\n\u001b[1;32m    243\u001b[0m     \u001b[38;5;28mself\u001b[39m\u001b[38;5;241m.\u001b[39m_sympy_expr \u001b[38;5;241m=\u001b[39m expression\n",
      "File \u001b[0;32m~/miniforge3/envs/torch-neur-opp/lib/python3.11/site-packages/sympy/simplify/simplify.py:643\u001b[0m, in \u001b[0;36msimplify\u001b[0;34m(expr, ratio, measure, rational, inverse, doit, **kwargs)\u001b[0m\n\u001b[1;32m    640\u001b[0m     expr \u001b[38;5;241m=\u001b[39m nsimplify(expr, rational\u001b[38;5;241m=\u001b[39m\u001b[38;5;28;01mTrue\u001b[39;00m)\n\u001b[1;32m    642\u001b[0m expr \u001b[38;5;241m=\u001b[39m _bottom_up(expr, \u001b[38;5;28;01mlambda\u001b[39;00m w: \u001b[38;5;28mgetattr\u001b[39m(w, \u001b[38;5;124m'\u001b[39m\u001b[38;5;124mnormal\u001b[39m\u001b[38;5;124m'\u001b[39m, \u001b[38;5;28;01mlambda\u001b[39;00m: w)())\n\u001b[0;32m--> 643\u001b[0m expr \u001b[38;5;241m=\u001b[39m Mul(\u001b[38;5;241m*\u001b[39m\u001b[43mpowsimp\u001b[49m\u001b[43m(\u001b[49m\u001b[43mexpr\u001b[49m\u001b[43m)\u001b[49m\u001b[38;5;241;43m.\u001b[39;49m\u001b[43mas_content_primitive\u001b[49m\u001b[43m(\u001b[49m\u001b[43m)\u001b[49m)\n\u001b[1;32m    644\u001b[0m _e \u001b[38;5;241m=\u001b[39m cancel(expr)\n\u001b[1;32m    645\u001b[0m expr1 \u001b[38;5;241m=\u001b[39m shorter(_e, _mexpand(_e)\u001b[38;5;241m.\u001b[39mcancel())  \u001b[38;5;66;03m# issue 6829\u001b[39;00m\n",
      "File \u001b[0;32m~/miniforge3/envs/torch-neur-opp/lib/python3.11/site-packages/sympy/core/add.py:1202\u001b[0m, in \u001b[0;36mAdd.as_content_primitive\u001b[0;34m(self, radical, clear)\u001b[0m\n\u001b[1;32m   1182\u001b[0m \u001b[38;5;28;01mdef\u001b[39;00m \u001b[38;5;21mas_content_primitive\u001b[39m(\u001b[38;5;28mself\u001b[39m, radical\u001b[38;5;241m=\u001b[39m\u001b[38;5;28;01mFalse\u001b[39;00m, clear\u001b[38;5;241m=\u001b[39m\u001b[38;5;28;01mTrue\u001b[39;00m):\n\u001b[1;32m   1183\u001b[0m \u001b[38;5;250m    \u001b[39m\u001b[38;5;124;03m\"\"\"Return the tuple (R, self/R) where R is the positive Rational\u001b[39;00m\n\u001b[1;32m   1184\u001b[0m \u001b[38;5;124;03m    extracted from self. If radical is True (default is False) then\u001b[39;00m\n\u001b[1;32m   1185\u001b[0m \u001b[38;5;124;03m    common radicals will be removed and included as a factor of the\u001b[39;00m\n\u001b[0;32m   (...)\u001b[0m\n\u001b[1;32m   1200\u001b[0m \u001b[38;5;124;03m    See docstring of Expr.as_content_primitive for more examples.\u001b[39;00m\n\u001b[1;32m   1201\u001b[0m \u001b[38;5;124;03m    \"\"\"\u001b[39;00m\n\u001b[0;32m-> 1202\u001b[0m     con, prim \u001b[38;5;241m=\u001b[39m \u001b[38;5;28mself\u001b[39m\u001b[38;5;241m.\u001b[39mfunc(\u001b[38;5;241m*\u001b[39m\u001b[43m[\u001b[49m\u001b[43m_keep_coeff\u001b[49m\u001b[43m(\u001b[49m\u001b[38;5;241;43m*\u001b[39;49m\u001b[43ma\u001b[49m\u001b[38;5;241;43m.\u001b[39;49m\u001b[43mas_content_primitive\u001b[49m\u001b[43m(\u001b[49m\n\u001b[1;32m   1203\u001b[0m \u001b[43m        \u001b[49m\u001b[43mradical\u001b[49m\u001b[38;5;241;43m=\u001b[39;49m\u001b[43mradical\u001b[49m\u001b[43m,\u001b[49m\u001b[43m \u001b[49m\u001b[43mclear\u001b[49m\u001b[38;5;241;43m=\u001b[39;49m\u001b[43mclear\u001b[49m\u001b[43m)\u001b[49m\u001b[43m)\u001b[49m\u001b[43m \u001b[49m\u001b[38;5;28;43;01mfor\u001b[39;49;00m\u001b[43m \u001b[49m\u001b[43ma\u001b[49m\u001b[43m \u001b[49m\u001b[38;5;129;43;01min\u001b[39;49;00m\u001b[43m \u001b[49m\u001b[38;5;28;43mself\u001b[39;49m\u001b[38;5;241;43m.\u001b[39;49m\u001b[43margs\u001b[49m\u001b[43m]\u001b[49m)\u001b[38;5;241m.\u001b[39mprimitive()\n\u001b[1;32m   1204\u001b[0m     \u001b[38;5;28;01mif\u001b[39;00m \u001b[38;5;129;01mnot\u001b[39;00m clear \u001b[38;5;129;01mand\u001b[39;00m \u001b[38;5;129;01mnot\u001b[39;00m con\u001b[38;5;241m.\u001b[39mis_Integer \u001b[38;5;129;01mand\u001b[39;00m prim\u001b[38;5;241m.\u001b[39mis_Add:\n\u001b[1;32m   1205\u001b[0m         con, d \u001b[38;5;241m=\u001b[39m con\u001b[38;5;241m.\u001b[39mas_numer_denom()\n",
      "File \u001b[0;32m~/miniforge3/envs/torch-neur-opp/lib/python3.11/site-packages/sympy/core/add.py:1202\u001b[0m, in \u001b[0;36m<listcomp>\u001b[0;34m(.0)\u001b[0m\n\u001b[1;32m   1182\u001b[0m \u001b[38;5;28;01mdef\u001b[39;00m \u001b[38;5;21mas_content_primitive\u001b[39m(\u001b[38;5;28mself\u001b[39m, radical\u001b[38;5;241m=\u001b[39m\u001b[38;5;28;01mFalse\u001b[39;00m, clear\u001b[38;5;241m=\u001b[39m\u001b[38;5;28;01mTrue\u001b[39;00m):\n\u001b[1;32m   1183\u001b[0m \u001b[38;5;250m    \u001b[39m\u001b[38;5;124;03m\"\"\"Return the tuple (R, self/R) where R is the positive Rational\u001b[39;00m\n\u001b[1;32m   1184\u001b[0m \u001b[38;5;124;03m    extracted from self. If radical is True (default is False) then\u001b[39;00m\n\u001b[1;32m   1185\u001b[0m \u001b[38;5;124;03m    common radicals will be removed and included as a factor of the\u001b[39;00m\n\u001b[0;32m   (...)\u001b[0m\n\u001b[1;32m   1200\u001b[0m \u001b[38;5;124;03m    See docstring of Expr.as_content_primitive for more examples.\u001b[39;00m\n\u001b[1;32m   1201\u001b[0m \u001b[38;5;124;03m    \"\"\"\u001b[39;00m\n\u001b[0;32m-> 1202\u001b[0m     con, prim \u001b[38;5;241m=\u001b[39m \u001b[38;5;28mself\u001b[39m\u001b[38;5;241m.\u001b[39mfunc(\u001b[38;5;241m*\u001b[39m[_keep_coeff(\u001b[38;5;241m*\u001b[39m\u001b[43ma\u001b[49m\u001b[38;5;241;43m.\u001b[39;49m\u001b[43mas_content_primitive\u001b[49m\u001b[43m(\u001b[49m\n\u001b[1;32m   1203\u001b[0m \u001b[43m        \u001b[49m\u001b[43mradical\u001b[49m\u001b[38;5;241;43m=\u001b[39;49m\u001b[43mradical\u001b[49m\u001b[43m,\u001b[49m\u001b[43m \u001b[49m\u001b[43mclear\u001b[49m\u001b[38;5;241;43m=\u001b[39;49m\u001b[43mclear\u001b[49m\u001b[43m)\u001b[49m) \u001b[38;5;28;01mfor\u001b[39;00m a \u001b[38;5;129;01min\u001b[39;00m \u001b[38;5;28mself\u001b[39m\u001b[38;5;241m.\u001b[39margs])\u001b[38;5;241m.\u001b[39mprimitive()\n\u001b[1;32m   1204\u001b[0m     \u001b[38;5;28;01mif\u001b[39;00m \u001b[38;5;129;01mnot\u001b[39;00m clear \u001b[38;5;129;01mand\u001b[39;00m \u001b[38;5;129;01mnot\u001b[39;00m con\u001b[38;5;241m.\u001b[39mis_Integer \u001b[38;5;129;01mand\u001b[39;00m prim\u001b[38;5;241m.\u001b[39mis_Add:\n\u001b[1;32m   1205\u001b[0m         con, d \u001b[38;5;241m=\u001b[39m con\u001b[38;5;241m.\u001b[39mas_numer_denom()\n",
      "File \u001b[0;32m~/miniforge3/envs/torch-neur-opp/lib/python3.11/site-packages/sympy/core/mul.py:2063\u001b[0m, in \u001b[0;36mMul.as_content_primitive\u001b[0;34m(self, radical, clear)\u001b[0m\n\u001b[1;32m   2061\u001b[0m args \u001b[38;5;241m=\u001b[39m []\n\u001b[1;32m   2062\u001b[0m \u001b[38;5;28;01mfor\u001b[39;00m a \u001b[38;5;129;01min\u001b[39;00m \u001b[38;5;28mself\u001b[39m\u001b[38;5;241m.\u001b[39margs:\n\u001b[0;32m-> 2063\u001b[0m     c, p \u001b[38;5;241m=\u001b[39m \u001b[43ma\u001b[49m\u001b[38;5;241;43m.\u001b[39;49m\u001b[43mas_content_primitive\u001b[49m\u001b[43m(\u001b[49m\u001b[43mradical\u001b[49m\u001b[38;5;241;43m=\u001b[39;49m\u001b[43mradical\u001b[49m\u001b[43m,\u001b[49m\u001b[43m \u001b[49m\u001b[43mclear\u001b[49m\u001b[38;5;241;43m=\u001b[39;49m\u001b[43mclear\u001b[49m\u001b[43m)\u001b[49m\n\u001b[1;32m   2064\u001b[0m     coef \u001b[38;5;241m*\u001b[39m\u001b[38;5;241m=\u001b[39m c\n\u001b[1;32m   2065\u001b[0m     \u001b[38;5;28;01mif\u001b[39;00m p \u001b[38;5;129;01mis\u001b[39;00m \u001b[38;5;129;01mnot\u001b[39;00m S\u001b[38;5;241m.\u001b[39mOne:\n",
      "File \u001b[0;32m~/miniforge3/envs/torch-neur-opp/lib/python3.11/site-packages/sympy/core/expr.py:2110\u001b[0m, in \u001b[0;36mExpr.as_content_primitive\u001b[0;34m(self, radical, clear)\u001b[0m\n\u001b[1;32m   2107\u001b[0m         c, r \u001b[38;5;241m=\u001b[39m \u001b[38;5;241m-\u001b[39mc, \u001b[38;5;241m-\u001b[39mr\n\u001b[1;32m   2108\u001b[0m     \u001b[38;5;28;01mreturn\u001b[39;00m c, r\n\u001b[0;32m-> 2110\u001b[0m \u001b[38;5;28;01mdef\u001b[39;00m \u001b[38;5;21mas_content_primitive\u001b[39m(\u001b[38;5;28mself\u001b[39m, radical\u001b[38;5;241m=\u001b[39m\u001b[38;5;28;01mFalse\u001b[39;00m, clear\u001b[38;5;241m=\u001b[39m\u001b[38;5;28;01mTrue\u001b[39;00m):\n\u001b[1;32m   2111\u001b[0m \u001b[38;5;250m    \u001b[39m\u001b[38;5;124;03m\"\"\"This method should recursively remove a Rational from all arguments\u001b[39;00m\n\u001b[1;32m   2112\u001b[0m \u001b[38;5;124;03m    and return that (content) and the new self (primitive). The content\u001b[39;00m\n\u001b[1;32m   2113\u001b[0m \u001b[38;5;124;03m    should always be positive and ``Mul(*foo.as_content_primitive()) == foo``.\u001b[39;00m\n\u001b[0;32m   (...)\u001b[0m\n\u001b[1;32m   2163\u001b[0m \u001b[38;5;124;03m    (1, x/2 + y)\u001b[39;00m\n\u001b[1;32m   2164\u001b[0m \u001b[38;5;124;03m    \"\"\"\u001b[39;00m\n\u001b[1;32m   2165\u001b[0m     \u001b[38;5;28;01mreturn\u001b[39;00m S\u001b[38;5;241m.\u001b[39mOne, \u001b[38;5;28mself\u001b[39m\n",
      "\u001b[0;31mKeyboardInterrupt\u001b[0m: "
     ]
    }
   ],
   "source": [
    "def generate_grid(N:int, x_periodic:bool, y_periodic:bool):\n",
    "    grid = UnitGrid([N, N], periodic=[x_periodic, y_periodic])\n",
    "    return grid\n",
    "\n",
    "def generate_sinusoidal_weights(cos_x_params, sin_x_params, cos_y_params, sin_y_params):\n",
    "    cos_x_inital_weights = [(np.random.normal(mu, sigma), (idx + 1) / N) for idx, (mu, sigma) in enumerate(cos_x_params)]\n",
    "    sin_x_inital_weights = [(np.random.normal(mu, sigma), (idx + 1) / N) for idx, (mu, sigma) in enumerate(sin_x_params)]\n",
    "    cos_y_inital_weights = [(np.random.normal(mu, sigma), (idx + 1) / N) for idx, (mu, sigma) in enumerate(cos_y_params)]\n",
    "    sin_y_inital_weights = [(np.random.normal(mu, sigma), (idx + 1) / N) for idx, (mu, sigma) in enumerate(sin_y_params)]\n",
    "    return cos_x_inital_weights, sin_x_inital_weights, cos_y_inital_weights, sin_y_inital_weights\n",
    "\n",
    "def generate_sinusoidal_equation(cos_x_inital_weights, sin_x_inital_weights, cos_y_inital_weights, sin_y_inital_weights):\n",
    "    init_equation = generate_string(cos_x_inital_weights)\n",
    "    init_equation += '+' + generate_string(sin_x_inital_weights, opp='sin')\n",
    "    init_equation += '+' + generate_string(cos_y_inital_weights, var='y')\n",
    "    init_equation += '+' + generate_string(sin_y_inital_weights, opp='sin', var='y')\n",
    "    return init_equation\n",
    "\n",
    "def generate_periodic_init_state(grid, init_equation):\n",
    "    state = ScalarField.from_expression(grid, init_equation)\n",
    "    state.data = np.maximum(np.minimum(state.data, 0.9), 0.1)\n",
    "    return state\n",
    "\n",
    "def generate_random_init_state(grid):\n",
    "    state = ScalarField.random_uniform(grid, 0.1, 0.9)\n",
    "    return state\n",
    "\n",
    "def get_nu_sample():\n",
    "    nu = np.random.uniform(low=0.1, high=0.4)\n",
    "    print(nu)\n",
    "    return nu\n",
    "\n",
    "def get_fixed_nu():\n",
    "    return 0.2\n",
    "\n",
    "def generate_boundary_conditions(x_periodic:bool, y_periodic:bool):\n",
    "    if(x_periodic):\n",
    "        bc_x = 'periodic'\n",
    "    else:\n",
    "        bc_x = {\"derivative\": 0.0}\n",
    "    if(y_periodic):\n",
    "        bc_y = 'periodic'\n",
    "    else:\n",
    "        bc_y = {\"derivative\": 0.0}\n",
    "    return [bc_x, bc_y]\n",
    "\n",
    "def get_burgers_pde(nu, bcs):\n",
    "    eq = PDE(\n",
    "        {'u':f'{nu} * (laplace(u) + laplace(u)) - u * (getx(gradient(u)) + gety(gradient(u)))'},\n",
    "        user_funcs={'getx':lambda arr: arr[0], 'gety':lambda arr: arr[1]},\n",
    "        bc=bcs\n",
    "    )\n",
    "    return eq\n",
    "\n",
    "def solve_pde(eq, state):\n",
    "    example = []\n",
    "    storage = MemoryStorage()\n",
    "    results = eq.solve(state, t_range=10, dt=0.25, tracker=[\"progress\", storage.tracker(0.25)])\n",
    "    for time_step, field in storage.items():\n",
    "        example.append(np.expand_dims(field.data, axis=0))\n",
    "    example = np.expand_dims(np.concatenate(example.copy()), axis=0)\n",
    "    # movie(storage, filename=\"example_burgers.mov\")\n",
    "    print(example.min(), example.max(), example.mean(), example.std())\n",
    "    if(np.any(np.isnan(example))):\n",
    "        raise Exception('')\n",
    "    return example\n",
    "\n",
    "\n",
    "cos_x_params = [(0.4, 0.25),(0.3, 0.3)]\n",
    "sin_x_params = [(0.25, 0.1),(0.0, 0.3),(0.5, 0.1)]\n",
    "cos_y_params = [(0.1, 0.1),(0.0, 0.1),(0.2, 0.01),(0.3, 0.1)]\n",
    "sin_y_params = [(0.25, 0.125),]\n",
    "\n",
    "def generate_example(N, x_periodic, y_periodic, random_nu_sample:bool=True, periodic_init:bool=True):\n",
    "    # get the grid\n",
    "    grid = generate_grid(N, x_periodic, y_periodic)\n",
    "    # get the initial state\n",
    "    if(periodic_init):\n",
    "        weights = generate_sinusoidal_weights(cos_x_params, sin_x_params, cos_y_params, sin_y_params)\n",
    "        init_equation = generate_sinusoidal_equation(*weights)\n",
    "        state = generate_periodic_init_state(grid, init_equation)\n",
    "    else:\n",
    "        init_equation = 'uniform 0.1 to 0.4'\n",
    "        state = generate_random_init_state(grid)\n",
    "    # get the hyperparams\n",
    "    if(random_nu_sample):\n",
    "        nu = get_nu_sample()\n",
    "    else:\n",
    "        nu = get_fixed_nu()\n",
    "    # get boundary conditions\n",
    "    boundary_conditions = generate_boundary_conditions(x_periodic, y_periodic)\n",
    "    # get the pde\n",
    "    eq = get_burgers_pde(nu, boundary_conditions)\n",
    "    # solve the pde\n",
    "    solution = solve_pde(eq, state)\n",
    "    # delete the things we don't need\n",
    "    del grid\n",
    "    del state\n",
    "    del eq\n",
    "    gc.collect()\n",
    "    return solution, [nu, init_equation]\n",
    "\n",
    "N = 64\n",
    "X_PERIOD = False\n",
    "Y_PERIOD = False\n",
    "RANDOM_NU = False \n",
    "PERIODIC_INIT = True\n",
    "\n",
    "def generate_all_examples(n=50):\n",
    "    data, meta = [], []\n",
    "    for idx in range(n):\n",
    "        solution, info = generate_example(N, X_PERIOD, Y_PERIOD, random_nu_sample=RANDOM_NU, periodic_init=PERIODIC_INIT)\n",
    "        data.append(solution)\n",
    "        meta.append(info)\n",
    "    return np.concatenate(data), np.concatenate(meta)\n",
    "\n",
    "np.random.seed(1999)\n",
    "train_data, train_meta = generate_all_examples(n=50)\n",
    "val_data, val_meta = generate_all_examples(n=8)\n",
    "test_data, test_meta = generate_all_examples(n=8)\n",
    "\n",
    "name = f'burgers_{N}'\n",
    "if(PERIODIC_INIT):\n",
    "    name += '_period_init'\n",
    "else:\n",
    "    name += '_non_period_init'\n",
    "\n",
    "if(X_PERIOD):\n",
    "    name += '_x_period'\n",
    "else:\n",
    "    name += '_x_non_period'\n",
    "\n",
    "if(Y_PERIOD):\n",
    "    name += '_y_period'\n",
    "else:\n",
    "    name += '_y_non_period'\n",
    "\n",
    "if(RANDOM_NU):\n",
    "    name += '_varying_nu'\n",
    "else:\n",
    "    name += \"_fixed_nu\"\n",
    "\n",
    "name += '.npy'\n",
    "print(name)\n",
    "\n",
    "with open(name, mode='wb') as f:\n",
    "    np.save(f, train_data, allow_pickle=True)\n",
    "    np.save(f, val_data, allow_pickle=True)\n",
    "    np.save(f, test_data, allow_pickle=True)\n",
    "\n",
    "    np.save(f, train_meta, allow_pickle=True)\n",
    "    np.save(f, val_meta, allow_pickle=True)\n",
    "    np.save(f, test_meta, allow_pickle=True)\n",
    "    \n",
    "train_data.shape, val_data.shape, test_data.shape"
   ]
  },
  {
   "cell_type": "code",
   "execution_count": null,
   "metadata": {},
   "outputs": [],
   "source": []
  },
  {
   "cell_type": "code",
   "execution_count": null,
   "metadata": {},
   "outputs": [],
   "source": []
  },
  {
   "cell_type": "code",
   "execution_count": null,
   "metadata": {},
   "outputs": [],
   "source": []
  },
  {
   "cell_type": "code",
   "execution_count": null,
   "metadata": {},
   "outputs": [],
   "source": []
  },
  {
   "cell_type": "code",
   "execution_count": null,
   "metadata": {},
   "outputs": [],
   "source": []
  },
  {
   "cell_type": "code",
   "execution_count": null,
   "metadata": {},
   "outputs": [],
   "source": [
    "def generate_example(cos_x_params, sin_x_params, cos_y_params, sin_y_params, diffusivity=0.4):\n",
    "    N = 64\n",
    "    grid = UnitGrid([N, N], periodic=[False, False])\n",
    "    # get random init weights\n",
    "    cos_x_inital_weights = [(np.random.normal(mu, sigma), (idx + 1) / N) for idx, (mu, sigma) in enumerate(cos_x_params)]\n",
    "    sin_x_inital_weights = [(np.random.normal(mu, sigma), (idx + 1) / N) for idx, (mu, sigma) in enumerate(sin_x_params)]\n",
    "    cos_y_inital_weights = [(np.random.normal(mu, sigma), (idx + 1) / N) for idx, (mu, sigma) in enumerate(cos_y_params)]\n",
    "    sin_y_inital_weights = [(np.random.normal(mu, sigma), (idx + 1) / N) for idx, (mu, sigma) in enumerate(sin_y_params)]\n",
    "    # get the string equation\n",
    "    init_equation = generate_string(cos_x_inital_weights)\n",
    "    init_equation += '+' + generate_string(sin_x_inital_weights, opp='sin')\n",
    "    init_equation += '+' + generate_string(cos_y_inital_weights, var='y')\n",
    "    init_equation += '+' + generate_string(sin_y_inital_weights, opp='sin', var='y')\n",
    "    # generate the inital state\n",
    "    state = ScalarField.from_expression(grid, init_equation)\n",
    "    # bc_x = 'periodic'\n",
    "    # bc_y = 'periodic' \n",
    "    bc_x = {\"derivative\": 0.0}\n",
    "    bc_y = {\"derivative\": 0.0}\n",
    "    eq = DiffusionPDE(diffusivity=diffusivity, bc=[bc_x, bc_y])\n",
    "    # get examples\n",
    "    example = []\n",
    "    storage = MemoryStorage()\n",
    "    results = eq.solve(state, t_range=4, dt=0.1, tracker=[\"progress\", storage.tracker(0.1)])\n",
    "    del grid\n",
    "    del state\n",
    "    del eq\n",
    "    gc.collect()\n",
    "\n",
    "    for time_step, field in storage.items():\n",
    "        example.append(np.expand_dims(field.data, axis=0))\n",
    "    example = np.expand_dims(np.concatenate(example.copy()), axis=0)\n",
    "\n",
    "    del storage\n",
    "    del results\n",
    "    gc.collect()\n",
    "    return example, init_equation\n",
    "\n",
    "cos_x_params = [(1.0, 1.0),(-0.75, 1.0)]\n",
    "sin_x_params = [(-0.25, 1.0),(0.0, 0.1),(2.0, 1.0)]\n",
    "cos_y_params = [(0.0, 0.1),(0.0, 0.1),(0.0, 0.01),(3.0, 1.0)]\n",
    "sin_y_params = [(2.0, 1.25),]\n",
    "\n",
    "def get_diffusivity_sample():\n",
    "    diffusivity = np.random.normal(loc=0.4, scale=0.1)\n",
    "    diffusivity = max(diffusivity, 0.2)\n",
    "    diffusivity = min(diffusivity, 0.6)\n",
    "    return diffusivity\n",
    "\n",
    "def generate_example_solution(data, meta_info):\n",
    "    diffusivity = get_diffusivity_sample()\n",
    "    example, equation = generate_example(cos_x_params, sin_x_params, cos_y_params, sin_y_params, diffusivity=diffusivity)\n",
    "    data.append(example)\n",
    "    meta_info.append((diffusivity, equation))\n",
    "\n",
    "train_data, train_meta = [], []\n",
    "for train_idx in range(50):\n",
    "    generate_example_solution(train_data, train_meta)\n",
    "train_data = np.concatenate(train_data)\n",
    "train_meta = np.concatenate(train_meta)\n",
    "\n",
    "val_data, val_meta = [], []\n",
    "for val_idx in range(8):\n",
    "    generate_example_solution(val_data, val_meta)\n",
    "val_data = np.concatenate(val_data)\n",
    "val_meta = np.concatenate(val_meta)\n",
    "\n",
    "test_data, test_meta = [], []\n",
    "for test_idx in range(8):\n",
    "    generate_example_solution(test_data, test_meta)\n",
    "test_data = np.concatenate(test_data)\n",
    "test_meta = np.concatenate(test_meta)\n",
    "\n",
    "with open('diffusion_varying_sinusoidal_init_varying_diffusivity_non_periodic_boundaries.npy', mode='wb') as f:\n",
    "    np.save(f, train_data, allow_pickle=True)\n",
    "    np.save(f, val_data, allow_pickle=True)\n",
    "    np.save(f, test_data, allow_pickle=True)\n",
    "\n",
    "    np.save(f, train_meta, allow_pickle=True)\n",
    "    np.save(f, val_meta, allow_pickle=True)\n",
    "    np.save(f, test_meta, allow_pickle=True)\n",
    "    \n",
    "\n",
    "train_data.shape, val_data.shape, test_data.shape"
   ]
  },
  {
   "cell_type": "code",
   "execution_count": null,
   "metadata": {},
   "outputs": [],
   "source": []
  },
  {
   "cell_type": "code",
   "execution_count": null,
   "metadata": {},
   "outputs": [],
   "source": []
  },
  {
   "cell_type": "code",
   "execution_count": null,
   "metadata": {},
   "outputs": [],
   "source": []
  },
  {
   "cell_type": "code",
   "execution_count": null,
   "metadata": {},
   "outputs": [],
   "source": []
  },
  {
   "cell_type": "code",
   "execution_count": null,
   "metadata": {},
   "outputs": [],
   "source": []
  },
  {
   "cell_type": "code",
   "execution_count": null,
   "metadata": {},
   "outputs": [],
   "source": []
  },
  {
   "cell_type": "code",
   "execution_count": null,
   "metadata": {},
   "outputs": [],
   "source": [
    "grid = UnitGrid([64, 64], periodic=[True, True])\n",
    "# state = ScalarField.random_uniform(grid, 0.0, 1.0)\n",
    "state = ScalarField.from_expression(grid, '0.197*cos(0.016*2*pi*x)+-0.917*cos(0.031*2*pi*x)+1.296*sin(0.016*2*pi*x)+-0.107*sin(0.031*2*pi*x)+1.053*sin(0.047*2*pi*x)+-0.012*cos(0.016*2*pi*y)+-0.016*cos(0.031*2*pi*y)+-0.004*cos(0.047*2*pi*y)+3.506*cos(0.062*2*pi*y)+4.199*sin(0.016*2*pi*y)')\n",
    "state.data = (state.data - state.data.min()) / (state.data.max() - state.data.min())\n",
    "nu = 0.4\n",
    "eq = PDE(\n",
    "    {'u':f'{nu} * (laplace(u) + laplace(u)) - u * (getx(gradient(u)) + gety(gradient(u)))'},\n",
    "    user_funcs={'getx':lambda arr: arr[0], 'gety':lambda arr: arr[1]}\n",
    ")\n",
    "\n",
    "example = []\n",
    "storage = MemoryStorage()\n",
    "results = eq.solve(state, t_range=5, dt=0.1, tracker=[\"progress\", storage.tracker(0.1)])\n",
    "\n",
    "movie(storage, filename=\"example_burgers.mov\")\n",
    "plot_kymograph(storage)\n"
   ]
  },
  {
   "cell_type": "code",
   "execution_count": null,
   "metadata": {},
   "outputs": [],
   "source": [
    "\n",
    "grid = UnitGrid([64, 64], periodic=[False, True])  # generate grid\n",
    "state = ScalarField.random_uniform(grid, 0.0, 1.0)  # generate initial condition\n",
    "\n",
    "bc_x_left = {\"derivative\": 0.0}\n",
    "bc_x_right = {\"value\": 0.0}\n",
    "bc_x = [bc_x_left, bc_x_right]\n",
    "bc_y = \"periodic\"\n",
    "\n",
    "eq = DiffusionPDE(diffusivity=0.4, bc=[bc_x, bc_y])\n",
    "\n",
    "storage = MemoryStorage()\n",
    "results = eq.solve(state, t_range=10, dt=0.1, tracker=[\"progress\", storage.tracker(0.1)])"
   ]
  },
  {
   "cell_type": "code",
   "execution_count": null,
   "metadata": {},
   "outputs": [],
   "source": []
  },
  {
   "cell_type": "code",
   "execution_count": null,
   "metadata": {},
   "outputs": [],
   "source": []
  },
  {
   "cell_type": "code",
   "execution_count": null,
   "metadata": {},
   "outputs": [],
   "source": [
    "import numpy as np\n",
    "np.pi * 2"
   ]
  },
  {
   "cell_type": "code",
   "execution_count": null,
   "metadata": {},
   "outputs": [],
   "source": [
    "def generate_string(params, opp='cos', var='x'):\n",
    "    string = \"\"\n",
    "    for idx, param in enumerate(params):\n",
    "        if(idx == 0):\n",
    "            string += f\"{param}*{opp}({var})\"\n",
    "        else:\n",
    "            string += f\"+{param}*{opp}({var})\"\n",
    "    return string"
   ]
  },
  {
   "cell_type": "code",
   "execution_count": null,
   "metadata": {},
   "outputs": [],
   "source": [
    "def generate_unit_grid(x_dims, y_dims, x_periodic=False, y_periodic=False):\n",
    "    grid = UnitGrid([x_dims, y_dims], periodic=[x_periodic, y_periodic])\n",
    "    return grid\n",
    "\n",
    "def generate_init_field_from_eq(grid, equation):\n",
    "    state = ScalarField.from_expression(grid, equation)\n",
    "    return state\n",
    "\n",
    "def generate_init_field_from_random_uniform(grid, lower, upper):\n",
    "    state = ScalarField.random_uniform(grid, 0.0, 1.0)\n",
    "    return state\n",
    "\n",
    "def generate_init_field_from_random_normal(grid, mu, sigma):\n",
    "    state = ScalarField.random_normal(grid, mean=mu, scaling=sigma)\n",
    "    return state"
   ]
  },
  {
   "cell_type": "code",
   "execution_count": null,
   "metadata": {},
   "outputs": [],
   "source": [
    "def generate_boundary_conditions()"
   ]
  },
  {
   "cell_type": "code",
   "execution_count": null,
   "metadata": {},
   "outputs": [],
   "source": [
    "from pde import DiffusionPDE, ScalarField, UnitGrid, CartesianGrid, MemoryStorage\n",
    "\n",
    "grid = UnitGrid([64, 64], periodic=[False, True])  # generate grid\n",
    "state = ScalarField.from_expression(grid, \"0.5*cos(x)-0.25*cos(y)\")  # generate initial condition\n",
    "\n",
    "bc_x_left = {\"derivative\": 0.0}\n",
    "bc_x_right = {\"value\": 0.0}\n",
    "bc_x = [bc_x_left, bc_x_right]\n",
    "bc_y = \"periodic\"\n",
    "\n",
    "eq = DiffusionPDE(diffusivity=0.4, bc=[bc_x, bc_y])\n",
    "\n",
    "storage = MemoryStorage()\n",
    "results = eq.solve(state, t_range=10, dt=0.1, tracker=[\"progress\", storage.tracker(0.1)])"
   ]
  },
  {
   "cell_type": "code",
   "execution_count": null,
   "metadata": {},
   "outputs": [],
   "source": [
    "for time, field in storage.items():\n",
    "    print(time, field)"
   ]
  },
  {
   "cell_type": "code",
   "execution_count": null,
   "metadata": {},
   "outputs": [],
   "source": [
    "MemoryStorage?"
   ]
  },
  {
   "cell_type": "code",
   "execution_count": null,
   "metadata": {},
   "outputs": [],
   "source": [
    "results = eq.solve(state, t_range=2, dt=0.1)\n",
    "results"
   ]
  },
  {
   "cell_type": "code",
   "execution_count": null,
   "metadata": {},
   "outputs": [],
   "source": [
    "results1"
   ]
  },
  {
   "cell_type": "code",
   "execution_count": null,
   "metadata": {},
   "outputs": [],
   "source": [
    "results2"
   ]
  },
  {
   "cell_type": "code",
   "execution_count": null,
   "metadata": {},
   "outputs": [],
   "source": [
    "\n",
    "# set boundary conditions `bc` for all axes\n",
    "bc_x_left = {\"derivative\": 0.1}\n",
    "bc_x_right = {\"value\": \"sin(y / 2)\"}\n",
    "bc_x = [bc_x_left, bc_x_right]\n",
    "bc_y = \"periodic\"\n",
    "eq = DiffusionPDE(bc=[bc_x, bc_y])\n",
    "\n",
    "result = eq.solve(state, t_range=10, dt=0.005)\n",
    "# results\n",
    "result"
   ]
  },
  {
   "cell_type": "code",
   "execution_count": null,
   "metadata": {},
   "outputs": [],
   "source": [
    "import autograd.numpy as np\n",
    "from autograd import grad, hessian"
   ]
  },
  {
   "cell_type": "code",
   "execution_count": null,
   "metadata": {},
   "outputs": [],
   "source": [
    "def init_conditions(x, y):\n",
    "    t = np.cos(x) + np.cos(y)\n",
    "    return t"
   ]
  },
  {
   "cell_type": "code",
   "execution_count": null,
   "metadata": {},
   "outputs": [],
   "source": [
    "grad_init = hessian(init_conditions)\n",
    "grad_init(0.0, 0.0)"
   ]
  },
  {
   "cell_type": "code",
   "execution_count": null,
   "metadata": {},
   "outputs": [],
   "source": [
    "import numpy as np"
   ]
  },
  {
   "cell_type": "code",
   "execution_count": null,
   "metadata": {},
   "outputs": [],
   "source": [
    "x = np.linspace(start=0, stop=1, num=128)\n",
    "y = np.linspace(start=0, stop=1, num=128)\n",
    "x, y = np.meshgrid(x, y)"
   ]
  },
  {
   "cell_type": "code",
   "execution_count": null,
   "metadata": {},
   "outputs": [],
   "source": [
    "x, y = np.meshgrid()"
   ]
  },
  {
   "cell_type": "code",
   "execution_count": null,
   "metadata": {},
   "outputs": [],
   "source": [
    "x = np.random.uniform(low=0, high=1, size=100)\n",
    "x"
   ]
  },
  {
   "cell_type": "code",
   "execution_count": null,
   "metadata": {},
   "outputs": [],
   "source": [
    "def step_in_time(x):\n",
    "    "
   ]
  },
  {
   "cell_type": "code",
   "execution_count": null,
   "metadata": {},
   "outputs": [],
   "source": []
  },
  {
   "cell_type": "code",
   "execution_count": null,
   "metadata": {},
   "outputs": [],
   "source": []
  },
  {
   "cell_type": "code",
   "execution_count": null,
   "metadata": {},
   "outputs": [],
   "source": [
    "def next_(u):\n",
    "    0.4 * (\n",
    "        np.roll(u, 1, axis=0) + \n",
    "        np.roll(u, -1, axis=0) + \n",
    "        np.roll(u, 1, axis=1) + \n",
    "        np.roll(u, -1, axis=1) -\n",
    "        4 * u\n",
    "    ) + u\n",
    "    "
   ]
  },
  {
   "cell_type": "code",
   "execution_count": null,
   "metadata": {},
   "outputs": [],
   "source": [
    "x = torch.tensor(np.pi / 4.1, requires_grad=True) #np.linspace(start=0, stop=2*np.pi, num=100), requires_grad=True)\n",
    "y = torch.cos(x)\n",
    "y.backward()\n",
    "x.grad"
   ]
  },
  {
   "cell_type": "code",
   "execution_count": null,
   "metadata": {},
   "outputs": [],
   "source": [
    "import deepxde as dde"
   ]
  },
  {
   "cell_type": "code",
   "execution_count": null,
   "metadata": {},
   "outputs": [],
   "source": [
    "ALPHA = 0.01\n",
    "\n",
    "def pde(X, T):\n",
    "    dT_xx = dde.grad.hessian(T, X, j=0)\n",
    "    dT_yy = dde.grad.hessian(T, X, j=1)\n",
    "    dT_t = dde.grad.jacobian(T, X, j=2)\n",
    "    return dT_t - (ALPHA * (dT_xx + dT_yy))"
   ]
  },
  {
   "cell_type": "code",
   "execution_count": null,
   "metadata": {},
   "outputs": [],
   "source": [
    "# Define the initial condition\n",
    "def initial_condition(x, y):\n",
    "    return np.exp(-(x**2 + y**2))"
   ]
  },
  {
   "cell_type": "code",
   "execution_count": null,
   "metadata": {},
   "outputs": [],
   "source": [
    "# Define the geometry\n",
    "geom = dde.geometry.Rectangle([0, 0], [1, 1])\n",
    "geom"
   ]
  },
  {
   "cell_type": "code",
   "execution_count": null,
   "metadata": {},
   "outputs": [],
   "source": [
    "timedomain = dde.geometry.TimeDomain(0, 50)\n",
    "timedomain"
   ]
  },
  {
   "cell_type": "code",
   "execution_count": null,
   "metadata": {},
   "outputs": [],
   "source": [
    "geomtime = dde.geometry.GeometryXTime(geom, timedomain)\n",
    "geomtime"
   ]
  },
  {
   "cell_type": "code",
   "execution_count": null,
   "metadata": {},
   "outputs": [],
   "source": [
    "T0 = 300\n",
    "Tinit = 1000\n",
    "\n",
    "def func(x):\n",
    "    return np.ones((len(x),1), dtype=np.float32)*T0\n",
    "\n",
    "def func_n(x):\n",
    "    return np.zeros((len(x),1), dtype=np.float32)\n",
    "\n",
    "def func_init(x):\n",
    "    return np.ones((len(x),1), dtype=np.float32)*Tinit"
   ]
  },
  {
   "cell_type": "code",
   "execution_count": null,
   "metadata": {},
   "outputs": [],
   "source": [
    "def boundary_x_l(x, on_boundary):\n",
    "    return on_boundary and np.isclose(x[0], 0)\n",
    "\n",
    "def boundary_x_r(x, on_boundary):\n",
    "    return on_boundary and np.isclose(x[0], 1)\n",
    "\n",
    "def boundary_y_b(x, on_boundary):\n",
    "    return on_boundary and np.isclose(x[1], 0)\n",
    "\n",
    "def boundary_y_u(x, on_boundary):\n",
    "    return on_boundary and np.isclose(x[1], 1)"
   ]
  },
  {
   "cell_type": "code",
   "execution_count": null,
   "metadata": {},
   "outputs": [],
   "source": [
    "bc_x_l = dde.DirichletBC(geomtime, func, boundary_x_l)\n",
    "bc_x_r = dde.DirichletBC(geomtime, func, boundary_x_r)\n",
    "bc_y_b = dde.DirichletBC(geomtime, func, boundary_y_b)\n",
    "bc_y_u = dde.NeumannBC(geomtime, func_n, boundary_y_u)\n",
    "ic = dde.IC(geomtime, func_init, lambda _, on_initial: on_initial)"
   ]
  },
  {
   "cell_type": "code",
   "execution_count": null,
   "metadata": {},
   "outputs": [],
   "source": [
    "data = dde.data.TimePDE(\n",
    "    geomtime,\n",
    "    pde, \n",
    "    [bc_x_l, bc_x_r, bc_y_b, bc_y_u, ic],\n",
    "    num_domain=1000,\n",
    "    num_boundary=1000,\n",
    "    num_initial=1000,\n",
    ")"
   ]
  },
  {
   "cell_type": "code",
   "execution_count": null,
   "metadata": {},
   "outputs": [],
   "source": [
    "data.train_next_batch()\n",
    "data.\n"
   ]
  },
  {
   "cell_type": "code",
   "execution_count": null,
   "metadata": {},
   "outputs": [],
   "source": []
  },
  {
   "cell_type": "code",
   "execution_count": null,
   "metadata": {},
   "outputs": [],
   "source": [
    "data.test()"
   ]
  },
  {
   "cell_type": "code",
   "execution_count": null,
   "metadata": {},
   "outputs": [],
   "source": [
    "net = dde.nn.FNN([1000], \"tanh\", \"Glorot normal\")"
   ]
  },
  {
   "cell_type": "code",
   "execution_count": null,
   "metadata": {},
   "outputs": [],
   "source": [
    "model = dde.Model(data, net)\n",
    "model.compile(\"adam\", lr=1e-3)"
   ]
  },
  {
   "cell_type": "code",
   "execution_count": null,
   "metadata": {},
   "outputs": [],
   "source": [
    "losshistory, train_state = model.train(iterations=20000)"
   ]
  },
  {
   "cell_type": "code",
   "execution_count": null,
   "metadata": {},
   "outputs": [],
   "source": []
  },
  {
   "cell_type": "code",
   "execution_count": null,
   "metadata": {},
   "outputs": [],
   "source": [
    "data.update()"
   ]
  },
  {
   "cell_type": "code",
   "execution_count": null,
   "metadata": {},
   "outputs": [],
   "source": [
    "data.get_x()"
   ]
  },
  {
   "cell_type": "code",
   "execution_count": null,
   "metadata": {},
   "outputs": [],
   "source": [
    "\n",
    "initial_condition_data = dde.data.PDE(geom, heat_equation, lambda _, on_initial: initial_condition(*on_initial), num_domain=1000, num_boundary=100)"
   ]
  },
  {
   "cell_type": "code",
   "execution_count": null,
   "metadata": {},
   "outputs": [],
   "source": [
    "x = np.linspace(start=0, stop=2*np.pi, num=100)\n",
    "y = np.cos(x)\n",
    "\n",
    "dde.grad.jacobian(x, y)"
   ]
  },
  {
   "cell_type": "code",
   "execution_count": null,
   "metadata": {},
   "outputs": [],
   "source": []
  }
 ],
 "metadata": {
  "kernelspec": {
   "display_name": "pytorch",
   "language": "python",
   "name": "python3"
  },
  "language_info": {
   "codemirror_mode": {
    "name": "ipython",
    "version": 3
   },
   "file_extension": ".py",
   "mimetype": "text/x-python",
   "name": "python",
   "nbconvert_exporter": "python",
   "pygments_lexer": "ipython3",
   "version": "3.11.6"
  }
 },
 "nbformat": 4,
 "nbformat_minor": 2
}
