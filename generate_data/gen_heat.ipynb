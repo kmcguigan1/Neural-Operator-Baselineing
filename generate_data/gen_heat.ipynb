{
 "cells": [
  {
   "cell_type": "code",
   "execution_count": 5,
   "metadata": {},
   "outputs": [],
   "source": [
    "from pde import DiffusionPDE, ScalarField, UnitGrid, CartesianGrid, MemoryStorage, PDE, movie, plot_kymograph\n",
    "import numpy as np\n",
    "import gc"
   ]
  },
  {
   "cell_type": "code",
   "execution_count": 7,
   "metadata": {},
   "outputs": [],
   "source": [
    "def generate_string(params, opp='cos', var='x'):\n",
    "    string = \"\"\n",
    "    for idx, param in enumerate(params):\n",
    "        if(idx == 0):\n",
    "            string += f\"{param}*{opp}({var})\"\n",
    "        else:\n",
    "            string += f\"+{param}*{opp}({var})\"\n",
    "    return string"
   ]
  },
  {
   "cell_type": "code",
   "execution_count": 8,
   "metadata": {},
   "outputs": [
    {
     "data": {
      "application/vnd.jupyter.widget-view+json": {
       "model_id": "05b0fc9171224944adc4cf8f1470799c",
       "version_major": 2,
       "version_minor": 0
      },
      "text/plain": [
       "  0%|          | 0/4.0 [00:00<?, ?it/s]"
      ]
     },
     "metadata": {},
     "output_type": "display_data"
    },
    {
     "data": {
      "application/vnd.jupyter.widget-view+json": {
       "model_id": "403d2f36b032411e89025c97f7bafc8c",
       "version_major": 2,
       "version_minor": 0
      },
      "text/plain": [
       "  0%|          | 0/4.0 [00:00<?, ?it/s]"
      ]
     },
     "metadata": {},
     "output_type": "display_data"
    },
    {
     "data": {
      "application/vnd.jupyter.widget-view+json": {
       "model_id": "3d84c78417b54ddbb45eee69eab4e1b1",
       "version_major": 2,
       "version_minor": 0
      },
      "text/plain": [
       "  0%|          | 0/4.0 [00:00<?, ?it/s]"
      ]
     },
     "metadata": {},
     "output_type": "display_data"
    },
    {
     "data": {
      "application/vnd.jupyter.widget-view+json": {
       "model_id": "52591b0af55246c98ed77c4f5fb390aa",
       "version_major": 2,
       "version_minor": 0
      },
      "text/plain": [
       "  0%|          | 0/4.0 [00:00<?, ?it/s]"
      ]
     },
     "metadata": {},
     "output_type": "display_data"
    },
    {
     "data": {
      "application/vnd.jupyter.widget-view+json": {
       "model_id": "3a755cb82fd2458d8870107df3e12b48",
       "version_major": 2,
       "version_minor": 0
      },
      "text/plain": [
       "  0%|          | 0/4.0 [00:00<?, ?it/s]"
      ]
     },
     "metadata": {},
     "output_type": "display_data"
    },
    {
     "data": {
      "application/vnd.jupyter.widget-view+json": {
       "model_id": "27dc07b32e6f4acba907590bb9ddf719",
       "version_major": 2,
       "version_minor": 0
      },
      "text/plain": [
       "  0%|          | 0/4.0 [00:00<?, ?it/s]"
      ]
     },
     "metadata": {},
     "output_type": "display_data"
    },
    {
     "data": {
      "application/vnd.jupyter.widget-view+json": {
       "model_id": "279f06a58e4f4fe7b3aafee63fb8d57b",
       "version_major": 2,
       "version_minor": 0
      },
      "text/plain": [
       "  0%|          | 0/4.0 [00:00<?, ?it/s]"
      ]
     },
     "metadata": {},
     "output_type": "display_data"
    },
    {
     "data": {
      "application/vnd.jupyter.widget-view+json": {
       "model_id": "eaefdc7c3edc4fb98e942ab86c4329b0",
       "version_major": 2,
       "version_minor": 0
      },
      "text/plain": [
       "  0%|          | 0/4.0 [00:00<?, ?it/s]"
      ]
     },
     "metadata": {},
     "output_type": "display_data"
    },
    {
     "data": {
      "application/vnd.jupyter.widget-view+json": {
       "model_id": "b5053a2b36a949f39d545d2a5e7bf563",
       "version_major": 2,
       "version_minor": 0
      },
      "text/plain": [
       "  0%|          | 0/4.0 [00:00<?, ?it/s]"
      ]
     },
     "metadata": {},
     "output_type": "display_data"
    },
    {
     "data": {
      "application/vnd.jupyter.widget-view+json": {
       "model_id": "e8de5d524ae143d294701a6d1a4159ef",
       "version_major": 2,
       "version_minor": 0
      },
      "text/plain": [
       "  0%|          | 0/4.0 [00:00<?, ?it/s]"
      ]
     },
     "metadata": {},
     "output_type": "display_data"
    },
    {
     "data": {
      "application/vnd.jupyter.widget-view+json": {
       "model_id": "ec65d80fa3704047a1ac6dcb0e505b6f",
       "version_major": 2,
       "version_minor": 0
      },
      "text/plain": [
       "  0%|          | 0/4.0 [00:00<?, ?it/s]"
      ]
     },
     "metadata": {},
     "output_type": "display_data"
    },
    {
     "data": {
      "application/vnd.jupyter.widget-view+json": {
       "model_id": "4afeb075835c437784d337847f060c01",
       "version_major": 2,
       "version_minor": 0
      },
      "text/plain": [
       "  0%|          | 0/4.0 [00:00<?, ?it/s]"
      ]
     },
     "metadata": {},
     "output_type": "display_data"
    },
    {
     "data": {
      "application/vnd.jupyter.widget-view+json": {
       "model_id": "32e9bbd58eb24e8482b2c11da9c9ac9f",
       "version_major": 2,
       "version_minor": 0
      },
      "text/plain": [
       "  0%|          | 0/4.0 [00:00<?, ?it/s]"
      ]
     },
     "metadata": {},
     "output_type": "display_data"
    },
    {
     "data": {
      "application/vnd.jupyter.widget-view+json": {
       "model_id": "99eb21dc331d4f1ca566a0f3d367ec8e",
       "version_major": 2,
       "version_minor": 0
      },
      "text/plain": [
       "  0%|          | 0/4.0 [00:00<?, ?it/s]"
      ]
     },
     "metadata": {},
     "output_type": "display_data"
    },
    {
     "data": {
      "application/vnd.jupyter.widget-view+json": {
       "model_id": "95b1e2ca772048a0b0d2b4c4400ecbd7",
       "version_major": 2,
       "version_minor": 0
      },
      "text/plain": [
       "  0%|          | 0/4.0 [00:00<?, ?it/s]"
      ]
     },
     "metadata": {},
     "output_type": "display_data"
    },
    {
     "data": {
      "application/vnd.jupyter.widget-view+json": {
       "model_id": "0202793cca994e939a19730392b4dc96",
       "version_major": 2,
       "version_minor": 0
      },
      "text/plain": [
       "  0%|          | 0/4.0 [00:00<?, ?it/s]"
      ]
     },
     "metadata": {},
     "output_type": "display_data"
    },
    {
     "data": {
      "application/vnd.jupyter.widget-view+json": {
       "model_id": "ec01e0dde0a2466ab78d638f1f3afbee",
       "version_major": 2,
       "version_minor": 0
      },
      "text/plain": [
       "  0%|          | 0/4.0 [00:00<?, ?it/s]"
      ]
     },
     "metadata": {},
     "output_type": "display_data"
    },
    {
     "data": {
      "application/vnd.jupyter.widget-view+json": {
       "model_id": "d40e0520b1e34db695eee75c42be5766",
       "version_major": 2,
       "version_minor": 0
      },
      "text/plain": [
       "  0%|          | 0/4.0 [00:00<?, ?it/s]"
      ]
     },
     "metadata": {},
     "output_type": "display_data"
    },
    {
     "data": {
      "application/vnd.jupyter.widget-view+json": {
       "model_id": "036b03aac8a8454797f133eaf0d49293",
       "version_major": 2,
       "version_minor": 0
      },
      "text/plain": [
       "  0%|          | 0/4.0 [00:00<?, ?it/s]"
      ]
     },
     "metadata": {},
     "output_type": "display_data"
    },
    {
     "data": {
      "application/vnd.jupyter.widget-view+json": {
       "model_id": "dc1972e18b214abe80c37c2e1f088bc7",
       "version_major": 2,
       "version_minor": 0
      },
      "text/plain": [
       "  0%|          | 0/4.0 [00:00<?, ?it/s]"
      ]
     },
     "metadata": {},
     "output_type": "display_data"
    },
    {
     "data": {
      "application/vnd.jupyter.widget-view+json": {
       "model_id": "a8037abb1a9b418c80231f3401eb7b37",
       "version_major": 2,
       "version_minor": 0
      },
      "text/plain": [
       "  0%|          | 0/4.0 [00:00<?, ?it/s]"
      ]
     },
     "metadata": {},
     "output_type": "display_data"
    },
    {
     "data": {
      "application/vnd.jupyter.widget-view+json": {
       "model_id": "f3324b133f5445d7b6f7d2e4fb25f9a5",
       "version_major": 2,
       "version_minor": 0
      },
      "text/plain": [
       "  0%|          | 0/4.0 [00:00<?, ?it/s]"
      ]
     },
     "metadata": {},
     "output_type": "display_data"
    },
    {
     "data": {
      "application/vnd.jupyter.widget-view+json": {
       "model_id": "d6aff281d6ed40ec92b9b28f6069b9fe",
       "version_major": 2,
       "version_minor": 0
      },
      "text/plain": [
       "  0%|          | 0/4.0 [00:00<?, ?it/s]"
      ]
     },
     "metadata": {},
     "output_type": "display_data"
    },
    {
     "data": {
      "application/vnd.jupyter.widget-view+json": {
       "model_id": "e65bb88fad73402c9e6d64611db930fd",
       "version_major": 2,
       "version_minor": 0
      },
      "text/plain": [
       "  0%|          | 0/4.0 [00:00<?, ?it/s]"
      ]
     },
     "metadata": {},
     "output_type": "display_data"
    },
    {
     "data": {
      "application/vnd.jupyter.widget-view+json": {
       "model_id": "886e96f458c8477593dd5e554c2453fb",
       "version_major": 2,
       "version_minor": 0
      },
      "text/plain": [
       "  0%|          | 0/4.0 [00:00<?, ?it/s]"
      ]
     },
     "metadata": {},
     "output_type": "display_data"
    },
    {
     "data": {
      "application/vnd.jupyter.widget-view+json": {
       "model_id": "baae24ac52704668b3d6e9f3b605affd",
       "version_major": 2,
       "version_minor": 0
      },
      "text/plain": [
       "  0%|          | 0/4.0 [00:00<?, ?it/s]"
      ]
     },
     "metadata": {},
     "output_type": "display_data"
    },
    {
     "data": {
      "application/vnd.jupyter.widget-view+json": {
       "model_id": "74f82dbd6b964f3c91c07294a7758009",
       "version_major": 2,
       "version_minor": 0
      },
      "text/plain": [
       "  0%|          | 0/4.0 [00:00<?, ?it/s]"
      ]
     },
     "metadata": {},
     "output_type": "display_data"
    },
    {
     "data": {
      "application/vnd.jupyter.widget-view+json": {
       "model_id": "fec8288849374f95a7791d9026282cb4",
       "version_major": 2,
       "version_minor": 0
      },
      "text/plain": [
       "  0%|          | 0/4.0 [00:00<?, ?it/s]"
      ]
     },
     "metadata": {},
     "output_type": "display_data"
    },
    {
     "data": {
      "application/vnd.jupyter.widget-view+json": {
       "model_id": "e0a7e3aae96842a094d474afb4f94606",
       "version_major": 2,
       "version_minor": 0
      },
      "text/plain": [
       "  0%|          | 0/4.0 [00:00<?, ?it/s]"
      ]
     },
     "metadata": {},
     "output_type": "display_data"
    },
    {
     "data": {
      "application/vnd.jupyter.widget-view+json": {
       "model_id": "4cfc883fb24543f7937aab42bad8034e",
       "version_major": 2,
       "version_minor": 0
      },
      "text/plain": [
       "  0%|          | 0/4.0 [00:00<?, ?it/s]"
      ]
     },
     "metadata": {},
     "output_type": "display_data"
    },
    {
     "data": {
      "application/vnd.jupyter.widget-view+json": {
       "model_id": "9bfa2ecaeb1147d1a7f43f6d79acb17c",
       "version_major": 2,
       "version_minor": 0
      },
      "text/plain": [
       "  0%|          | 0/4.0 [00:00<?, ?it/s]"
      ]
     },
     "metadata": {},
     "output_type": "display_data"
    },
    {
     "data": {
      "application/vnd.jupyter.widget-view+json": {
       "model_id": "a77c8a4115c84cafa72225fea283ec71",
       "version_major": 2,
       "version_minor": 0
      },
      "text/plain": [
       "  0%|          | 0/4.0 [00:00<?, ?it/s]"
      ]
     },
     "metadata": {},
     "output_type": "display_data"
    },
    {
     "data": {
      "application/vnd.jupyter.widget-view+json": {
       "model_id": "64f074d6ade74956bb40bfac6bd68fa6",
       "version_major": 2,
       "version_minor": 0
      },
      "text/plain": [
       "  0%|          | 0/4.0 [00:00<?, ?it/s]"
      ]
     },
     "metadata": {},
     "output_type": "display_data"
    },
    {
     "data": {
      "application/vnd.jupyter.widget-view+json": {
       "model_id": "d7e2eb925e1d41578cb8463d98770233",
       "version_major": 2,
       "version_minor": 0
      },
      "text/plain": [
       "  0%|          | 0/4.0 [00:00<?, ?it/s]"
      ]
     },
     "metadata": {},
     "output_type": "display_data"
    },
    {
     "data": {
      "application/vnd.jupyter.widget-view+json": {
       "model_id": "87149e808c1542faa6111955823d86f6",
       "version_major": 2,
       "version_minor": 0
      },
      "text/plain": [
       "  0%|          | 0/4.0 [00:00<?, ?it/s]"
      ]
     },
     "metadata": {},
     "output_type": "display_data"
    },
    {
     "data": {
      "application/vnd.jupyter.widget-view+json": {
       "model_id": "9ddb494bc42b44fc9fb60097b9d0069f",
       "version_major": 2,
       "version_minor": 0
      },
      "text/plain": [
       "  0%|          | 0/4.0 [00:00<?, ?it/s]"
      ]
     },
     "metadata": {},
     "output_type": "display_data"
    },
    {
     "data": {
      "application/vnd.jupyter.widget-view+json": {
       "model_id": "12bce6b4c3b84539a8a64bdb808add2f",
       "version_major": 2,
       "version_minor": 0
      },
      "text/plain": [
       "  0%|          | 0/4.0 [00:00<?, ?it/s]"
      ]
     },
     "metadata": {},
     "output_type": "display_data"
    },
    {
     "data": {
      "application/vnd.jupyter.widget-view+json": {
       "model_id": "5d3c841c1f5d497caba57b8b6d074ac5",
       "version_major": 2,
       "version_minor": 0
      },
      "text/plain": [
       "  0%|          | 0/4.0 [00:00<?, ?it/s]"
      ]
     },
     "metadata": {},
     "output_type": "display_data"
    },
    {
     "data": {
      "application/vnd.jupyter.widget-view+json": {
       "model_id": "c384a7812d2440de8d2f0ab913323abd",
       "version_major": 2,
       "version_minor": 0
      },
      "text/plain": [
       "  0%|          | 0/4.0 [00:00<?, ?it/s]"
      ]
     },
     "metadata": {},
     "output_type": "display_data"
    },
    {
     "data": {
      "application/vnd.jupyter.widget-view+json": {
       "model_id": "a9d930b304004309af11a82ebdab20a2",
       "version_major": 2,
       "version_minor": 0
      },
      "text/plain": [
       "  0%|          | 0/4.0 [00:00<?, ?it/s]"
      ]
     },
     "metadata": {},
     "output_type": "display_data"
    },
    {
     "data": {
      "application/vnd.jupyter.widget-view+json": {
       "model_id": "d70dc66884ab48449546752337212b5d",
       "version_major": 2,
       "version_minor": 0
      },
      "text/plain": [
       "  0%|          | 0/4.0 [00:00<?, ?it/s]"
      ]
     },
     "metadata": {},
     "output_type": "display_data"
    },
    {
     "data": {
      "application/vnd.jupyter.widget-view+json": {
       "model_id": "5d0866678d2e4724b4eb80582840746d",
       "version_major": 2,
       "version_minor": 0
      },
      "text/plain": [
       "  0%|          | 0/4.0 [00:00<?, ?it/s]"
      ]
     },
     "metadata": {},
     "output_type": "display_data"
    },
    {
     "data": {
      "application/vnd.jupyter.widget-view+json": {
       "model_id": "775f5c2eea394690aabedff49edc6e56",
       "version_major": 2,
       "version_minor": 0
      },
      "text/plain": [
       "  0%|          | 0/4.0 [00:00<?, ?it/s]"
      ]
     },
     "metadata": {},
     "output_type": "display_data"
    },
    {
     "data": {
      "application/vnd.jupyter.widget-view+json": {
       "model_id": "f1eb637746d04abeaf1143fd8b27b2df",
       "version_major": 2,
       "version_minor": 0
      },
      "text/plain": [
       "  0%|          | 0/4.0 [00:00<?, ?it/s]"
      ]
     },
     "metadata": {},
     "output_type": "display_data"
    },
    {
     "data": {
      "application/vnd.jupyter.widget-view+json": {
       "model_id": "f5448b83e3264e3588b85a1209c48ee6",
       "version_major": 2,
       "version_minor": 0
      },
      "text/plain": [
       "  0%|          | 0/4.0 [00:00<?, ?it/s]"
      ]
     },
     "metadata": {},
     "output_type": "display_data"
    },
    {
     "data": {
      "application/vnd.jupyter.widget-view+json": {
       "model_id": "fbbbeec2ceef4c2aa7c0babc977bd95a",
       "version_major": 2,
       "version_minor": 0
      },
      "text/plain": [
       "  0%|          | 0/4.0 [00:00<?, ?it/s]"
      ]
     },
     "metadata": {},
     "output_type": "display_data"
    },
    {
     "data": {
      "application/vnd.jupyter.widget-view+json": {
       "model_id": "314776db590848ec9f301a8ea6630506",
       "version_major": 2,
       "version_minor": 0
      },
      "text/plain": [
       "  0%|          | 0/4.0 [00:00<?, ?it/s]"
      ]
     },
     "metadata": {},
     "output_type": "display_data"
    },
    {
     "data": {
      "application/vnd.jupyter.widget-view+json": {
       "model_id": "1e5538989f58437badc468bfe33b791d",
       "version_major": 2,
       "version_minor": 0
      },
      "text/plain": [
       "  0%|          | 0/4.0 [00:00<?, ?it/s]"
      ]
     },
     "metadata": {},
     "output_type": "display_data"
    },
    {
     "data": {
      "application/vnd.jupyter.widget-view+json": {
       "model_id": "ca8d7b9d5bcf45bb89577a262a10ea0c",
       "version_major": 2,
       "version_minor": 0
      },
      "text/plain": [
       "  0%|          | 0/4.0 [00:00<?, ?it/s]"
      ]
     },
     "metadata": {},
     "output_type": "display_data"
    },
    {
     "data": {
      "application/vnd.jupyter.widget-view+json": {
       "model_id": "d68a83f2b4dc4004b36e0c863ede437d",
       "version_major": 2,
       "version_minor": 0
      },
      "text/plain": [
       "  0%|          | 0/4.0 [00:00<?, ?it/s]"
      ]
     },
     "metadata": {},
     "output_type": "display_data"
    },
    {
     "data": {
      "application/vnd.jupyter.widget-view+json": {
       "model_id": "483f03be20154ab3869e53e979b1ad66",
       "version_major": 2,
       "version_minor": 0
      },
      "text/plain": [
       "  0%|          | 0/4.0 [00:00<?, ?it/s]"
      ]
     },
     "metadata": {},
     "output_type": "display_data"
    },
    {
     "data": {
      "application/vnd.jupyter.widget-view+json": {
       "model_id": "486171a5ece84db9b981bdc125929e9f",
       "version_major": 2,
       "version_minor": 0
      },
      "text/plain": [
       "  0%|          | 0/4.0 [00:00<?, ?it/s]"
      ]
     },
     "metadata": {},
     "output_type": "display_data"
    },
    {
     "data": {
      "application/vnd.jupyter.widget-view+json": {
       "model_id": "3a4110af1343461d8b9ad7e0fca6369a",
       "version_major": 2,
       "version_minor": 0
      },
      "text/plain": [
       "  0%|          | 0/4.0 [00:00<?, ?it/s]"
      ]
     },
     "metadata": {},
     "output_type": "display_data"
    },
    {
     "data": {
      "application/vnd.jupyter.widget-view+json": {
       "model_id": "8631fc3f363d42ebbeb84393b12e9281",
       "version_major": 2,
       "version_minor": 0
      },
      "text/plain": [
       "  0%|          | 0/4.0 [00:00<?, ?it/s]"
      ]
     },
     "metadata": {},
     "output_type": "display_data"
    },
    {
     "data": {
      "application/vnd.jupyter.widget-view+json": {
       "model_id": "dc44323c352e4c5285650878b907cc89",
       "version_major": 2,
       "version_minor": 0
      },
      "text/plain": [
       "  0%|          | 0/4.0 [00:00<?, ?it/s]"
      ]
     },
     "metadata": {},
     "output_type": "display_data"
    },
    {
     "data": {
      "application/vnd.jupyter.widget-view+json": {
       "model_id": "c1863aa1bbb146549471260a71ea52f1",
       "version_major": 2,
       "version_minor": 0
      },
      "text/plain": [
       "  0%|          | 0/4.0 [00:00<?, ?it/s]"
      ]
     },
     "metadata": {},
     "output_type": "display_data"
    },
    {
     "data": {
      "application/vnd.jupyter.widget-view+json": {
       "model_id": "04fa3026a0614ff680e9bc2d2e899471",
       "version_major": 2,
       "version_minor": 0
      },
      "text/plain": [
       "  0%|          | 0/4.0 [00:00<?, ?it/s]"
      ]
     },
     "metadata": {},
     "output_type": "display_data"
    },
    {
     "data": {
      "application/vnd.jupyter.widget-view+json": {
       "model_id": "1bc5ccc877c0406a8bd0581f1f50456b",
       "version_major": 2,
       "version_minor": 0
      },
      "text/plain": [
       "  0%|          | 0/4.0 [00:00<?, ?it/s]"
      ]
     },
     "metadata": {},
     "output_type": "display_data"
    },
    {
     "data": {
      "application/vnd.jupyter.widget-view+json": {
       "model_id": "a2d9ae1fa3fa41cd929b73bf73b1009b",
       "version_major": 2,
       "version_minor": 0
      },
      "text/plain": [
       "  0%|          | 0/4.0 [00:00<?, ?it/s]"
      ]
     },
     "metadata": {},
     "output_type": "display_data"
    },
    {
     "data": {
      "application/vnd.jupyter.widget-view+json": {
       "model_id": "22f7a84c7aa849d2a0e83bc3e75f66bf",
       "version_major": 2,
       "version_minor": 0
      },
      "text/plain": [
       "  0%|          | 0/4.0 [00:00<?, ?it/s]"
      ]
     },
     "metadata": {},
     "output_type": "display_data"
    },
    {
     "data": {
      "application/vnd.jupyter.widget-view+json": {
       "model_id": "3e4eff3d95a6431fb16e31cd761fd8a5",
       "version_major": 2,
       "version_minor": 0
      },
      "text/plain": [
       "  0%|          | 0/4.0 [00:00<?, ?it/s]"
      ]
     },
     "metadata": {},
     "output_type": "display_data"
    },
    {
     "data": {
      "application/vnd.jupyter.widget-view+json": {
       "model_id": "090502d8d42b4dd28b23694b9deb82fb",
       "version_major": 2,
       "version_minor": 0
      },
      "text/plain": [
       "  0%|          | 0/4.0 [00:00<?, ?it/s]"
      ]
     },
     "metadata": {},
     "output_type": "display_data"
    },
    {
     "data": {
      "application/vnd.jupyter.widget-view+json": {
       "model_id": "d567d13578684ca19828fb61d36c1cbd",
       "version_major": 2,
       "version_minor": 0
      },
      "text/plain": [
       "  0%|          | 0/4.0 [00:00<?, ?it/s]"
      ]
     },
     "metadata": {},
     "output_type": "display_data"
    },
    {
     "data": {
      "application/vnd.jupyter.widget-view+json": {
       "model_id": "cd8bb41e1e5e420e8fe135eac0433ae6",
       "version_major": 2,
       "version_minor": 0
      },
      "text/plain": [
       "  0%|          | 0/4.0 [00:00<?, ?it/s]"
      ]
     },
     "metadata": {},
     "output_type": "display_data"
    },
    {
     "data": {
      "application/vnd.jupyter.widget-view+json": {
       "model_id": "2f1e1939a291484e9d780fc9e7d8b142",
       "version_major": 2,
       "version_minor": 0
      },
      "text/plain": [
       "  0%|          | 0/4.0 [00:00<?, ?it/s]"
      ]
     },
     "metadata": {},
     "output_type": "display_data"
    },
    {
     "data": {
      "application/vnd.jupyter.widget-view+json": {
       "model_id": "84d6c0ac62da4acbbd324b945e8d2bc5",
       "version_major": 2,
       "version_minor": 0
      },
      "text/plain": [
       "  0%|          | 0/4.0 [00:00<?, ?it/s]"
      ]
     },
     "metadata": {},
     "output_type": "display_data"
    },
    {
     "data": {
      "text/plain": [
       "((50, 40, 64, 64), (8, 40, 64, 64), (8, 40, 64, 64))"
      ]
     },
     "execution_count": 8,
     "metadata": {},
     "output_type": "execute_result"
    }
   ],
   "source": [
    "def generate_example(cos_x_params, sin_x_params, cos_y_params, sin_y_params, diffusivity=0.4):\n",
    "    grid = UnitGrid([64, 64], periodic=[True, True])\n",
    "    # get random init weights\n",
    "    cos_x_inital_weights = [np.random.normal(mu, sigma) for (mu, sigma) in cos_x_params]\n",
    "    sin_x_inital_weights = [np.random.normal(mu, sigma) for (mu, sigma) in sin_x_params]\n",
    "    cos_y_inital_weights = [np.random.normal(mu, sigma) for (mu, sigma) in cos_y_params]\n",
    "    sin_y_inital_weights = [np.random.normal(mu, sigma) for (mu, sigma) in sin_y_params]\n",
    "    # get the string equation\n",
    "    init_equation = generate_string(cos_x_inital_weights)\n",
    "    init_equation += '+' + generate_string(sin_x_inital_weights, opp='sin')\n",
    "    init_equation += '+' + generate_string(cos_y_inital_weights, var='y')\n",
    "    init_equation += '+' + generate_string(sin_y_inital_weights, opp='sin', var='y')\n",
    "    # generate the inital state\n",
    "    state = ScalarField.from_expression(grid, init_equation)\n",
    "    bc_x = 'periodic' #{\"derivative\": 0.0}\n",
    "    bc_y = 'periodic' #{\"derivative\": 0.0}\n",
    "    eq = DiffusionPDE(diffusivity=diffusivity, bc=[bc_x, bc_y])\n",
    "    # get examples\n",
    "    example = []\n",
    "    storage = MemoryStorage()\n",
    "    results = eq.solve(state, t_range=4, dt=0.1, tracker=[\"progress\", storage.tracker(0.1)])\n",
    "    del grid\n",
    "    del state\n",
    "    del eq\n",
    "    gc.collect()\n",
    "\n",
    "    for time_step, field in storage.items():\n",
    "        example.append(np.expand_dims(field.data, axis=0))\n",
    "    example = np.expand_dims(np.concatenate(example.copy()), axis=0)\n",
    "\n",
    "    del storage\n",
    "    del results\n",
    "    gc.collect()\n",
    "    return example\n",
    "\n",
    "cos_x_params = [(1.0, 1.0),(-0.75, 1.0)]\n",
    "sin_x_params = [(-0.25, 1.0),(0.0, 0.1),(2.0, 1.0)]\n",
    "cos_y_params = [(0.0, 0.1),(0.0, 0.1),(0.0, 0.01),(3.0, 1.0)]\n",
    "sin_y_params = [(2.0, 1.25),]\n",
    "\n",
    "def get_diffusivity_sample():\n",
    "    diffusivity = np.random.normal(loc=0.4, scale=0.1)\n",
    "    diffusivity = max(diffusivity, 0.2)\n",
    "    diffusivity = min(diffusivity, 0.6)\n",
    "    return diffusivity\n",
    "\n",
    "train_data = []\n",
    "for train_idx in range(50):\n",
    "    diffusivity = get_diffusivity_sample()\n",
    "    train_data.append(generate_example(cos_x_params, sin_x_params, cos_y_params, sin_y_params, diffusivity=diffusivity))\n",
    "train_data = np.concatenate(train_data)\n",
    "\n",
    "val_data = []\n",
    "for val_idx in range(8):\n",
    "    diffusivity = get_diffusivity_sample()\n",
    "    val_data.append(generate_example(cos_x_params, sin_x_params, cos_y_params, sin_y_params, diffusivity=diffusivity))\n",
    "val_data = np.concatenate(val_data)\n",
    "\n",
    "test_data = []\n",
    "for test_idx in range(8):\n",
    "    diffusivity = get_diffusivity_sample()\n",
    "    test_data.append(generate_example(cos_x_params, sin_x_params, cos_y_params, sin_y_params, diffusivity=diffusivity))\n",
    "test_data = np.concatenate(test_data)\n",
    "\n",
    "with open('heat_sinusoidal_init_varying_diffusivity_periodic_boundaries.npy', mode='wb') as f:\n",
    "    np.save(f, train_data, allow_pickle=True)\n",
    "    np.save(f, val_data, allow_pickle=True)\n",
    "    np.save(f, test_data, allow_pickle=True)\n",
    "\n",
    "train_data.shape, val_data.shape, test_data.shape"
   ]
  },
  {
   "cell_type": "code",
   "execution_count": 7,
   "metadata": {},
   "outputs": [
    {
     "data": {
      "application/vnd.jupyter.widget-view+json": {
       "model_id": "11eedb3c2ee949ee99f64c5071f3831b",
       "version_major": 2,
       "version_minor": 0
      },
      "text/plain": [
       "  0%|          | 0/4.0 [00:00<?, ?it/s]"
      ]
     },
     "metadata": {},
     "output_type": "display_data"
    },
    {
     "data": {
      "application/vnd.jupyter.widget-view+json": {
       "model_id": "b5f0e032a5334dfd872cbd5d5cf097ea",
       "version_major": 2,
       "version_minor": 0
      },
      "text/plain": [
       "  0%|          | 0/40 [00:00<?, ?it/s]"
      ]
     },
     "metadata": {},
     "output_type": "display_data"
    },
    {
     "data": {
      "image/png": "[encoded data removed]",
      "text/plain": [
       "<Figure size 640x480 with 2 Axes>"
      ]
     },
     "metadata": {},
     "output_type": "display_data"
    },
    {
     "data": {
      "text/plain": [
       "<pde.tools.plotting.PlotReference at 0x1695ba7c0>"
      ]
     },
     "execution_count": 7,
     "metadata": {},
     "output_type": "execute_result"
    }
   ],
   "source": [
    "grid = UnitGrid([64, 64], periodic=[True, True])\n",
    "state = ScalarField.random_uniform(grid, 0.0, 1.0)\n",
    "\n",
    "nu = 0.1 / np.pi\n",
    "eq = PDE(\n",
    "    {'u':f'{nu} * (laplace(u) + laplace(u)) - u * (getx(gradient(u)) + gety(gradient(u)))'},\n",
    "    user_funcs={'getx':lambda arr: arr[0], 'gety':lambda arr: arr[1]}\n",
    ")\n",
    "\n",
    "example = []\n",
    "storage = MemoryStorage()\n",
    "results = eq.solve(state, t_range=2, dt=0.1, tracker=[\"progress\", storage.tracker(0.1)])\n",
    "\n",
    "movie(storage, filename=\"example_burgers.mov\")\n",
    "plot_kymograph(storage)\n"
   ]
  },
  {
   "cell_type": "code",
   "execution_count": null,
   "metadata": {},
   "outputs": [],
   "source": []
  },
  {
   "cell_type": "code",
   "execution_count": null,
   "metadata": {},
   "outputs": [],
   "source": []
  },
  {
   "cell_type": "code",
   "execution_count": null,
   "metadata": {},
   "outputs": [],
   "source": []
  },
  {
   "cell_type": "code",
   "execution_count": null,
   "metadata": {},
   "outputs": [],
   "source": []
  },
  {
   "cell_type": "code",
   "execution_count": null,
   "metadata": {},
   "outputs": [],
   "source": []
  },
  {
   "cell_type": "code",
   "execution_count": null,
   "metadata": {},
   "outputs": [],
   "source": []
  },
  {
   "cell_type": "code",
   "execution_count": null,
   "metadata": {},
   "outputs": [],
   "source": [
    "\n",
    "grid = UnitGrid([64, 64], periodic=[False, True])  # generate grid\n",
    "state = ScalarField.random_uniform(grid, 0.0, 1.0)  # generate initial condition\n",
    "\n",
    "bc_x_left = {\"derivative\": 0.0}\n",
    "bc_x_right = {\"value\": 0.0}\n",
    "bc_x = [bc_x_left, bc_x_right]\n",
    "bc_y = \"periodic\"\n",
    "\n",
    "eq = DiffusionPDE(diffusivity=0.4, bc=[bc_x, bc_y])\n",
    "\n",
    "storage = MemoryStorage()\n",
    "results = eq.solve(state, t_range=10, dt=0.1, tracker=[\"progress\", storage.tracker(0.1)])"
   ]
  },
  {
   "cell_type": "code",
   "execution_count": null,
   "metadata": {},
   "outputs": [],
   "source": []
  },
  {
   "cell_type": "code",
   "execution_count": null,
   "metadata": {},
   "outputs": [],
   "source": []
  },
  {
   "cell_type": "code",
   "execution_count": null,
   "metadata": {},
   "outputs": [],
   "source": [
    "import numpy as np\n",
    "np.pi * 2"
   ]
  },
  {
   "cell_type": "code",
   "execution_count": null,
   "metadata": {},
   "outputs": [],
   "source": [
    "def generate_string(params, opp='cos', var='x'):\n",
    "    string = \"\"\n",
    "    for idx, param in enumerate(params):\n",
    "        if(idx == 0):\n",
    "            string += f\"{param}*{opp}({var})\"\n",
    "        else:\n",
    "            string += f\"+{param}*{opp}({var})\"\n",
    "    return string"
   ]
  },
  {
   "cell_type": "code",
   "execution_count": null,
   "metadata": {},
   "outputs": [],
   "source": [
    "def generate_unit_grid(x_dims, y_dims, x_periodic=False, y_periodic=False):\n",
    "    grid = UnitGrid([x_dims, y_dims], periodic=[x_periodic, y_periodic])\n",
    "    return grid\n",
    "\n",
    "def generate_init_field_from_eq(grid, equation):\n",
    "    state = ScalarField.from_expression(grid, equation)\n",
    "    return state\n",
    "\n",
    "def generate_init_field_from_random_uniform(grid, lower, upper):\n",
    "    state = ScalarField.random_uniform(grid, 0.0, 1.0)\n",
    "    return state\n",
    "\n",
    "def generate_init_field_from_random_normal(grid, mu, sigma):\n",
    "    state = ScalarField.random_normal(grid, mean=mu, scaling=sigma)\n",
    "    return state"
   ]
  },
  {
   "cell_type": "code",
   "execution_count": null,
   "metadata": {},
   "outputs": [],
   "source": [
    "def generate_boundary_conditions()"
   ]
  },
  {
   "cell_type": "code",
   "execution_count": null,
   "metadata": {},
   "outputs": [],
   "source": [
    "from pde import DiffusionPDE, ScalarField, UnitGrid, CartesianGrid, MemoryStorage\n",
    "\n",
    "grid = UnitGrid([64, 64], periodic=[False, True])  # generate grid\n",
    "state = ScalarField.from_expression(grid, \"0.5*cos(x)-0.25*cos(y)\")  # generate initial condition\n",
    "\n",
    "bc_x_left = {\"derivative\": 0.0}\n",
    "bc_x_right = {\"value\": 0.0}\n",
    "bc_x = [bc_x_left, bc_x_right]\n",
    "bc_y = \"periodic\"\n",
    "\n",
    "eq = DiffusionPDE(diffusivity=0.4, bc=[bc_x, bc_y])\n",
    "\n",
    "storage = MemoryStorage()\n",
    "results = eq.solve(state, t_range=10, dt=0.1, tracker=[\"progress\", storage.tracker(0.1)])"
   ]
  },
  {
   "cell_type": "code",
   "execution_count": null,
   "metadata": {},
   "outputs": [],
   "source": [
    "for time, field in storage.items():\n",
    "    print(time, field)"
   ]
  },
  {
   "cell_type": "code",
   "execution_count": null,
   "metadata": {},
   "outputs": [],
   "source": [
    "MemoryStorage?"
   ]
  },
  {
   "cell_type": "code",
   "execution_count": null,
   "metadata": {},
   "outputs": [],
   "source": [
    "results = eq.solve(state, t_range=2, dt=0.1)\n",
    "results"
   ]
  },
  {
   "cell_type": "code",
   "execution_count": null,
   "metadata": {},
   "outputs": [],
   "source": [
    "results1"
   ]
  },
  {
   "cell_type": "code",
   "execution_count": null,
   "metadata": {},
   "outputs": [],
   "source": [
    "results2"
   ]
  },
  {
   "cell_type": "code",
   "execution_count": null,
   "metadata": {},
   "outputs": [],
   "source": [
    "\n",
    "# set boundary conditions `bc` for all axes\n",
    "bc_x_left = {\"derivative\": 0.1}\n",
    "bc_x_right = {\"value\": \"sin(y / 2)\"}\n",
    "bc_x = [bc_x_left, bc_x_right]\n",
    "bc_y = \"periodic\"\n",
    "eq = DiffusionPDE(bc=[bc_x, bc_y])\n",
    "\n",
    "result = eq.solve(state, t_range=10, dt=0.005)\n",
    "# results\n",
    "result"
   ]
  },
  {
   "cell_type": "code",
   "execution_count": null,
   "metadata": {},
   "outputs": [],
   "source": [
    "import autograd.numpy as np\n",
    "from autograd import grad, hessian"
   ]
  },
  {
   "cell_type": "code",
   "execution_count": null,
   "metadata": {},
   "outputs": [],
   "source": [
    "def init_conditions(x, y):\n",
    "    t = np.cos(x) + np.cos(y)\n",
    "    return t"
   ]
  },
  {
   "cell_type": "code",
   "execution_count": null,
   "metadata": {},
   "outputs": [],
   "source": [
    "grad_init = hessian(init_conditions)\n",
    "grad_init(0.0, 0.0)"
   ]
  },
  {
   "cell_type": "code",
   "execution_count": null,
   "metadata": {},
   "outputs": [],
   "source": [
    "import numpy as np"
   ]
  },
  {
   "cell_type": "code",
   "execution_count": null,
   "metadata": {},
   "outputs": [],
   "source": [
    "x = np.linspace(start=0, stop=1, num=128)\n",
    "y = np.linspace(start=0, stop=1, num=128)\n",
    "x, y = np.meshgrid(x, y)"
   ]
  },
  {
   "cell_type": "code",
   "execution_count": null,
   "metadata": {},
   "outputs": [],
   "source": [
    "x, y = np.meshgrid()"
   ]
  },
  {
   "cell_type": "code",
   "execution_count": null,
   "metadata": {},
   "outputs": [],
   "source": [
    "x = np.random.uniform(low=0, high=1, size=100)\n",
    "x"
   ]
  },
  {
   "cell_type": "code",
   "execution_count": null,
   "metadata": {},
   "outputs": [],
   "source": [
    "def step_in_time(x):\n",
    "    "
   ]
  },
  {
   "cell_type": "code",
   "execution_count": null,
   "metadata": {},
   "outputs": [],
   "source": []
  },
  {
   "cell_type": "code",
   "execution_count": null,
   "metadata": {},
   "outputs": [],
   "source": []
  },
  {
   "cell_type": "code",
   "execution_count": null,
   "metadata": {},
   "outputs": [],
   "source": [
    "def next_(u):\n",
    "    0.4 * (\n",
    "        np.roll(u, 1, axis=0) + \n",
    "        np.roll(u, -1, axis=0) + \n",
    "        np.roll(u, 1, axis=1) + \n",
    "        np.roll(u, -1, axis=1) -\n",
    "        4 * u\n",
    "    ) + u\n",
    "    "
   ]
  },
  {
   "cell_type": "code",
   "execution_count": null,
   "metadata": {},
   "outputs": [],
   "source": [
    "x = torch.tensor(np.pi / 4.1, requires_grad=True) #np.linspace(start=0, stop=2*np.pi, num=100), requires_grad=True)\n",
    "y = torch.cos(x)\n",
    "y.backward()\n",
    "x.grad"
   ]
  },
  {
   "cell_type": "code",
   "execution_count": null,
   "metadata": {},
   "outputs": [],
   "source": [
    "import deepxde as dde"
   ]
  },
  {
   "cell_type": "code",
   "execution_count": null,
   "metadata": {},
   "outputs": [],
   "source": [
    "ALPHA = 0.01\n",
    "\n",
    "def pde(X, T):\n",
    "    dT_xx = dde.grad.hessian(T, X, j=0)\n",
    "    dT_yy = dde.grad.hessian(T, X, j=1)\n",
    "    dT_t = dde.grad.jacobian(T, X, j=2)\n",
    "    return dT_t - (ALPHA * (dT_xx + dT_yy))"
   ]
  },
  {
   "cell_type": "code",
   "execution_count": null,
   "metadata": {},
   "outputs": [],
   "source": [
    "# Define the initial condition\n",
    "def initial_condition(x, y):\n",
    "    return np.exp(-(x**2 + y**2))"
   ]
  },
  {
   "cell_type": "code",
   "execution_count": null,
   "metadata": {},
   "outputs": [],
   "source": [
    "# Define the geometry\n",
    "geom = dde.geometry.Rectangle([0, 0], [1, 1])\n",
    "geom"
   ]
  },
  {
   "cell_type": "code",
   "execution_count": null,
   "metadata": {},
   "outputs": [],
   "source": [
    "timedomain = dde.geometry.TimeDomain(0, 50)\n",
    "timedomain"
   ]
  },
  {
   "cell_type": "code",
   "execution_count": null,
   "metadata": {},
   "outputs": [],
   "source": [
    "geomtime = dde.geometry.GeometryXTime(geom, timedomain)\n",
    "geomtime"
   ]
  },
  {
   "cell_type": "code",
   "execution_count": null,
   "metadata": {},
   "outputs": [],
   "source": [
    "T0 = 300\n",
    "Tinit = 1000\n",
    "\n",
    "def func(x):\n",
    "    return np.ones((len(x),1), dtype=np.float32)*T0\n",
    "\n",
    "def func_n(x):\n",
    "    return np.zeros((len(x),1), dtype=np.float32)\n",
    "\n",
    "def func_init(x):\n",
    "    return np.ones((len(x),1), dtype=np.float32)*Tinit"
   ]
  },
  {
   "cell_type": "code",
   "execution_count": null,
   "metadata": {},
   "outputs": [],
   "source": [
    "def boundary_x_l(x, on_boundary):\n",
    "    return on_boundary and np.isclose(x[0], 0)\n",
    "\n",
    "def boundary_x_r(x, on_boundary):\n",
    "    return on_boundary and np.isclose(x[0], 1)\n",
    "\n",
    "def boundary_y_b(x, on_boundary):\n",
    "    return on_boundary and np.isclose(x[1], 0)\n",
    "\n",
    "def boundary_y_u(x, on_boundary):\n",
    "    return on_boundary and np.isclose(x[1], 1)"
   ]
  },
  {
   "cell_type": "code",
   "execution_count": null,
   "metadata": {},
   "outputs": [],
   "source": [
    "bc_x_l = dde.DirichletBC(geomtime, func, boundary_x_l)\n",
    "bc_x_r = dde.DirichletBC(geomtime, func, boundary_x_r)\n",
    "bc_y_b = dde.DirichletBC(geomtime, func, boundary_y_b)\n",
    "bc_y_u = dde.NeumannBC(geomtime, func_n, boundary_y_u)\n",
    "ic = dde.IC(geomtime, func_init, lambda _, on_initial: on_initial)"
   ]
  },
  {
   "cell_type": "code",
   "execution_count": null,
   "metadata": {},
   "outputs": [],
   "source": [
    "data = dde.data.TimePDE(\n",
    "    geomtime,\n",
    "    pde, \n",
    "    [bc_x_l, bc_x_r, bc_y_b, bc_y_u, ic],\n",
    "    num_domain=1000,\n",
    "    num_boundary=1000,\n",
    "    num_initial=1000,\n",
    ")"
   ]
  },
  {
   "cell_type": "code",
   "execution_count": null,
   "metadata": {},
   "outputs": [],
   "source": [
    "data.train_next_batch()\n",
    "data.\n"
   ]
  },
  {
   "cell_type": "code",
   "execution_count": null,
   "metadata": {},
   "outputs": [],
   "source": []
  },
  {
   "cell_type": "code",
   "execution_count": null,
   "metadata": {},
   "outputs": [],
   "source": [
    "data.test()"
   ]
  },
  {
   "cell_type": "code",
   "execution_count": null,
   "metadata": {},
   "outputs": [],
   "source": [
    "net = dde.nn.FNN([1000], \"tanh\", \"Glorot normal\")"
   ]
  },
  {
   "cell_type": "code",
   "execution_count": null,
   "metadata": {},
   "outputs": [],
   "source": [
    "model = dde.Model(data, net)\n",
    "model.compile(\"adam\", lr=1e-3)"
   ]
  },
  {
   "cell_type": "code",
   "execution_count": null,
   "metadata": {},
   "outputs": [],
   "source": [
    "losshistory, train_state = model.train(iterations=20000)"
   ]
  },
  {
   "cell_type": "code",
   "execution_count": null,
   "metadata": {},
   "outputs": [],
   "source": []
  },
  {
   "cell_type": "code",
   "execution_count": null,
   "metadata": {},
   "outputs": [],
   "source": [
    "data.update()"
   ]
  },
  {
   "cell_type": "code",
   "execution_count": null,
   "metadata": {},
   "outputs": [],
   "source": [
    "data.get_x()"
   ]
  },
  {
   "cell_type": "code",
   "execution_count": null,
   "metadata": {},
   "outputs": [],
   "source": [
    "\n",
    "initial_condition_data = dde.data.PDE(geom, heat_equation, lambda _, on_initial: initial_condition(*on_initial), num_domain=1000, num_boundary=100)"
   ]
  },
  {
   "cell_type": "code",
   "execution_count": null,
   "metadata": {},
   "outputs": [],
   "source": [
    "x = np.linspace(start=0, stop=2*np.pi, num=100)\n",
    "y = np.cos(x)\n",
    "\n",
    "dde.grad.jacobian(x, y)"
   ]
  },
  {
   "cell_type": "code",
   "execution_count": null,
   "metadata": {},
   "outputs": [],
   "source": []
  }
 ],
 "metadata": {
  "kernelspec": {
   "display_name": "pytorch",
   "language": "python",
   "name": "python3"
  },
  "language_info": {
   "codemirror_mode": {
    "name": "ipython",
    "version": 3
   },
   "file_extension": ".py",
   "mimetype": "text/x-python",
   "name": "python",
   "nbconvert_exporter": "python",
   "pygments_lexer": "ipython3",
   "version": "3.11.6"
  }
 },
 "nbformat": 4,
 "nbformat_minor": 2
}
